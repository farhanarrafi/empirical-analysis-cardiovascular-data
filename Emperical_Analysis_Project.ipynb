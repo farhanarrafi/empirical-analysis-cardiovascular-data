{
  "nbformat": 4,
  "nbformat_minor": 0,
  "metadata": {
    "colab": {
      "provenance": [],
      "authorship_tag": "ABX9TyMEjVjmwFITuS1khjiq3+mO",
      "include_colab_link": true
    },
    "kernelspec": {
      "name": "python3",
      "display_name": "Python 3"
    },
    "language_info": {
      "name": "python"
    }
  },
  "cells": [
    {
      "cell_type": "markdown",
      "metadata": {
        "id": "view-in-github",
        "colab_type": "text"
      },
      "source": [
        "<a href=\"https://colab.research.google.com/github/farhanarrafi/empirical-analysis-project/blob/main/Emperical_Analysis_Project.ipynb\" target=\"_parent\"><img src=\"https://colab.research.google.com/assets/colab-badge.svg\" alt=\"Open In Colab\"/></a>"
      ]
    },
    {
      "cell_type": "markdown",
      "source": [
        "# Cardiovascular Data Analysis using Statistical Methods"
      ],
      "metadata": {
        "id": "S5B5HWsumHos"
      }
    },
    {
      "cell_type": "markdown",
      "source": [
        "## Feature Description\n",
        "\n",
        "\n",
        "age: Age of the patient in days.\n",
        ".\n",
        "gender: Gender of the patient. Categorical variable (1: Female, 2: Male).\n",
        "height: Height of the patient in centimeters.\n",
        "weight: Weight of the patient in kilograms.\n",
        "ap_hi: Systolic blood pressure.\n",
        "ap_lo: Diastolic blood pressure.\n",
        "\n",
        "* ID: Unique identifier for each patient.\n",
        "* age_years: Age of the patient in years\n",
        "* height: Height of the patient in centimeters.\n",
        "* weight: Weight of the patient in kilograms.\n",
        "* ap_hi: Systolic blood pressure.\n",
        "* ap_lo: Diastolic blood pressure.\n",
        "* bmi: Body Mass Index, derived from weight and height. Calculated as *BMI = weight / height^2*\n",
        "* bp_category: Blood pressure category based on ap_hi and ap_lo. Categories include \"Normal\", \"Elevated\", \"Hypertension Stage 1\", \"Hypertension Stage 2\", and \"Hypertensive Crisis\".\n",
        "\n"
      ],
      "metadata": {
        "id": "hGIda945k3YD"
      }
    },
    {
      "cell_type": "markdown",
      "source": [
        "## Data Import"
      ],
      "metadata": {
        "id": "buR8q5-8mSJF"
      }
    },
    {
      "cell_type": "markdown",
      "source": [
        "Dataset srouce: https://www.kaggle.com/datasets/colewelkins/cardiovascular-disease\n"
      ],
      "metadata": {
        "id": "T8lRGlkx9Tyq"
      }
    },
    {
      "cell_type": "code",
      "execution_count": null,
      "metadata": {
        "id": "pCaJR3dp8GvY"
      },
      "outputs": [],
      "source": [
        "import os.path\n",
        "import json\n",
        "\n",
        "\n",
        "api_token = {\"username\":\"farhanarrafi\",\"key\":\"074ead27713d782ad86b0e445765e799\"}\n",
        "\n",
        "if not os.path.isdir('/root/.kaggle'):\n",
        "  ! mkdir ~/.kaggle\n",
        "  ! touch ~/.kaggle/kaggle.json\n",
        "  with open('/root/.kaggle/kaggle.json', 'w') as file:\n",
        "      json.dump(api_token, file)\n",
        "  !chmod 600 ~/.kaggle/kaggle.json\n",
        "\n",
        "#! kaggle datasets list"
      ]
    },
    {
      "cell_type": "code",
      "source": [
        "if not os.path.isfile('cardio_data_processed.csv'):\n",
        "  ! kaggle datasets download -d colewelkins/cardiovascular-disease\n",
        "  ! unzip cardiovascular-disease.zip\n",
        "  ! rm -rf cardiovascular-disease.zip"
      ],
      "metadata": {
        "id": "UMs5FVX78a-z"
      },
      "execution_count": null,
      "outputs": []
    },
    {
      "cell_type": "code",
      "source": [
        "import numpy as np # linear algebra\n",
        "import pandas as pd # data processing, CSV file I/O (e.g. pd.read_csv)\n",
        "\n",
        "cardioVascular_dataset = pd.read_csv('cardio_data_processed.csv')\n",
        "\n",
        "# Remove columns\n",
        "cardioVascular_dataset = cardioVascular_dataset.drop(axis='columns', columns=['age','gender', 'cholesterol','gluc','smoke','alco', 'active','cardio', 'bp_category_encoded'])\n",
        "# Setting index\n",
        "cardioVascular_dataset = cardioVascular_dataset.set_index('id')\n",
        "# Remove bp categories other than Hypertension Stage 1 and 2\n",
        "cardioVascular_dataset_filtered = cardioVascular_dataset.loc[(cardioVascular_dataset['bp_category'] == 'Hypertension Stage 1') |  (cardioVascular_dataset['bp_category'] == 'Hypertension Stage 2')]\n",
        "# Select first 2000\n",
        "cardioVascular_dataset_filtered = cardioVascular_dataset_filtered.sample(5000, random_state=111)\n",
        "# Check for null values\n",
        "cardioVascular_dataset_filtered.isna().sum().sum()"
      ],
      "metadata": {
        "id": "UXAwWh5iAcbf",
        "colab": {
          "base_uri": "https://localhost:8080/"
        },
        "outputId": "41798298-e451-4f30-cba9-052a775b17b8"
      },
      "execution_count": null,
      "outputs": [
        {
          "output_type": "execute_result",
          "data": {
            "text/plain": [
              "0"
            ]
          },
          "metadata": {},
          "execution_count": 64
        }
      ]
    },
    {
      "cell_type": "code",
      "source": [
        "len(cardioVascular_dataset_filtered)"
      ],
      "metadata": {
        "id": "xdXCAeeSDL8q",
        "colab": {
          "base_uri": "https://localhost:8080/"
        },
        "outputId": "140e05ac-c37c-4bc5-cd1f-cc2eadbb687c"
      },
      "execution_count": null,
      "outputs": [
        {
          "output_type": "execute_result",
          "data": {
            "text/plain": [
              "5000"
            ]
          },
          "metadata": {},
          "execution_count": 65
        }
      ]
    },
    {
      "cell_type": "code",
      "source": [
        "cardioVascular_dataset_filtered['weight'].plot.density()"
      ],
      "metadata": {
        "colab": {
          "base_uri": "https://localhost:8080/",
          "height": 447
        },
        "id": "H6Oza8DGHAaS",
        "outputId": "398e4036-5767-4de1-a4a1-50c347daee3f"
      },
      "execution_count": null,
      "outputs": [
        {
          "output_type": "execute_result",
          "data": {
            "text/plain": [
              "<Axes: ylabel='Density'>"
            ]
          },
          "metadata": {},
          "execution_count": 66
        },
        {
          "output_type": "display_data",
          "data": {
            "text/plain": [
              "<Figure size 640x480 with 1 Axes>"
            ],
            "image/png": "[encoded data removed]"
          },
          "metadata": {}
        }
      ]
    },
    {
      "cell_type": "code",
      "source": [
        "samples = cardioVascular_dataset_filtered.sample(100, random_state=1199)\n",
        "# Check for null values https://stackoverflow.com/a/69622929/3148856\n",
        "samples.isna().sum().sum()"
      ],
      "metadata": {
        "colab": {
          "base_uri": "https://localhost:8080/"
        },
        "id": "aR497Q3YbuH6",
        "outputId": "2a9edade-460c-43ec-b4bf-53602fb168fd"
      },
      "execution_count": null,
      "outputs": [
        {
          "output_type": "execute_result",
          "data": {
            "text/plain": [
              "0"
            ]
          },
          "metadata": {},
          "execution_count": 67
        }
      ]
    },
    {
      "cell_type": "code",
      "source": [
        "samples.max()"
      ],
      "metadata": {
        "colab": {
          "base_uri": "https://localhost:8080/"
        },
        "id": "h1G7fQJCj9cu",
        "outputId": "fd710a9c-abb7-4616-d391-e0198231114a"
      },
      "execution_count": null,
      "outputs": [
        {
          "output_type": "execute_result",
          "data": {
            "text/plain": [
              "height                          189\n",
              "weight                        129.0\n",
              "ap_hi                           180\n",
              "ap_lo                           120\n",
              "age_years                        64\n",
              "bmi                       41.007403\n",
              "bp_category    Hypertension Stage 2\n",
              "dtype: object"
            ]
          },
          "metadata": {},
          "execution_count": 68
        }
      ]
    },
    {
      "cell_type": "code",
      "source": [
        "samples.min()"
      ],
      "metadata": {
        "colab": {
          "base_uri": "https://localhost:8080/"
        },
        "id": "ckNAm5fdkf3H",
        "outputId": "049e141a-bd30-4f9e-8b81-f8c29897bf54"
      },
      "execution_count": null,
      "outputs": [
        {
          "output_type": "execute_result",
          "data": {
            "text/plain": [
              "height                          148\n",
              "weight                         50.0\n",
              "ap_hi                           100\n",
              "ap_lo                            70\n",
              "age_years                        39\n",
              "bmi                       16.514731\n",
              "bp_category    Hypertension Stage 1\n",
              "dtype: object"
            ]
          },
          "metadata": {},
          "execution_count": 69
        }
      ]
    },
    {
      "cell_type": "code",
      "source": [
        "samples[samples['weight'] <= 50]"
      ],
      "metadata": {
        "colab": {
          "base_uri": "https://localhost:8080/",
          "height": 112
        },
        "id": "DkFKcdCYkLy-",
        "outputId": "c578f682-f357-4930-ed98-ef52141c484e"
      },
      "execution_count": null,
      "outputs": [
        {
          "output_type": "execute_result",
          "data": {
            "text/plain": [
              "       height  weight  ap_hi  ap_lo  age_years        bmi  \\\n",
              "id                                                          \n",
              "27835     174    50.0    120     80         41  16.514731   \n",
              "\n",
              "                bp_category  \n",
              "id                           \n",
              "27835  Hypertension Stage 1  "
            ],
            "text/html": [
              "\n",
              "  <div id=\"df-ca3b54bd-025c-4ba8-aa6d-1e3e9510ad48\" class=\"colab-df-container\">\n",
              "    <div>\n",
              "<style scoped>\n",
              "    .dataframe tbody tr th:only-of-type {\n",
              "        vertical-align: middle;\n",
              "    }\n",
              "\n",
              "    .dataframe tbody tr th {\n",
              "        vertical-align: top;\n",
              "    }\n",
              "\n",
              "    .dataframe thead th {\n",
              "        text-align: right;\n",
              "    }\n",
              "</style>\n",
              "<table border=\"1\" class=\"dataframe\">\n",
              "  <thead>\n",
              "    <tr style=\"text-align: right;\">\n",
              "      <th></th>\n",
              "      <th>height</th>\n",
              "      <th>weight</th>\n",
              "      <th>ap_hi</th>\n",
              "      <th>ap_lo</th>\n",
              "      <th>age_years</th>\n",
              "      <th>bmi</th>\n",
              "      <th>bp_category</th>\n",
              "    </tr>\n",
              "    <tr>\n",
              "      <th>id</th>\n",
              "      <th></th>\n",
              "      <th></th>\n",
              "      <th></th>\n",
              "      <th></th>\n",
              "      <th></th>\n",
              "      <th></th>\n",
              "      <th></th>\n",
              "    </tr>\n",
              "  </thead>\n",
              "  <tbody>\n",
              "    <tr>\n",
              "      <th>27835</th>\n",
              "      <td>174</td>\n",
              "      <td>50.0</td>\n",
              "      <td>120</td>\n",
              "      <td>80</td>\n",
              "      <td>41</td>\n",
              "      <td>16.514731</td>\n",
              "      <td>Hypertension Stage 1</td>\n",
              "    </tr>\n",
              "  </tbody>\n",
              "</table>\n",
              "</div>\n",
              "    <div class=\"colab-df-buttons\">\n",
              "\n",
              "  <div class=\"colab-df-container\">\n",
              "    <button class=\"colab-df-convert\" onclick=\"convertToInteractive('df-ca3b54bd-025c-4ba8-aa6d-1e3e9510ad48')\"\n",
              "            title=\"Convert this dataframe to an interactive table.\"\n",
              "            style=\"display:none;\">\n",
              "\n",
              "  <svg xmlns=\"http://www.w3.org/2000/svg\" height=\"24px\" viewBox=\"0 -960 960 960\">\n",
              "    <path d=\"M120-120v-720h720v720H120Zm60-500h600v-160H180v160Zm220 220h160v-160H400v160Zm0 220h160v-160H400v160ZM180-400h160v-160H180v160Zm440 0h160v-160H620v160ZM180-180h160v-160H180v160Zm440 0h160v-160H620v160Z\"/>\n",
              "  </svg>\n",
              "    </button>\n",
              "\n",
              "  <style>\n",
              "    .colab-df-container {\n",
              "      display:flex;\n",
              "      gap: 12px;\n",
              "    }\n",
              "\n",
              "    .colab-df-convert {\n",
              "      background-color: #E8F0FE;\n",
              "      border: none;\n",
              "      border-radius: 50%;\n",
              "      cursor: pointer;\n",
              "      display: none;\n",
              "      fill: #1967D2;\n",
              "      height: 32px;\n",
              "      padding: 0 0 0 0;\n",
              "      width: 32px;\n",
              "    }\n",
              "\n",
              "    .colab-df-convert:hover {\n",
              "      background-color: #E2EBFA;\n",
              "      box-shadow: 0px 1px 2px rgba(60, 64, 67, 0.3), 0px 1px 3px 1px rgba(60, 64, 67, 0.15);\n",
              "      fill: #174EA6;\n",
              "    }\n",
              "\n",
              "    .colab-df-buttons div {\n",
              "      margin-bottom: 4px;\n",
              "    }\n",
              "\n",
              "    [theme=dark] .colab-df-convert {\n",
              "      background-color: #3B4455;\n",
              "      fill: #D2E3FC;\n",
              "    }\n",
              "\n",
              "    [theme=dark] .colab-df-convert:hover {\n",
              "      background-color: #434B5C;\n",
              "      box-shadow: 0px 1px 3px 1px rgba(0, 0, 0, 0.15);\n",
              "      filter: drop-shadow(0px 1px 2px rgba(0, 0, 0, 0.3));\n",
              "      fill: #FFFFFF;\n",
              "    }\n",
              "  </style>\n",
              "\n",
              "    <script>\n",
              "      const buttonEl =\n",
              "        document.querySelector('#df-ca3b54bd-025c-4ba8-aa6d-1e3e9510ad48 button.colab-df-convert');\n",
              "      buttonEl.style.display =\n",
              "        google.colab.kernel.accessAllowed ? 'block' : 'none';\n",
              "\n",
              "      async function convertToInteractive(key) {\n",
              "        const element = document.querySelector('#df-ca3b54bd-025c-4ba8-aa6d-1e3e9510ad48');\n",
              "        const dataTable =\n",
              "          await google.colab.kernel.invokeFunction('convertToInteractive',\n",
              "                                                    [key], {});\n",
              "        if (!dataTable) return;\n",
              "\n",
              "        const docLinkHtml = 'Like what you see? Visit the ' +\n",
              "          '<a target=\"_blank\" href=https://colab.research.google.com/notebooks/data_table.ipynb>data table notebook</a>'\n",
              "          + ' to learn more about interactive tables.';\n",
              "        element.innerHTML = '';\n",
              "        dataTable['output_type'] = 'display_data';\n",
              "        await google.colab.output.renderOutput(dataTable, element);\n",
              "        const docLink = document.createElement('div');\n",
              "        docLink.innerHTML = docLinkHtml;\n",
              "        element.appendChild(docLink);\n",
              "      }\n",
              "    </script>\n",
              "  </div>\n",
              "\n",
              "    </div>\n",
              "  </div>\n"
            ]
          },
          "metadata": {},
          "execution_count": 70
        }
      ]
    },
    {
      "cell_type": "code",
      "source": [
        "samples['weight'].plot.density()"
      ],
      "metadata": {
        "colab": {
          "base_uri": "https://localhost:8080/",
          "height": 447
        },
        "id": "NszAzupdre_O",
        "outputId": "7545bf1a-0dd5-40aa-a1af-fd537736980e"
      },
      "execution_count": null,
      "outputs": [
        {
          "output_type": "execute_result",
          "data": {
            "text/plain": [
              "<Axes: ylabel='Density'>"
            ]
          },
          "metadata": {},
          "execution_count": 71
        },
        {
          "output_type": "display_data",
          "data": {
            "text/plain": [
              "<Figure size 640x480 with 1 Axes>"
            ],
            "image/png": "[encoded data removed]"
          },
          "metadata": {}
        }
      ]
    },
    {
      "cell_type": "code",
      "source": [
        "samples['weight'].hist()"
      ],
      "metadata": {
        "id": "2Uj1AOP2Thfn",
        "outputId": "fb347629-0fca-4518-fb8a-9a5d1760f8ea",
        "colab": {
          "base_uri": "https://localhost:8080/",
          "height": 449
        }
      },
      "execution_count": null,
      "outputs": [
        {
          "output_type": "execute_result",
          "data": {
            "text/plain": [
              "<Axes: >"
            ]
          },
          "metadata": {},
          "execution_count": 72
        },
        {
          "output_type": "display_data",
          "data": {
            "text/plain": [
              "<Figure size 640x480 with 1 Axes>"
            ],
            "image/png": "[encoded data removed]"
          },
          "metadata": {}
        }
      ]
    },
    {
      "cell_type": "code",
      "source": [
        "# Grid code was provided by Chat GPT version 3 using the prompt - [how to print one column data contaning 20 items from a dataframe into a 4 by 5 grid]\n",
        "# Reshape the 1D array into a 2D array with a shape of (4, 5)\n",
        "grid_data = np.reshape(samples['weight'].to_numpy(), (10, 10))\n",
        "\n",
        "# Loop through rows and print the data\n",
        "for row in grid_data:\n",
        "    print(','.join(map(str, row)))"
      ],
      "metadata": {
        "colab": {
          "base_uri": "https://localhost:8080/"
        },
        "id": "J3r_5aEa0kfm",
        "outputId": "59c7d9f5-f772-4bbc-cada-a94b74305810"
      },
      "execution_count": null,
      "outputs": [
        {
          "output_type": "stream",
          "name": "stdout",
          "text": [
            "65.0,78.0,75.0,72.0,85.0,70.0,100.0,70.0,98.0,86.0\n",
            "97.0,129.0,108.0,79.0,63.0,80.0,75.0,63.0,75.0,52.0\n",
            "63.0,70.0,87.0,87.0,88.0,59.0,80.0,89.0,72.0,65.0\n",
            "83.0,80.0,62.0,80.0,64.0,62.0,80.0,75.0,84.0,68.0\n",
            "78.0,66.0,71.0,91.0,59.0,80.0,50.0,53.0,76.0,68.0\n",
            "73.0,58.0,86.0,100.0,87.0,71.0,80.0,66.0,68.0,62.0\n",
            "69.0,80.0,69.0,65.0,65.0,67.0,62.0,76.0,88.0,92.0\n",
            "86.0,82.0,97.0,102.0,89.0,65.0,71.0,76.0,69.0,58.0\n",
            "65.0,70.0,113.0,69.0,73.0,78.0,72.0,95.0,85.0,104.0\n",
            "82.0,65.0,87.0,70.0,84.0,80.0,74.0,74.0,79.0,71.0\n"
          ]
        }
      ]
    },
    {
      "cell_type": "code",
      "source": [
        "samples.mean()"
      ],
      "metadata": {
        "colab": {
          "base_uri": "https://localhost:8080/"
        },
        "id": "1cx9u883eEbo",
        "outputId": "be2549ee-77f8-420e-b14d-d15388f2a483"
      },
      "execution_count": null,
      "outputs": [
        {
          "output_type": "stream",
          "name": "stderr",
          "text": [
            "<ipython-input-74-8111d020ec13>:1: FutureWarning: The default value of numeric_only in DataFrame.mean is deprecated. In a future version, it will default to False. In addition, specifying 'numeric_only=None' is deprecated. Select only valid columns or specify the value of numeric_only to silence this warning.\n",
            "  samples.mean()\n"
          ]
        },
        {
          "output_type": "execute_result",
          "data": {
            "text/plain": [
              "height       163.890000\n",
              "weight        76.790000\n",
              "ap_hi        130.100000\n",
              "ap_lo         84.870000\n",
              "age_years     53.520000\n",
              "bmi           28.611298\n",
              "dtype: float64"
            ]
          },
          "metadata": {},
          "execution_count": 74
        }
      ]
    },
    {
      "cell_type": "code",
      "source": [
        "samples.std()"
      ],
      "metadata": {
        "colab": {
          "base_uri": "https://localhost:8080/"
        },
        "id": "x0giul5PfPeV",
        "outputId": "6904346e-2175-4586-8f11-d0053138d43f"
      },
      "execution_count": null,
      "outputs": [
        {
          "output_type": "stream",
          "name": "stderr",
          "text": [
            "<ipython-input-75-70cfbb258cf1>:1: FutureWarning: The default value of numeric_only in DataFrame.std is deprecated. In a future version, it will default to False. In addition, specifying 'numeric_only=None' is deprecated. Select only valid columns or specify the value of numeric_only to silence this warning.\n",
            "  samples.std()\n"
          ]
        },
        {
          "output_type": "execute_result",
          "data": {
            "text/plain": [
              "height        8.247307\n",
              "weight       13.584970\n",
              "ap_hi        14.615959\n",
              "ap_lo         7.950167\n",
              "age_years     6.802376\n",
              "bmi           4.642349\n",
              "dtype: float64"
            ]
          },
          "metadata": {},
          "execution_count": 75
        }
      ]
    },
    {
      "cell_type": "markdown",
      "source": [
        "# References\n",
        "\n",
        "\n",
        "1.   https://stackoverflow.com/a/57401752\n",
        "\n"
      ],
      "metadata": {
        "id": "bQhy2aQf_BaO"
      }
    }
  ]
}