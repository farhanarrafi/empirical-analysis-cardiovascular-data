{
  "nbformat": 4,
  "nbformat_minor": 0,
  "metadata": {
    "colab": {
      "provenance": [],
      "toc_visible": true,
      "authorship_tag": "ABX9TyPFaLhO7RGdwEfUOYbJZkf/",
      "include_colab_link": true
    },
    "kernelspec": {
      "name": "python3",
      "display_name": "Python 3"
    },
    "language_info": {
      "name": "python"
    }
  },
  "cells": [
    {
      "cell_type": "markdown",
      "metadata": {
        "id": "view-in-github",
        "colab_type": "text"
      },
      "source": [
        "<a href=\"https://colab.research.google.com/github/farhanarrafi/empirical-analysis-cardiovascular-data/blob/main/Emperical_Analysis_Project.ipynb\" target=\"_parent\"><img src=\"https://colab.research.google.com/assets/colab-badge.svg\" alt=\"Open In Colab\"/></a>"
      ]
    },
    {
      "cell_type": "markdown",
      "source": [
        "# Cardiovascular Data Analysis using Statistical Methods"
      ],
      "metadata": {
        "id": "S5B5HWsumHos"
      }
    },
    {
      "cell_type": "markdown",
      "source": [
        "## Feature Description\n",
        "\n",
        "\n",
        "age: Age of the patient in days.\n",
        ".\n",
        "gender: Gender of the patient. Categorical variable (1: Female, 2: Male).\n",
        "height: Height of the patient in centimeters.\n",
        "weight: Weight of the patient in kilograms.\n",
        "ap_hi: Systolic blood pressure.\n",
        "ap_lo: Diastolic blood pressure.\n",
        "\n",
        "* ID: Unique identifier for each patient.\n",
        "* age_years: Age of the patient in years\n",
        "* height: Height of the patient in centimeters.\n",
        "* weight: Weight of the patient in kilograms.\n",
        "* ap_hi: Systolic blood pressure.\n",
        "* ap_lo: Diastolic blood pressure.\n",
        "* bmi: Body Mass Index, derived from weight and height. Calculated as *BMI = weight / height^2*\n",
        "* bp_category: Blood pressure category based on ap_hi and ap_lo. Categories include \"Normal\", \"Elevated\", \"Hypertension Stage 1\", \"Hypertension Stage 2\", and \"Hypertensive Crisis\".\n",
        "\n"
      ],
      "metadata": {
        "id": "hGIda945k3YD"
      }
    },
    {
      "cell_type": "markdown",
      "source": [
        "## Data Import"
      ],
      "metadata": {
        "id": "buR8q5-8mSJF"
      }
    },
    {
      "cell_type": "markdown",
      "source": [
        "Dataset srouce: https://www.kaggle.com/datasets/colewelkins/cardiovascular-disease\n"
      ],
      "metadata": {
        "id": "T8lRGlkx9Tyq"
      }
    },
    {
      "cell_type": "code",
      "execution_count": 2,
      "metadata": {
        "id": "pCaJR3dp8GvY"
      },
      "outputs": [],
      "source": [
        "import os.path\n",
        "import json\n",
        "\n",
        "\n",
        "api_token = {\"username\":\"farhanarrafi\",\"key\":\"074ead27713d782ad86b0e445765e799\"}\n",
        "\n",
        "if not os.path.isdir('/root/.kaggle'):\n",
        "  ! mkdir ~/.kaggle\n",
        "  ! touch ~/.kaggle/kaggle.json\n",
        "  with open('/root/.kaggle/kaggle.json', 'w') as file:\n",
        "      json.dump(api_token, file)\n",
        "  !chmod 600 ~/.kaggle/kaggle.json\n",
        "\n",
        "#! kaggle datasets list"
      ]
    },
    {
      "cell_type": "code",
      "source": [
        "if not os.path.isfile('cardio_data_processed.csv'):\n",
        "  ! kaggle datasets download -d colewelkins/cardiovascular-disease\n",
        "  ! unzip cardiovascular-disease.zip\n",
        "  ! rm -rf cardiovascular-disease.zip"
      ],
      "metadata": {
        "id": "UMs5FVX78a-z",
        "colab": {
          "base_uri": "https://localhost:8080/"
        },
        "outputId": "262eab18-98cb-4ad8-b947-4f95c1b579b8"
      },
      "execution_count": 3,
      "outputs": [
        {
          "output_type": "stream",
          "name": "stdout",
          "text": [
            "Downloading cardiovascular-disease.zip to /content\n",
            "\r  0% 0.00/1.43M [00:00<?, ?B/s]\n",
            "\r100% 1.43M/1.43M [00:00<00:00, 130MB/s]\n",
            "Archive:  cardiovascular-disease.zip\n",
            "  inflating: cardio_data_processed.csv  \n"
          ]
        }
      ]
    },
    {
      "cell_type": "code",
      "source": [
        "import numpy as np # linear algebra\n",
        "import pandas as pd # data processing, CSV file I/O (e.g. pd.read_csv)\n",
        "\n",
        "cardioVascular_dataset = pd.read_csv('cardio_data_processed.csv')\n",
        "\n",
        "# Remove columns\n",
        "cardioVascular_dataset = cardioVascular_dataset.drop(axis='columns', columns=['age','gender', 'cholesterol','gluc','smoke','alco', 'active','cardio', 'bp_category_encoded'])\n",
        "# Setting index\n",
        "cardioVascular_dataset = cardioVascular_dataset.set_index('id')\n",
        "# Remove bp categories other than Hypertension Stage 1 and 2\n",
        "cardioVascular_dataset_filtered = cardioVascular_dataset.loc[(cardioVascular_dataset['bp_category'] == 'Hypertension Stage 1') |  (cardioVascular_dataset['bp_category'] == 'Hypertension Stage 2')]\n"
      ],
      "metadata": {
        "id": "UXAwWh5iAcbf"
      },
      "execution_count": 4,
      "outputs": []
    },
    {
      "cell_type": "code",
      "source": [],
      "metadata": {
        "id": "KqxhboK9i83g"
      },
      "execution_count": 4,
      "outputs": []
    },
    {
      "cell_type": "code",
      "source": [
        "# Select first 2000\n",
        "cardioVascular_dataset_filtered = cardioVascular_dataset_filtered.sample(5000, random_state=111)\n",
        "# Check for null values\n",
        "cardioVascular_dataset_filtered.isna().sum().sum()"
      ],
      "metadata": {
        "colab": {
          "base_uri": "https://localhost:8080/"
        },
        "id": "q19TieIci6o0",
        "outputId": "fd770c72-7de3-4c9c-cea7-8c15f72184a3"
      },
      "execution_count": 5,
      "outputs": [
        {
          "output_type": "execute_result",
          "data": {
            "text/plain": [
              "0"
            ]
          },
          "metadata": {},
          "execution_count": 5
        }
      ]
    },
    {
      "cell_type": "code",
      "source": [
        "cardioVascular_dataset_filtered.head(10)"
      ],
      "metadata": {
        "colab": {
          "base_uri": "https://localhost:8080/",
          "height": 394
        },
        "id": "0bipwHBNi1l2",
        "outputId": "23a93c97-6d9b-4f2c-e88e-0b725825514a"
      },
      "execution_count": 45,
      "outputs": [
        {
          "output_type": "execute_result",
          "data": {
            "text/plain": [
              "       height  weight  ap_hi  ap_lo  age_years        bmi  \\\n",
              "id                                                          \n",
              "24555     158    61.0    140     90         57  24.435187   \n",
              "1899      150    71.0    150     90         60  31.555556   \n",
              "65058     168    70.0    120     80         59  24.801587   \n",
              "11598     165    74.0    130     80         48  27.180900   \n",
              "44039     158    65.0    130     80         50  26.037494   \n",
              "57235     155    80.0    160     90         60  33.298647   \n",
              "93406     171    73.0    140     90         49  24.964946   \n",
              "61564     159    48.0    110     80         39  18.986591   \n",
              "43417     170    77.0    120     80         54  26.643599   \n",
              "6713      170    75.0    110     80         44  25.951557   \n",
              "\n",
              "                bp_category  \n",
              "id                           \n",
              "24555  Hypertension Stage 2  \n",
              "1899   Hypertension Stage 2  \n",
              "65058  Hypertension Stage 1  \n",
              "11598  Hypertension Stage 1  \n",
              "44039  Hypertension Stage 1  \n",
              "57235  Hypertension Stage 2  \n",
              "93406  Hypertension Stage 2  \n",
              "61564  Hypertension Stage 1  \n",
              "43417  Hypertension Stage 1  \n",
              "6713   Hypertension Stage 1  "
            ],
            "text/html": [
              "\n",
              "  <div id=\"df-520cbe1a-6c66-466a-8e08-dd4e53048c44\" class=\"colab-df-container\">\n",
              "    <div>\n",
              "<style scoped>\n",
              "    .dataframe tbody tr th:only-of-type {\n",
              "        vertical-align: middle;\n",
              "    }\n",
              "\n",
              "    .dataframe tbody tr th {\n",
              "        vertical-align: top;\n",
              "    }\n",
              "\n",
              "    .dataframe thead th {\n",
              "        text-align: right;\n",
              "    }\n",
              "</style>\n",
              "<table border=\"1\" class=\"dataframe\">\n",
              "  <thead>\n",
              "    <tr style=\"text-align: right;\">\n",
              "      <th></th>\n",
              "      <th>height</th>\n",
              "      <th>weight</th>\n",
              "      <th>ap_hi</th>\n",
              "      <th>ap_lo</th>\n",
              "      <th>age_years</th>\n",
              "      <th>bmi</th>\n",
              "      <th>bp_category</th>\n",
              "    </tr>\n",
              "    <tr>\n",
              "      <th>id</th>\n",
              "      <th></th>\n",
              "      <th></th>\n",
              "      <th></th>\n",
              "      <th></th>\n",
              "      <th></th>\n",
              "      <th></th>\n",
              "      <th></th>\n",
              "    </tr>\n",
              "  </thead>\n",
              "  <tbody>\n",
              "    <tr>\n",
              "      <th>24555</th>\n",
              "      <td>158</td>\n",
              "      <td>61.0</td>\n",
              "      <td>140</td>\n",
              "      <td>90</td>\n",
              "      <td>57</td>\n",
              "      <td>24.435187</td>\n",
              "      <td>Hypertension Stage 2</td>\n",
              "    </tr>\n",
              "    <tr>\n",
              "      <th>1899</th>\n",
              "      <td>150</td>\n",
              "      <td>71.0</td>\n",
              "      <td>150</td>\n",
              "      <td>90</td>\n",
              "      <td>60</td>\n",
              "      <td>31.555556</td>\n",
              "      <td>Hypertension Stage 2</td>\n",
              "    </tr>\n",
              "    <tr>\n",
              "      <th>65058</th>\n",
              "      <td>168</td>\n",
              "      <td>70.0</td>\n",
              "      <td>120</td>\n",
              "      <td>80</td>\n",
              "      <td>59</td>\n",
              "      <td>24.801587</td>\n",
              "      <td>Hypertension Stage 1</td>\n",
              "    </tr>\n",
              "    <tr>\n",
              "      <th>11598</th>\n",
              "      <td>165</td>\n",
              "      <td>74.0</td>\n",
              "      <td>130</td>\n",
              "      <td>80</td>\n",
              "      <td>48</td>\n",
              "      <td>27.180900</td>\n",
              "      <td>Hypertension Stage 1</td>\n",
              "    </tr>\n",
              "    <tr>\n",
              "      <th>44039</th>\n",
              "      <td>158</td>\n",
              "      <td>65.0</td>\n",
              "      <td>130</td>\n",
              "      <td>80</td>\n",
              "      <td>50</td>\n",
              "      <td>26.037494</td>\n",
              "      <td>Hypertension Stage 1</td>\n",
              "    </tr>\n",
              "    <tr>\n",
              "      <th>57235</th>\n",
              "      <td>155</td>\n",
              "      <td>80.0</td>\n",
              "      <td>160</td>\n",
              "      <td>90</td>\n",
              "      <td>60</td>\n",
              "      <td>33.298647</td>\n",
              "      <td>Hypertension Stage 2</td>\n",
              "    </tr>\n",
              "    <tr>\n",
              "      <th>93406</th>\n",
              "      <td>171</td>\n",
              "      <td>73.0</td>\n",
              "      <td>140</td>\n",
              "      <td>90</td>\n",
              "      <td>49</td>\n",
              "      <td>24.964946</td>\n",
              "      <td>Hypertension Stage 2</td>\n",
              "    </tr>\n",
              "    <tr>\n",
              "      <th>61564</th>\n",
              "      <td>159</td>\n",
              "      <td>48.0</td>\n",
              "      <td>110</td>\n",
              "      <td>80</td>\n",
              "      <td>39</td>\n",
              "      <td>18.986591</td>\n",
              "      <td>Hypertension Stage 1</td>\n",
              "    </tr>\n",
              "    <tr>\n",
              "      <th>43417</th>\n",
              "      <td>170</td>\n",
              "      <td>77.0</td>\n",
              "      <td>120</td>\n",
              "      <td>80</td>\n",
              "      <td>54</td>\n",
              "      <td>26.643599</td>\n",
              "      <td>Hypertension Stage 1</td>\n",
              "    </tr>\n",
              "    <tr>\n",
              "      <th>6713</th>\n",
              "      <td>170</td>\n",
              "      <td>75.0</td>\n",
              "      <td>110</td>\n",
              "      <td>80</td>\n",
              "      <td>44</td>\n",
              "      <td>25.951557</td>\n",
              "      <td>Hypertension Stage 1</td>\n",
              "    </tr>\n",
              "  </tbody>\n",
              "</table>\n",
              "</div>\n",
              "    <div class=\"colab-df-buttons\">\n",
              "\n",
              "  <div class=\"colab-df-container\">\n",
              "    <button class=\"colab-df-convert\" onclick=\"convertToInteractive('df-520cbe1a-6c66-466a-8e08-dd4e53048c44')\"\n",
              "            title=\"Convert this dataframe to an interactive table.\"\n",
              "            style=\"display:none;\">\n",
              "\n",
              "  <svg xmlns=\"http://www.w3.org/2000/svg\" height=\"24px\" viewBox=\"0 -960 960 960\">\n",
              "    <path d=\"M120-120v-720h720v720H120Zm60-500h600v-160H180v160Zm220 220h160v-160H400v160Zm0 220h160v-160H400v160ZM180-400h160v-160H180v160Zm440 0h160v-160H620v160ZM180-180h160v-160H180v160Zm440 0h160v-160H620v160Z\"/>\n",
              "  </svg>\n",
              "    </button>\n",
              "\n",
              "  <style>\n",
              "    .colab-df-container {\n",
              "      display:flex;\n",
              "      gap: 12px;\n",
              "    }\n",
              "\n",
              "    .colab-df-convert {\n",
              "      background-color: #E8F0FE;\n",
              "      border: none;\n",
              "      border-radius: 50%;\n",
              "      cursor: pointer;\n",
              "      display: none;\n",
              "      fill: #1967D2;\n",
              "      height: 32px;\n",
              "      padding: 0 0 0 0;\n",
              "      width: 32px;\n",
              "    }\n",
              "\n",
              "    .colab-df-convert:hover {\n",
              "      background-color: #E2EBFA;\n",
              "      box-shadow: 0px 1px 2px rgba(60, 64, 67, 0.3), 0px 1px 3px 1px rgba(60, 64, 67, 0.15);\n",
              "      fill: #174EA6;\n",
              "    }\n",
              "\n",
              "    .colab-df-buttons div {\n",
              "      margin-bottom: 4px;\n",
              "    }\n",
              "\n",
              "    [theme=dark] .colab-df-convert {\n",
              "      background-color: #3B4455;\n",
              "      fill: #D2E3FC;\n",
              "    }\n",
              "\n",
              "    [theme=dark] .colab-df-convert:hover {\n",
              "      background-color: #434B5C;\n",
              "      box-shadow: 0px 1px 3px 1px rgba(0, 0, 0, 0.15);\n",
              "      filter: drop-shadow(0px 1px 2px rgba(0, 0, 0, 0.3));\n",
              "      fill: #FFFFFF;\n",
              "    }\n",
              "  </style>\n",
              "\n",
              "    <script>\n",
              "      const buttonEl =\n",
              "        document.querySelector('#df-520cbe1a-6c66-466a-8e08-dd4e53048c44 button.colab-df-convert');\n",
              "      buttonEl.style.display =\n",
              "        google.colab.kernel.accessAllowed ? 'block' : 'none';\n",
              "\n",
              "      async function convertToInteractive(key) {\n",
              "        const element = document.querySelector('#df-520cbe1a-6c66-466a-8e08-dd4e53048c44');\n",
              "        const dataTable =\n",
              "          await google.colab.kernel.invokeFunction('convertToInteractive',\n",
              "                                                    [key], {});\n",
              "        if (!dataTable) return;\n",
              "\n",
              "        const docLinkHtml = 'Like what you see? Visit the ' +\n",
              "          '<a target=\"_blank\" href=https://colab.research.google.com/notebooks/data_table.ipynb>data table notebook</a>'\n",
              "          + ' to learn more about interactive tables.';\n",
              "        element.innerHTML = '';\n",
              "        dataTable['output_type'] = 'display_data';\n",
              "        await google.colab.output.renderOutput(dataTable, element);\n",
              "        const docLink = document.createElement('div');\n",
              "        docLink.innerHTML = docLinkHtml;\n",
              "        element.appendChild(docLink);\n",
              "      }\n",
              "    </script>\n",
              "  </div>\n",
              "\n",
              "\n",
              "<div id=\"df-30e5ad4d-2da6-45c2-8b41-71576767af0a\">\n",
              "  <button class=\"colab-df-quickchart\" onclick=\"quickchart('df-30e5ad4d-2da6-45c2-8b41-71576767af0a')\"\n",
              "            title=\"Suggest charts\"\n",
              "            style=\"display:none;\">\n",
              "\n",
              "<svg xmlns=\"http://www.w3.org/2000/svg\" height=\"24px\"viewBox=\"0 0 24 24\"\n",
              "     width=\"24px\">\n",
              "    <g>\n",
              "        <path d=\"M19 3H5c-1.1 0-2 .9-2 2v14c0 1.1.9 2 2 2h14c1.1 0 2-.9 2-2V5c0-1.1-.9-2-2-2zM9 17H7v-7h2v7zm4 0h-2V7h2v10zm4 0h-2v-4h2v4z\"/>\n",
              "    </g>\n",
              "</svg>\n",
              "  </button>\n",
              "\n",
              "<style>\n",
              "  .colab-df-quickchart {\n",
              "      --bg-color: #E8F0FE;\n",
              "      --fill-color: #1967D2;\n",
              "      --hover-bg-color: #E2EBFA;\n",
              "      --hover-fill-color: #174EA6;\n",
              "      --disabled-fill-color: #AAA;\n",
              "      --disabled-bg-color: #DDD;\n",
              "  }\n",
              "\n",
              "  [theme=dark] .colab-df-quickchart {\n",
              "      --bg-color: #3B4455;\n",
              "      --fill-color: #D2E3FC;\n",
              "      --hover-bg-color: #434B5C;\n",
              "      --hover-fill-color: #FFFFFF;\n",
              "      --disabled-bg-color: #3B4455;\n",
              "      --disabled-fill-color: #666;\n",
              "  }\n",
              "\n",
              "  .colab-df-quickchart {\n",
              "    background-color: var(--bg-color);\n",
              "    border: none;\n",
              "    border-radius: 50%;\n",
              "    cursor: pointer;\n",
              "    display: none;\n",
              "    fill: var(--fill-color);\n",
              "    height: 32px;\n",
              "    padding: 0;\n",
              "    width: 32px;\n",
              "  }\n",
              "\n",
              "  .colab-df-quickchart:hover {\n",
              "    background-color: var(--hover-bg-color);\n",
              "    box-shadow: 0 1px 2px rgba(60, 64, 67, 0.3), 0 1px 3px 1px rgba(60, 64, 67, 0.15);\n",
              "    fill: var(--button-hover-fill-color);\n",
              "  }\n",
              "\n",
              "  .colab-df-quickchart-complete:disabled,\n",
              "  .colab-df-quickchart-complete:disabled:hover {\n",
              "    background-color: var(--disabled-bg-color);\n",
              "    fill: var(--disabled-fill-color);\n",
              "    box-shadow: none;\n",
              "  }\n",
              "\n",
              "  .colab-df-spinner {\n",
              "    border: 2px solid var(--fill-color);\n",
              "    border-color: transparent;\n",
              "    border-bottom-color: var(--fill-color);\n",
              "    animation:\n",
              "      spin 1s steps(1) infinite;\n",
              "  }\n",
              "\n",
              "  @keyframes spin {\n",
              "    0% {\n",
              "      border-color: transparent;\n",
              "      border-bottom-color: var(--fill-color);\n",
              "      border-left-color: var(--fill-color);\n",
              "    }\n",
              "    20% {\n",
              "      border-color: transparent;\n",
              "      border-left-color: var(--fill-color);\n",
              "      border-top-color: var(--fill-color);\n",
              "    }\n",
              "    30% {\n",
              "      border-color: transparent;\n",
              "      border-left-color: var(--fill-color);\n",
              "      border-top-color: var(--fill-color);\n",
              "      border-right-color: var(--fill-color);\n",
              "    }\n",
              "    40% {\n",
              "      border-color: transparent;\n",
              "      border-right-color: var(--fill-color);\n",
              "      border-top-color: var(--fill-color);\n",
              "    }\n",
              "    60% {\n",
              "      border-color: transparent;\n",
              "      border-right-color: var(--fill-color);\n",
              "    }\n",
              "    80% {\n",
              "      border-color: transparent;\n",
              "      border-right-color: var(--fill-color);\n",
              "      border-bottom-color: var(--fill-color);\n",
              "    }\n",
              "    90% {\n",
              "      border-color: transparent;\n",
              "      border-bottom-color: var(--fill-color);\n",
              "    }\n",
              "  }\n",
              "</style>\n",
              "\n",
              "  <script>\n",
              "    async function quickchart(key) {\n",
              "      const quickchartButtonEl =\n",
              "        document.querySelector('#' + key + ' button');\n",
              "      quickchartButtonEl.disabled = true;  // To prevent multiple clicks.\n",
              "      quickchartButtonEl.classList.add('colab-df-spinner');\n",
              "      try {\n",
              "        const charts = await google.colab.kernel.invokeFunction(\n",
              "            'suggestCharts', [key], {});\n",
              "      } catch (error) {\n",
              "        console.error('Error during call to suggestCharts:', error);\n",
              "      }\n",
              "      quickchartButtonEl.classList.remove('colab-df-spinner');\n",
              "      quickchartButtonEl.classList.add('colab-df-quickchart-complete');\n",
              "    }\n",
              "    (() => {\n",
              "      let quickchartButtonEl =\n",
              "        document.querySelector('#df-30e5ad4d-2da6-45c2-8b41-71576767af0a button');\n",
              "      quickchartButtonEl.style.display =\n",
              "        google.colab.kernel.accessAllowed ? 'block' : 'none';\n",
              "    })();\n",
              "  </script>\n",
              "</div>\n",
              "    </div>\n",
              "  </div>\n"
            ]
          },
          "metadata": {},
          "execution_count": 45
        }
      ]
    },
    {
      "cell_type": "code",
      "source": [
        "len(cardioVascular_dataset_filtered)"
      ],
      "metadata": {
        "id": "xdXCAeeSDL8q",
        "colab": {
          "base_uri": "https://localhost:8080/"
        },
        "outputId": "f90a8380-eb9d-46d7-8f76-753d02bb5a42"
      },
      "execution_count": 6,
      "outputs": [
        {
          "output_type": "execute_result",
          "data": {
            "text/plain": [
              "5000"
            ]
          },
          "metadata": {},
          "execution_count": 6
        }
      ]
    },
    {
      "cell_type": "code",
      "source": [
        "cardioVascular_dataset_filtered.mean()"
      ],
      "metadata": {
        "colab": {
          "base_uri": "https://localhost:8080/"
        },
        "id": "vPdjHfy-YDgi",
        "outputId": "c40a29be-5377-4f10-bbad-59513ec086a3"
      },
      "execution_count": 7,
      "outputs": [
        {
          "output_type": "stream",
          "name": "stderr",
          "text": [
            "<ipython-input-7-691787149147>:1: FutureWarning: The default value of numeric_only in DataFrame.mean is deprecated. In a future version, it will default to False. In addition, specifying 'numeric_only=None' is deprecated. Select only valid columns or specify the value of numeric_only to silence this warning.\n",
            "  cardioVascular_dataset_filtered.mean()\n"
          ]
        },
        {
          "output_type": "execute_result",
          "data": {
            "text/plain": [
              "height       164.575000\n",
              "weight        75.295860\n",
              "ap_hi        130.267800\n",
              "ap_lo         84.179400\n",
              "age_years     53.487000\n",
              "bmi           27.940187\n",
              "dtype: float64"
            ]
          },
          "metadata": {},
          "execution_count": 7
        }
      ]
    },
    {
      "cell_type": "code",
      "source": [],
      "metadata": {
        "id": "Ud_MgIoAiGyX"
      },
      "execution_count": 7,
      "outputs": []
    },
    {
      "cell_type": "code",
      "source": [
        "cardioVascular_dataset_filtered['weight'].plot.density()"
      ],
      "metadata": {
        "colab": {
          "base_uri": "https://localhost:8080/",
          "height": 448
        },
        "id": "H6Oza8DGHAaS",
        "outputId": "84760a40-4f49-4115-f11c-19ecbfcc6961"
      },
      "execution_count": 8,
      "outputs": [
        {
          "output_type": "execute_result",
          "data": {
            "text/plain": [
              "<Axes: ylabel='Density'>"
            ]
          },
          "metadata": {},
          "execution_count": 8
        },
        {
          "output_type": "display_data",
          "data": {
            "text/plain": [
              "<Figure size 640x480 with 1 Axes>"
            ],
            "image/png": "[encoded data removed]"
          },
          "metadata": {}
        }
      ]
    },
    {
      "cell_type": "code",
      "source": [
        "samples = cardioVascular_dataset_filtered.sample(100, random_state=1199)\n",
        "# Check for null values https://stackoverflow.com/a/69622929/3148856\n",
        "samples.isna().sum().sum()"
      ],
      "metadata": {
        "colab": {
          "base_uri": "https://localhost:8080/"
        },
        "id": "aR497Q3YbuH6",
        "outputId": "92437412-8e18-4893-db99-05cebf91ae3f"
      },
      "execution_count": 9,
      "outputs": [
        {
          "output_type": "execute_result",
          "data": {
            "text/plain": [
              "0"
            ]
          },
          "metadata": {},
          "execution_count": 9
        }
      ]
    },
    {
      "cell_type": "code",
      "source": [
        "samples.max()"
      ],
      "metadata": {
        "colab": {
          "base_uri": "https://localhost:8080/"
        },
        "id": "h1G7fQJCj9cu",
        "outputId": "00b9fc4a-f35c-4c29-8f2e-95d71a16edbd"
      },
      "execution_count": 10,
      "outputs": [
        {
          "output_type": "execute_result",
          "data": {
            "text/plain": [
              "height                          189\n",
              "weight                        129.0\n",
              "ap_hi                           180\n",
              "ap_lo                           120\n",
              "age_years                        64\n",
              "bmi                       41.007403\n",
              "bp_category    Hypertension Stage 2\n",
              "dtype: object"
            ]
          },
          "metadata": {},
          "execution_count": 10
        }
      ]
    },
    {
      "cell_type": "code",
      "source": [
        "samples.min()"
      ],
      "metadata": {
        "colab": {
          "base_uri": "https://localhost:8080/"
        },
        "id": "ckNAm5fdkf3H",
        "outputId": "2bbe2928-d71b-43de-f63b-874d39bf0abb"
      },
      "execution_count": 11,
      "outputs": [
        {
          "output_type": "execute_result",
          "data": {
            "text/plain": [
              "height                          148\n",
              "weight                         50.0\n",
              "ap_hi                           100\n",
              "ap_lo                            70\n",
              "age_years                        39\n",
              "bmi                       16.514731\n",
              "bp_category    Hypertension Stage 1\n",
              "dtype: object"
            ]
          },
          "metadata": {},
          "execution_count": 11
        }
      ]
    },
    {
      "cell_type": "code",
      "source": [
        "samples[samples['weight'] <= 50]"
      ],
      "metadata": {
        "colab": {
          "base_uri": "https://localhost:8080/",
          "height": 112
        },
        "id": "DkFKcdCYkLy-",
        "outputId": "3ed7803b-20f8-410f-b876-50bba7e19253"
      },
      "execution_count": 12,
      "outputs": [
        {
          "output_type": "execute_result",
          "data": {
            "text/plain": [
              "       height  weight  ap_hi  ap_lo  age_years        bmi  \\\n",
              "id                                                          \n",
              "27835     174    50.0    120     80         41  16.514731   \n",
              "\n",
              "                bp_category  \n",
              "id                           \n",
              "27835  Hypertension Stage 1  "
            ],
            "text/html": [
              "\n",
              "  <div id=\"df-9ac40a68-9662-4c4c-8380-138950d30ca7\" class=\"colab-df-container\">\n",
              "    <div>\n",
              "<style scoped>\n",
              "    .dataframe tbody tr th:only-of-type {\n",
              "        vertical-align: middle;\n",
              "    }\n",
              "\n",
              "    .dataframe tbody tr th {\n",
              "        vertical-align: top;\n",
              "    }\n",
              "\n",
              "    .dataframe thead th {\n",
              "        text-align: right;\n",
              "    }\n",
              "</style>\n",
              "<table border=\"1\" class=\"dataframe\">\n",
              "  <thead>\n",
              "    <tr style=\"text-align: right;\">\n",
              "      <th></th>\n",
              "      <th>height</th>\n",
              "      <th>weight</th>\n",
              "      <th>ap_hi</th>\n",
              "      <th>ap_lo</th>\n",
              "      <th>age_years</th>\n",
              "      <th>bmi</th>\n",
              "      <th>bp_category</th>\n",
              "    </tr>\n",
              "    <tr>\n",
              "      <th>id</th>\n",
              "      <th></th>\n",
              "      <th></th>\n",
              "      <th></th>\n",
              "      <th></th>\n",
              "      <th></th>\n",
              "      <th></th>\n",
              "      <th></th>\n",
              "    </tr>\n",
              "  </thead>\n",
              "  <tbody>\n",
              "    <tr>\n",
              "      <th>27835</th>\n",
              "      <td>174</td>\n",
              "      <td>50.0</td>\n",
              "      <td>120</td>\n",
              "      <td>80</td>\n",
              "      <td>41</td>\n",
              "      <td>16.514731</td>\n",
              "      <td>Hypertension Stage 1</td>\n",
              "    </tr>\n",
              "  </tbody>\n",
              "</table>\n",
              "</div>\n",
              "    <div class=\"colab-df-buttons\">\n",
              "\n",
              "  <div class=\"colab-df-container\">\n",
              "    <button class=\"colab-df-convert\" onclick=\"convertToInteractive('df-9ac40a68-9662-4c4c-8380-138950d30ca7')\"\n",
              "            title=\"Convert this dataframe to an interactive table.\"\n",
              "            style=\"display:none;\">\n",
              "\n",
              "  <svg xmlns=\"http://www.w3.org/2000/svg\" height=\"24px\" viewBox=\"0 -960 960 960\">\n",
              "    <path d=\"M120-120v-720h720v720H120Zm60-500h600v-160H180v160Zm220 220h160v-160H400v160Zm0 220h160v-160H400v160ZM180-400h160v-160H180v160Zm440 0h160v-160H620v160ZM180-180h160v-160H180v160Zm440 0h160v-160H620v160Z\"/>\n",
              "  </svg>\n",
              "    </button>\n",
              "\n",
              "  <style>\n",
              "    .colab-df-container {\n",
              "      display:flex;\n",
              "      gap: 12px;\n",
              "    }\n",
              "\n",
              "    .colab-df-convert {\n",
              "      background-color: #E8F0FE;\n",
              "      border: none;\n",
              "      border-radius: 50%;\n",
              "      cursor: pointer;\n",
              "      display: none;\n",
              "      fill: #1967D2;\n",
              "      height: 32px;\n",
              "      padding: 0 0 0 0;\n",
              "      width: 32px;\n",
              "    }\n",
              "\n",
              "    .colab-df-convert:hover {\n",
              "      background-color: #E2EBFA;\n",
              "      box-shadow: 0px 1px 2px rgba(60, 64, 67, 0.3), 0px 1px 3px 1px rgba(60, 64, 67, 0.15);\n",
              "      fill: #174EA6;\n",
              "    }\n",
              "\n",
              "    .colab-df-buttons div {\n",
              "      margin-bottom: 4px;\n",
              "    }\n",
              "\n",
              "    [theme=dark] .colab-df-convert {\n",
              "      background-color: #3B4455;\n",
              "      fill: #D2E3FC;\n",
              "    }\n",
              "\n",
              "    [theme=dark] .colab-df-convert:hover {\n",
              "      background-color: #434B5C;\n",
              "      box-shadow: 0px 1px 3px 1px rgba(0, 0, 0, 0.15);\n",
              "      filter: drop-shadow(0px 1px 2px rgba(0, 0, 0, 0.3));\n",
              "      fill: #FFFFFF;\n",
              "    }\n",
              "  </style>\n",
              "\n",
              "    <script>\n",
              "      const buttonEl =\n",
              "        document.querySelector('#df-9ac40a68-9662-4c4c-8380-138950d30ca7 button.colab-df-convert');\n",
              "      buttonEl.style.display =\n",
              "        google.colab.kernel.accessAllowed ? 'block' : 'none';\n",
              "\n",
              "      async function convertToInteractive(key) {\n",
              "        const element = document.querySelector('#df-9ac40a68-9662-4c4c-8380-138950d30ca7');\n",
              "        const dataTable =\n",
              "          await google.colab.kernel.invokeFunction('convertToInteractive',\n",
              "                                                    [key], {});\n",
              "        if (!dataTable) return;\n",
              "\n",
              "        const docLinkHtml = 'Like what you see? Visit the ' +\n",
              "          '<a target=\"_blank\" href=https://colab.research.google.com/notebooks/data_table.ipynb>data table notebook</a>'\n",
              "          + ' to learn more about interactive tables.';\n",
              "        element.innerHTML = '';\n",
              "        dataTable['output_type'] = 'display_data';\n",
              "        await google.colab.output.renderOutput(dataTable, element);\n",
              "        const docLink = document.createElement('div');\n",
              "        docLink.innerHTML = docLinkHtml;\n",
              "        element.appendChild(docLink);\n",
              "      }\n",
              "    </script>\n",
              "  </div>\n",
              "\n",
              "    </div>\n",
              "  </div>\n"
            ]
          },
          "metadata": {},
          "execution_count": 12
        }
      ]
    },
    {
      "cell_type": "code",
      "source": [
        "samples['weight'].plot.density()"
      ],
      "metadata": {
        "colab": {
          "base_uri": "https://localhost:8080/",
          "height": 448
        },
        "id": "NszAzupdre_O",
        "outputId": "270dfc1f-abf2-427e-b861-c664874e310e"
      },
      "execution_count": 13,
      "outputs": [
        {
          "output_type": "execute_result",
          "data": {
            "text/plain": [
              "<Axes: ylabel='Density'>"
            ]
          },
          "metadata": {},
          "execution_count": 13
        },
        {
          "output_type": "display_data",
          "data": {
            "text/plain": [
              "<Figure size 640x480 with 1 Axes>"
            ],
            "image/png": "[encoded data removed]"
          },
          "metadata": {}
        }
      ]
    },
    {
      "cell_type": "code",
      "source": [
        "samples['weight'].hist()"
      ],
      "metadata": {
        "id": "2Uj1AOP2Thfn",
        "outputId": "6d0eecf7-eb42-43bc-e239-d7998e5d8036",
        "colab": {
          "base_uri": "https://localhost:8080/",
          "height": 450
        }
      },
      "execution_count": 14,
      "outputs": [
        {
          "output_type": "execute_result",
          "data": {
            "text/plain": [
              "<Axes: >"
            ]
          },
          "metadata": {},
          "execution_count": 14
        },
        {
          "output_type": "display_data",
          "data": {
            "text/plain": [
              "<Figure size 640x480 with 1 Axes>"
            ],
            "image/png": "[encoded data removed]"
          },
          "metadata": {}
        }
      ]
    },
    {
      "cell_type": "code",
      "source": [
        "# Grid code was provided by Chat GPT version 3 using the prompt - [how to print one column data contaning 20 items from a dataframe into a 4 by 5 grid]\n",
        "# Reshape the 1D array into a 2D array with a shape of (4, 5)\n",
        "grid_data = np.reshape(samples['weight'].to_numpy(), (10, 10))\n",
        "\n",
        "# Loop through rows and print the data\n",
        "for row in grid_data:\n",
        "    print(','.join(map(str, row)))"
      ],
      "metadata": {
        "colab": {
          "base_uri": "https://localhost:8080/"
        },
        "id": "J3r_5aEa0kfm",
        "outputId": "ed240953-43ea-4390-bb48-3d82e198f149"
      },
      "execution_count": 15,
      "outputs": [
        {
          "output_type": "stream",
          "name": "stdout",
          "text": [
            "65.0,78.0,75.0,72.0,85.0,70.0,100.0,70.0,98.0,86.0\n",
            "97.0,129.0,108.0,79.0,63.0,80.0,75.0,63.0,75.0,52.0\n",
            "63.0,70.0,87.0,87.0,88.0,59.0,80.0,89.0,72.0,65.0\n",
            "83.0,80.0,62.0,80.0,64.0,62.0,80.0,75.0,84.0,68.0\n",
            "78.0,66.0,71.0,91.0,59.0,80.0,50.0,53.0,76.0,68.0\n",
            "73.0,58.0,86.0,100.0,87.0,71.0,80.0,66.0,68.0,62.0\n",
            "69.0,80.0,69.0,65.0,65.0,67.0,62.0,76.0,88.0,92.0\n",
            "86.0,82.0,97.0,102.0,89.0,65.0,71.0,76.0,69.0,58.0\n",
            "65.0,70.0,113.0,69.0,73.0,78.0,72.0,95.0,85.0,104.0\n",
            "82.0,65.0,87.0,70.0,84.0,80.0,74.0,74.0,79.0,71.0\n"
          ]
        }
      ]
    },
    {
      "cell_type": "code",
      "source": [
        "samples.describe()"
      ],
      "metadata": {
        "colab": {
          "base_uri": "https://localhost:8080/",
          "height": 300
        },
        "id": "yvQmqLDF99Dh",
        "outputId": "de8ba399-22be-45ec-9426-ef895ddc25b1"
      },
      "execution_count": 16,
      "outputs": [
        {
          "output_type": "execute_result",
          "data": {
            "text/plain": [
              "           height     weight       ap_hi       ap_lo   age_years         bmi\n",
              "count  100.000000  100.00000  100.000000  100.000000  100.000000  100.000000\n",
              "mean   163.890000   76.79000  130.100000   84.870000   53.520000   28.611298\n",
              "std      8.247307   13.58497   14.615959    7.950167    6.802376    4.642349\n",
              "min    148.000000   50.00000  100.000000   70.000000   39.000000   16.514731\n",
              "25%    158.000000   67.75000  120.000000   80.000000   49.000000   25.154073\n",
              "50%    164.000000   75.00000  125.000000   80.000000   55.000000   28.037327\n",
              "75%    168.000000   85.00000  140.000000   90.000000   59.000000   32.013299\n",
              "max    189.000000  129.00000  180.000000  120.000000   64.000000   41.007403"
            ],
            "text/html": [
              "\n",
              "  <div id=\"df-bf60c6c2-3d34-4908-9319-822083cb8a68\" class=\"colab-df-container\">\n",
              "    <div>\n",
              "<style scoped>\n",
              "    .dataframe tbody tr th:only-of-type {\n",
              "        vertical-align: middle;\n",
              "    }\n",
              "\n",
              "    .dataframe tbody tr th {\n",
              "        vertical-align: top;\n",
              "    }\n",
              "\n",
              "    .dataframe thead th {\n",
              "        text-align: right;\n",
              "    }\n",
              "</style>\n",
              "<table border=\"1\" class=\"dataframe\">\n",
              "  <thead>\n",
              "    <tr style=\"text-align: right;\">\n",
              "      <th></th>\n",
              "      <th>height</th>\n",
              "      <th>weight</th>\n",
              "      <th>ap_hi</th>\n",
              "      <th>ap_lo</th>\n",
              "      <th>age_years</th>\n",
              "      <th>bmi</th>\n",
              "    </tr>\n",
              "  </thead>\n",
              "  <tbody>\n",
              "    <tr>\n",
              "      <th>count</th>\n",
              "      <td>100.000000</td>\n",
              "      <td>100.00000</td>\n",
              "      <td>100.000000</td>\n",
              "      <td>100.000000</td>\n",
              "      <td>100.000000</td>\n",
              "      <td>100.000000</td>\n",
              "    </tr>\n",
              "    <tr>\n",
              "      <th>mean</th>\n",
              "      <td>163.890000</td>\n",
              "      <td>76.79000</td>\n",
              "      <td>130.100000</td>\n",
              "      <td>84.870000</td>\n",
              "      <td>53.520000</td>\n",
              "      <td>28.611298</td>\n",
              "    </tr>\n",
              "    <tr>\n",
              "      <th>std</th>\n",
              "      <td>8.247307</td>\n",
              "      <td>13.58497</td>\n",
              "      <td>14.615959</td>\n",
              "      <td>7.950167</td>\n",
              "      <td>6.802376</td>\n",
              "      <td>4.642349</td>\n",
              "    </tr>\n",
              "    <tr>\n",
              "      <th>min</th>\n",
              "      <td>148.000000</td>\n",
              "      <td>50.00000</td>\n",
              "      <td>100.000000</td>\n",
              "      <td>70.000000</td>\n",
              "      <td>39.000000</td>\n",
              "      <td>16.514731</td>\n",
              "    </tr>\n",
              "    <tr>\n",
              "      <th>25%</th>\n",
              "      <td>158.000000</td>\n",
              "      <td>67.75000</td>\n",
              "      <td>120.000000</td>\n",
              "      <td>80.000000</td>\n",
              "      <td>49.000000</td>\n",
              "      <td>25.154073</td>\n",
              "    </tr>\n",
              "    <tr>\n",
              "      <th>50%</th>\n",
              "      <td>164.000000</td>\n",
              "      <td>75.00000</td>\n",
              "      <td>125.000000</td>\n",
              "      <td>80.000000</td>\n",
              "      <td>55.000000</td>\n",
              "      <td>28.037327</td>\n",
              "    </tr>\n",
              "    <tr>\n",
              "      <th>75%</th>\n",
              "      <td>168.000000</td>\n",
              "      <td>85.00000</td>\n",
              "      <td>140.000000</td>\n",
              "      <td>90.000000</td>\n",
              "      <td>59.000000</td>\n",
              "      <td>32.013299</td>\n",
              "    </tr>\n",
              "    <tr>\n",
              "      <th>max</th>\n",
              "      <td>189.000000</td>\n",
              "      <td>129.00000</td>\n",
              "      <td>180.000000</td>\n",
              "      <td>120.000000</td>\n",
              "      <td>64.000000</td>\n",
              "      <td>41.007403</td>\n",
              "    </tr>\n",
              "  </tbody>\n",
              "</table>\n",
              "</div>\n",
              "    <div class=\"colab-df-buttons\">\n",
              "\n",
              "  <div class=\"colab-df-container\">\n",
              "    <button class=\"colab-df-convert\" onclick=\"convertToInteractive('df-bf60c6c2-3d34-4908-9319-822083cb8a68')\"\n",
              "            title=\"Convert this dataframe to an interactive table.\"\n",
              "            style=\"display:none;\">\n",
              "\n",
              "  <svg xmlns=\"http://www.w3.org/2000/svg\" height=\"24px\" viewBox=\"0 -960 960 960\">\n",
              "    <path d=\"M120-120v-720h720v720H120Zm60-500h600v-160H180v160Zm220 220h160v-160H400v160Zm0 220h160v-160H400v160ZM180-400h160v-160H180v160Zm440 0h160v-160H620v160ZM180-180h160v-160H180v160Zm440 0h160v-160H620v160Z\"/>\n",
              "  </svg>\n",
              "    </button>\n",
              "\n",
              "  <style>\n",
              "    .colab-df-container {\n",
              "      display:flex;\n",
              "      gap: 12px;\n",
              "    }\n",
              "\n",
              "    .colab-df-convert {\n",
              "      background-color: #E8F0FE;\n",
              "      border: none;\n",
              "      border-radius: 50%;\n",
              "      cursor: pointer;\n",
              "      display: none;\n",
              "      fill: #1967D2;\n",
              "      height: 32px;\n",
              "      padding: 0 0 0 0;\n",
              "      width: 32px;\n",
              "    }\n",
              "\n",
              "    .colab-df-convert:hover {\n",
              "      background-color: #E2EBFA;\n",
              "      box-shadow: 0px 1px 2px rgba(60, 64, 67, 0.3), 0px 1px 3px 1px rgba(60, 64, 67, 0.15);\n",
              "      fill: #174EA6;\n",
              "    }\n",
              "\n",
              "    .colab-df-buttons div {\n",
              "      margin-bottom: 4px;\n",
              "    }\n",
              "\n",
              "    [theme=dark] .colab-df-convert {\n",
              "      background-color: #3B4455;\n",
              "      fill: #D2E3FC;\n",
              "    }\n",
              "\n",
              "    [theme=dark] .colab-df-convert:hover {\n",
              "      background-color: #434B5C;\n",
              "      box-shadow: 0px 1px 3px 1px rgba(0, 0, 0, 0.15);\n",
              "      filter: drop-shadow(0px 1px 2px rgba(0, 0, 0, 0.3));\n",
              "      fill: #FFFFFF;\n",
              "    }\n",
              "  </style>\n",
              "\n",
              "    <script>\n",
              "      const buttonEl =\n",
              "        document.querySelector('#df-bf60c6c2-3d34-4908-9319-822083cb8a68 button.colab-df-convert');\n",
              "      buttonEl.style.display =\n",
              "        google.colab.kernel.accessAllowed ? 'block' : 'none';\n",
              "\n",
              "      async function convertToInteractive(key) {\n",
              "        const element = document.querySelector('#df-bf60c6c2-3d34-4908-9319-822083cb8a68');\n",
              "        const dataTable =\n",
              "          await google.colab.kernel.invokeFunction('convertToInteractive',\n",
              "                                                    [key], {});\n",
              "        if (!dataTable) return;\n",
              "\n",
              "        const docLinkHtml = 'Like what you see? Visit the ' +\n",
              "          '<a target=\"_blank\" href=https://colab.research.google.com/notebooks/data_table.ipynb>data table notebook</a>'\n",
              "          + ' to learn more about interactive tables.';\n",
              "        element.innerHTML = '';\n",
              "        dataTable['output_type'] = 'display_data';\n",
              "        await google.colab.output.renderOutput(dataTable, element);\n",
              "        const docLink = document.createElement('div');\n",
              "        docLink.innerHTML = docLinkHtml;\n",
              "        element.appendChild(docLink);\n",
              "      }\n",
              "    </script>\n",
              "  </div>\n",
              "\n",
              "\n",
              "<div id=\"df-dea41fe0-4b75-47ab-8fcf-5b92abd0ba9f\">\n",
              "  <button class=\"colab-df-quickchart\" onclick=\"quickchart('df-dea41fe0-4b75-47ab-8fcf-5b92abd0ba9f')\"\n",
              "            title=\"Suggest charts\"\n",
              "            style=\"display:none;\">\n",
              "\n",
              "<svg xmlns=\"http://www.w3.org/2000/svg\" height=\"24px\"viewBox=\"0 0 24 24\"\n",
              "     width=\"24px\">\n",
              "    <g>\n",
              "        <path d=\"M19 3H5c-1.1 0-2 .9-2 2v14c0 1.1.9 2 2 2h14c1.1 0 2-.9 2-2V5c0-1.1-.9-2-2-2zM9 17H7v-7h2v7zm4 0h-2V7h2v10zm4 0h-2v-4h2v4z\"/>\n",
              "    </g>\n",
              "</svg>\n",
              "  </button>\n",
              "\n",
              "<style>\n",
              "  .colab-df-quickchart {\n",
              "      --bg-color: #E8F0FE;\n",
              "      --fill-color: #1967D2;\n",
              "      --hover-bg-color: #E2EBFA;\n",
              "      --hover-fill-color: #174EA6;\n",
              "      --disabled-fill-color: #AAA;\n",
              "      --disabled-bg-color: #DDD;\n",
              "  }\n",
              "\n",
              "  [theme=dark] .colab-df-quickchart {\n",
              "      --bg-color: #3B4455;\n",
              "      --fill-color: #D2E3FC;\n",
              "      --hover-bg-color: #434B5C;\n",
              "      --hover-fill-color: #FFFFFF;\n",
              "      --disabled-bg-color: #3B4455;\n",
              "      --disabled-fill-color: #666;\n",
              "  }\n",
              "\n",
              "  .colab-df-quickchart {\n",
              "    background-color: var(--bg-color);\n",
              "    border: none;\n",
              "    border-radius: 50%;\n",
              "    cursor: pointer;\n",
              "    display: none;\n",
              "    fill: var(--fill-color);\n",
              "    height: 32px;\n",
              "    padding: 0;\n",
              "    width: 32px;\n",
              "  }\n",
              "\n",
              "  .colab-df-quickchart:hover {\n",
              "    background-color: var(--hover-bg-color);\n",
              "    box-shadow: 0 1px 2px rgba(60, 64, 67, 0.3), 0 1px 3px 1px rgba(60, 64, 67, 0.15);\n",
              "    fill: var(--button-hover-fill-color);\n",
              "  }\n",
              "\n",
              "  .colab-df-quickchart-complete:disabled,\n",
              "  .colab-df-quickchart-complete:disabled:hover {\n",
              "    background-color: var(--disabled-bg-color);\n",
              "    fill: var(--disabled-fill-color);\n",
              "    box-shadow: none;\n",
              "  }\n",
              "\n",
              "  .colab-df-spinner {\n",
              "    border: 2px solid var(--fill-color);\n",
              "    border-color: transparent;\n",
              "    border-bottom-color: var(--fill-color);\n",
              "    animation:\n",
              "      spin 1s steps(1) infinite;\n",
              "  }\n",
              "\n",
              "  @keyframes spin {\n",
              "    0% {\n",
              "      border-color: transparent;\n",
              "      border-bottom-color: var(--fill-color);\n",
              "      border-left-color: var(--fill-color);\n",
              "    }\n",
              "    20% {\n",
              "      border-color: transparent;\n",
              "      border-left-color: var(--fill-color);\n",
              "      border-top-color: var(--fill-color);\n",
              "    }\n",
              "    30% {\n",
              "      border-color: transparent;\n",
              "      border-left-color: var(--fill-color);\n",
              "      border-top-color: var(--fill-color);\n",
              "      border-right-color: var(--fill-color);\n",
              "    }\n",
              "    40% {\n",
              "      border-color: transparent;\n",
              "      border-right-color: var(--fill-color);\n",
              "      border-top-color: var(--fill-color);\n",
              "    }\n",
              "    60% {\n",
              "      border-color: transparent;\n",
              "      border-right-color: var(--fill-color);\n",
              "    }\n",
              "    80% {\n",
              "      border-color: transparent;\n",
              "      border-right-color: var(--fill-color);\n",
              "      border-bottom-color: var(--fill-color);\n",
              "    }\n",
              "    90% {\n",
              "      border-color: transparent;\n",
              "      border-bottom-color: var(--fill-color);\n",
              "    }\n",
              "  }\n",
              "</style>\n",
              "\n",
              "  <script>\n",
              "    async function quickchart(key) {\n",
              "      const quickchartButtonEl =\n",
              "        document.querySelector('#' + key + ' button');\n",
              "      quickchartButtonEl.disabled = true;  // To prevent multiple clicks.\n",
              "      quickchartButtonEl.classList.add('colab-df-spinner');\n",
              "      try {\n",
              "        const charts = await google.colab.kernel.invokeFunction(\n",
              "            'suggestCharts', [key], {});\n",
              "      } catch (error) {\n",
              "        console.error('Error during call to suggestCharts:', error);\n",
              "      }\n",
              "      quickchartButtonEl.classList.remove('colab-df-spinner');\n",
              "      quickchartButtonEl.classList.add('colab-df-quickchart-complete');\n",
              "    }\n",
              "    (() => {\n",
              "      let quickchartButtonEl =\n",
              "        document.querySelector('#df-dea41fe0-4b75-47ab-8fcf-5b92abd0ba9f button');\n",
              "      quickchartButtonEl.style.display =\n",
              "        google.colab.kernel.accessAllowed ? 'block' : 'none';\n",
              "    })();\n",
              "  </script>\n",
              "</div>\n",
              "    </div>\n",
              "  </div>\n"
            ]
          },
          "metadata": {},
          "execution_count": 16
        }
      ]
    },
    {
      "cell_type": "code",
      "source": [
        "samples.mean()"
      ],
      "metadata": {
        "colab": {
          "base_uri": "https://localhost:8080/"
        },
        "id": "1cx9u883eEbo",
        "outputId": "9d039754-d0e7-40a6-e8d9-d0581c081602"
      },
      "execution_count": 17,
      "outputs": [
        {
          "output_type": "stream",
          "name": "stderr",
          "text": [
            "<ipython-input-17-8111d020ec13>:1: FutureWarning: The default value of numeric_only in DataFrame.mean is deprecated. In a future version, it will default to False. In addition, specifying 'numeric_only=None' is deprecated. Select only valid columns or specify the value of numeric_only to silence this warning.\n",
            "  samples.mean()\n"
          ]
        },
        {
          "output_type": "execute_result",
          "data": {
            "text/plain": [
              "height       163.890000\n",
              "weight        76.790000\n",
              "ap_hi        130.100000\n",
              "ap_lo         84.870000\n",
              "age_years     53.520000\n",
              "bmi           28.611298\n",
              "dtype: float64"
            ]
          },
          "metadata": {},
          "execution_count": 17
        }
      ]
    },
    {
      "cell_type": "code",
      "source": [
        "samples.std()"
      ],
      "metadata": {
        "colab": {
          "base_uri": "https://localhost:8080/"
        },
        "id": "x0giul5PfPeV",
        "outputId": "3bf4abbd-4e49-4650-fc99-5985ac12bcec"
      },
      "execution_count": 18,
      "outputs": [
        {
          "output_type": "stream",
          "name": "stderr",
          "text": [
            "<ipython-input-18-70cfbb258cf1>:1: FutureWarning: The default value of numeric_only in DataFrame.std is deprecated. In a future version, it will default to False. In addition, specifying 'numeric_only=None' is deprecated. Select only valid columns or specify the value of numeric_only to silence this warning.\n",
            "  samples.std()\n"
          ]
        },
        {
          "output_type": "execute_result",
          "data": {
            "text/plain": [
              "height        8.247307\n",
              "weight       13.584970\n",
              "ap_hi        14.615959\n",
              "ap_lo         7.950167\n",
              "age_years     6.802376\n",
              "bmi           4.642349\n",
              "dtype: float64"
            ]
          },
          "metadata": {},
          "execution_count": 18
        }
      ]
    },
    {
      "cell_type": "code",
      "source": [
        "len(samples[samples['weight'] > 70])"
      ],
      "metadata": {
        "colab": {
          "base_uri": "https://localhost:8080/"
        },
        "id": "PfWq3evYkGLp",
        "outputId": "aa8398f6-10ef-4361-f5be-c5a6451ce0d8"
      },
      "execution_count": 19,
      "outputs": [
        {
          "output_type": "execute_result",
          "data": {
            "text/plain": [
              "63"
            ]
          },
          "metadata": {},
          "execution_count": 19
        }
      ]
    },
    {
      "cell_type": "code",
      "source": [
        "from scipy.stats.mstats import ttest_1samp\n",
        "#https://docs.scipy.org/doc/scipy/reference/generated/scipy.stats.ttest_ind.html\n",
        "from statsmodels.stats.weightstats import ttest_ind\n",
        "\n",
        "test_statistic = ttest_1samp(samples['weight'], popmean= 60, alternative='greater')\n",
        "\n",
        "print(test_statistic)"
      ],
      "metadata": {
        "colab": {
          "base_uri": "https://localhost:8080/"
        },
        "id": "FQQy_F2MGxx5",
        "outputId": "0172b65c-75d6-431f-a79f-db9637c94eab"
      },
      "execution_count": 20,
      "outputs": [
        {
          "output_type": "stream",
          "name": "stdout",
          "text": [
            "Ttest_1sampResult(statistic=12.359246878796654, pvalue=4.401633132970351e-22)\n"
          ]
        }
      ]
    },
    {
      "cell_type": "code",
      "source": [
        "from statsmodels.stats.proportion import proportions_ztest\n",
        "\n",
        "zstat, pval = proportions_ztest(63, 100, value=0.5, prop_var=False, alternative='larger')\n",
        "\n",
        "print('zstat: ',zstat)\n",
        "print('pval: ',pval)"
      ],
      "metadata": {
        "colab": {
          "base_uri": "https://localhost:8080/"
        },
        "id": "YVE73FgAxIZ7",
        "outputId": "56a5f4df-825c-4013-858f-10018d2346c3"
      },
      "execution_count": 21,
      "outputs": [
        {
          "output_type": "stream",
          "name": "stdout",
          "text": [
            "zstat:  2.6926023193385333\n",
            "pval:  0.003544838884025079\n"
          ]
        }
      ]
    },
    {
      "cell_type": "code",
      "source": [
        "from statsmodels.stats.proportion import proportion_confint\n",
        "\n",
        "result = proportion_confint(63, 100, alpha=0.05, method='beta')\n",
        "print(result)"
      ],
      "metadata": {
        "colab": {
          "base_uri": "https://localhost:8080/"
        },
        "id": "Oab-tWP03IwL",
        "outputId": "827f5171-2d5d-4a7d-c0bc-67891931aa9a"
      },
      "execution_count": 22,
      "outputs": [
        {
          "output_type": "stream",
          "name": "stdout",
          "text": [
            "(0.527648359448317, 0.7244334203854486)\n"
          ]
        }
      ]
    },
    {
      "cell_type": "code",
      "source": [
        "# ap_hi_lo_samples = cardioVascular_dataset_filtered.sample(100, random_state=1199)\n",
        "# # Check for null values https://stackoverflow.com/a/69622929/3148856\n",
        "# ap_hi_lo_samples.isna().sum().sum()"
      ],
      "metadata": {
        "id": "98wkuOpZ8w6t"
      },
      "execution_count": 23,
      "outputs": []
    },
    {
      "cell_type": "code",
      "source": [
        "ap_hi_grid_data = np.reshape(samples['ap_hi'].to_numpy(), (10, 10))\n",
        "\n",
        "# Loop through rows and print the data\n",
        "for row in ap_hi_grid_data:\n",
        "    print(','.join(map(str, row)))"
      ],
      "metadata": {
        "colab": {
          "base_uri": "https://localhost:8080/"
        },
        "id": "5QQR9kyTbW4q",
        "outputId": "a1c21515-eb37-48e5-e42e-e06f07f50aad"
      },
      "execution_count": 24,
      "outputs": [
        {
          "output_type": "stream",
          "name": "stdout",
          "text": [
            "150,140,120,120,130,130,140,120,120,130\n",
            "120,140,140,120,120,130,130,130,130,140\n",
            "120,120,140,120,145,130,120,130,120,120\n",
            "130,140,140,170,120,140,130,130,160,140\n",
            "110,120,120,150,120,140,120,120,110,140\n",
            "160,110,140,140,120,130,120,120,100,140\n",
            "120,120,170,120,140,150,140,115,110,140\n",
            "160,120,120,130,120,150,120,120,120,110\n",
            "120,120,120,120,120,140,120,120,140,120\n",
            "120,120,120,130,140,180,120,150,160,140\n"
          ]
        }
      ]
    },
    {
      "cell_type": "code",
      "source": [
        "ap_hi_grid_data = np.reshape(samples['ap_lo'].to_numpy(), (10, 10))\n",
        "\n",
        "# Loop through rows and print the data\n",
        "for row in ap_hi_grid_data:\n",
        "    print(','.join(map(str, row)))"
      ],
      "metadata": {
        "colab": {
          "base_uri": "https://localhost:8080/"
        },
        "id": "111KJq-Qr53q",
        "outputId": "79cc4a0a-06a5-40fa-f2a8-10b588bdb5ea"
      },
      "execution_count": 25,
      "outputs": [
        {
          "output_type": "stream",
          "name": "stdout",
          "text": [
            "100,90,80,80,90,80,80,80,80,70\n",
            "80,90,90,80,80,80,90,82,90,80\n",
            "80,80,120,80,90,80,80,90,80,80\n",
            "90,90,90,110,80,80,90,90,100,90\n",
            "80,80,80,80,80,90,80,80,80,90\n",
            "90,90,90,100,80,80,80,80,80,80\n",
            "80,80,100,80,90,100,90,80,80,80\n",
            "90,80,80,90,80,90,80,80,80,80\n",
            "80,80,100,80,90,80,85,80,100,80\n",
            "80,80,80,70,80,90,80,90,100,80\n"
          ]
        }
      ]
    },
    {
      "cell_type": "code",
      "source": [
        "#ap_lo_samples = cardioVascular_dataset_filtered['ap_lo'].sample(100, random_state=1199)\n",
        "# Check for null values https://stackoverflow.com/a/69622929/3148856\n",
        "#ap_lo_samples.isna().sum().sum()"
      ],
      "metadata": {
        "id": "f9rCJOdHaq16"
      },
      "execution_count": 26,
      "outputs": []
    },
    {
      "cell_type": "code",
      "source": [
        "samples['ap_hi'].describe()"
      ],
      "metadata": {
        "colab": {
          "base_uri": "https://localhost:8080/"
        },
        "id": "XHXbUtlGwSiN",
        "outputId": "8833268a-af55-4c34-ef16-164d4df15629"
      },
      "execution_count": 27,
      "outputs": [
        {
          "output_type": "execute_result",
          "data": {
            "text/plain": [
              "count    100.000000\n",
              "mean     130.100000\n",
              "std       14.615959\n",
              "min      100.000000\n",
              "25%      120.000000\n",
              "50%      125.000000\n",
              "75%      140.000000\n",
              "max      180.000000\n",
              "Name: ap_hi, dtype: float64"
            ]
          },
          "metadata": {},
          "execution_count": 27
        }
      ]
    },
    {
      "cell_type": "code",
      "source": [
        "samples['ap_lo'].describe()"
      ],
      "metadata": {
        "colab": {
          "base_uri": "https://localhost:8080/"
        },
        "id": "_AUx62MhwVTq",
        "outputId": "ecb709c6-ab55-45b4-8c37-15671ada5599"
      },
      "execution_count": 28,
      "outputs": [
        {
          "output_type": "execute_result",
          "data": {
            "text/plain": [
              "count    100.000000\n",
              "mean      84.870000\n",
              "std        7.950167\n",
              "min       70.000000\n",
              "25%       80.000000\n",
              "50%       80.000000\n",
              "75%       90.000000\n",
              "max      120.000000\n",
              "Name: ap_lo, dtype: float64"
            ]
          },
          "metadata": {},
          "execution_count": 28
        }
      ]
    },
    {
      "cell_type": "code",
      "source": [
        "samples['weight'].describe()"
      ],
      "metadata": {
        "colab": {
          "base_uri": "https://localhost:8080/"
        },
        "id": "Kiltw2lWQteO",
        "outputId": "19b86494-fa53-4151-a4a3-613a84260d58"
      },
      "execution_count": 29,
      "outputs": [
        {
          "output_type": "execute_result",
          "data": {
            "text/plain": [
              "count    100.00000\n",
              "mean      76.79000\n",
              "std       13.58497\n",
              "min       50.00000\n",
              "25%       67.75000\n",
              "50%       75.00000\n",
              "75%       85.00000\n",
              "max      129.00000\n",
              "Name: weight, dtype: float64"
            ]
          },
          "metadata": {},
          "execution_count": 29
        }
      ]
    },
    {
      "cell_type": "code",
      "source": [
        "samples['ap_hi'].describe()"
      ],
      "metadata": {
        "colab": {
          "base_uri": "https://localhost:8080/"
        },
        "id": "bq8tfXMGQ3rg",
        "outputId": "34b1714c-0c9a-4f4e-8205-c127bda2905d"
      },
      "execution_count": 30,
      "outputs": [
        {
          "output_type": "execute_result",
          "data": {
            "text/plain": [
              "count    100.000000\n",
              "mean     130.100000\n",
              "std       14.615959\n",
              "min      100.000000\n",
              "25%      120.000000\n",
              "50%      125.000000\n",
              "75%      140.000000\n",
              "max      180.000000\n",
              "Name: ap_hi, dtype: float64"
            ]
          },
          "metadata": {},
          "execution_count": 30
        }
      ]
    },
    {
      "cell_type": "code",
      "source": [
        "weight_ap_hi_difference = samples['weight'] - samples['ap_hi']\n",
        "\n",
        "\n",
        "\n",
        "weight_ap_hi_difference_grid_data = np.reshape(weight_ap_hi_difference.to_numpy(), (10, 10))\n",
        "\n",
        "# Loop through rows and print the data\n",
        "for row in weight_ap_hi_difference_grid_data:\n",
        "    print(','.join(map(str, row)))"
      ],
      "metadata": {
        "colab": {
          "base_uri": "https://localhost:8080/"
        },
        "id": "iuBkiaxme9Lw",
        "outputId": "b23c3454-e07b-4d00-9a34-8d923b916f92"
      },
      "execution_count": 31,
      "outputs": [
        {
          "output_type": "stream",
          "name": "stdout",
          "text": [
            "-85.0,-62.0,-45.0,-48.0,-45.0,-60.0,-40.0,-50.0,-22.0,-44.0\n",
            "-23.0,-11.0,-32.0,-41.0,-57.0,-50.0,-55.0,-67.0,-55.0,-88.0\n",
            "-57.0,-50.0,-53.0,-33.0,-57.0,-71.0,-40.0,-41.0,-48.0,-55.0\n",
            "-47.0,-60.0,-78.0,-90.0,-56.0,-78.0,-50.0,-55.0,-76.0,-72.0\n",
            "-32.0,-54.0,-49.0,-59.0,-61.0,-60.0,-70.0,-67.0,-34.0,-72.0\n",
            "-87.0,-52.0,-54.0,-40.0,-33.0,-59.0,-40.0,-54.0,-32.0,-78.0\n",
            "-51.0,-40.0,-101.0,-55.0,-75.0,-83.0,-78.0,-39.0,-22.0,-48.0\n",
            "-74.0,-38.0,-23.0,-28.0,-31.0,-85.0,-49.0,-44.0,-51.0,-52.0\n",
            "-55.0,-50.0,-7.0,-51.0,-47.0,-62.0,-48.0,-25.0,-55.0,-16.0\n",
            "-38.0,-55.0,-33.0,-60.0,-56.0,-100.0,-46.0,-76.0,-81.0,-69.0\n"
          ]
        }
      ]
    },
    {
      "cell_type": "code",
      "source": [
        "weight_ap_lo_difference = samples['weight'] - samples['ap_lo']\n",
        "\n",
        "weight_ap_lo_difference_grid_data = np.reshape(weight_ap_lo_difference.to_numpy(), (10, 10))\n",
        "\n",
        "# Loop through rows and print the data\n",
        "for row in weight_ap_lo_difference_grid_data:\n",
        "    print(','.join(map(str, row)))"
      ],
      "metadata": {
        "colab": {
          "base_uri": "https://localhost:8080/"
        },
        "id": "kfs1XOQcMxtm",
        "outputId": "fb06a94c-290d-4e40-95fb-520b5a7f2363"
      },
      "execution_count": 32,
      "outputs": [
        {
          "output_type": "stream",
          "name": "stdout",
          "text": [
            "-35.0,-12.0,-5.0,-8.0,-5.0,-10.0,20.0,-10.0,18.0,16.0\n",
            "17.0,39.0,18.0,-1.0,-17.0,0.0,-15.0,-19.0,-15.0,-28.0\n",
            "-17.0,-10.0,-33.0,7.0,-2.0,-21.0,0.0,-1.0,-8.0,-15.0\n",
            "-7.0,-10.0,-28.0,-30.0,-16.0,-18.0,-10.0,-15.0,-16.0,-22.0\n",
            "-2.0,-14.0,-9.0,11.0,-21.0,-10.0,-30.0,-27.0,-4.0,-22.0\n",
            "-17.0,-32.0,-4.0,0.0,7.0,-9.0,0.0,-14.0,-12.0,-18.0\n",
            "-11.0,0.0,-31.0,-15.0,-25.0,-33.0,-28.0,-4.0,8.0,12.0\n",
            "-4.0,2.0,17.0,12.0,9.0,-25.0,-9.0,-4.0,-11.0,-22.0\n",
            "-15.0,-10.0,13.0,-11.0,-17.0,-2.0,-13.0,15.0,-15.0,24.0\n",
            "2.0,-15.0,7.0,0.0,4.0,-10.0,-6.0,-16.0,-21.0,-9.0\n"
          ]
        }
      ]
    },
    {
      "cell_type": "code",
      "source": [
        "weight_ap_hi_difference.describe()"
      ],
      "metadata": {
        "colab": {
          "base_uri": "https://localhost:8080/"
        },
        "id": "jm3KqOl-fSL9",
        "outputId": "d9d2cdce-14f3-487f-db76-7fab522d75b0"
      },
      "execution_count": 33,
      "outputs": [
        {
          "output_type": "execute_result",
          "data": {
            "text/plain": [
              "count    100.000000\n",
              "mean     -53.310000\n",
              "std       18.849588\n",
              "min     -101.000000\n",
              "25%      -62.000000\n",
              "50%      -52.500000\n",
              "75%      -40.750000\n",
              "max       -7.000000\n",
              "dtype: float64"
            ]
          },
          "metadata": {},
          "execution_count": 33
        }
      ]
    },
    {
      "cell_type": "code",
      "source": [
        "weight_ap_lo_difference.describe()"
      ],
      "metadata": {
        "colab": {
          "base_uri": "https://localhost:8080/"
        },
        "id": "-EssIkllN_fl",
        "outputId": "1a4109d0-37d4-4307-e277-1b5137a177bf"
      },
      "execution_count": 34,
      "outputs": [
        {
          "output_type": "execute_result",
          "data": {
            "text/plain": [
              "count    100.000000\n",
              "mean      -8.080000\n",
              "std       14.315831\n",
              "min      -35.000000\n",
              "25%      -17.000000\n",
              "50%      -10.000000\n",
              "75%        0.000000\n",
              "max       39.000000\n",
              "dtype: float64"
            ]
          },
          "metadata": {},
          "execution_count": 34
        }
      ]
    },
    {
      "cell_type": "code",
      "source": [
        "weight_ap_hi_difference.hist()\n"
      ],
      "metadata": {
        "colab": {
          "base_uri": "https://localhost:8080/",
          "height": 448
        },
        "id": "wJxVCygu8zce",
        "outputId": "2e7ed76d-8ddb-4414-f001-345c155cb043"
      },
      "execution_count": 35,
      "outputs": [
        {
          "output_type": "execute_result",
          "data": {
            "text/plain": [
              "<Axes: >"
            ]
          },
          "metadata": {},
          "execution_count": 35
        },
        {
          "output_type": "display_data",
          "data": {
            "text/plain": [
              "<Figure size 640x480 with 1 Axes>"
            ],
            "image/png": "[encoded data removed]"
          },
          "metadata": {}
        }
      ]
    },
    {
      "cell_type": "code",
      "source": [
        "weight_ap_lo_difference.hist()"
      ],
      "metadata": {
        "colab": {
          "base_uri": "https://localhost:8080/",
          "height": 448
        },
        "id": "kQ6S0E2jazEE",
        "outputId": "54f706d4-f3d6-4416-b476-4057906fda06"
      },
      "execution_count": 36,
      "outputs": [
        {
          "output_type": "execute_result",
          "data": {
            "text/plain": [
              "<Axes: >"
            ]
          },
          "metadata": {},
          "execution_count": 36
        },
        {
          "output_type": "display_data",
          "data": {
            "text/plain": [
              "<Figure size 640x480 with 1 Axes>"
            ],
            "image/png": "[encoded data removed]"
          },
          "metadata": {}
        }
      ]
    },
    {
      "cell_type": "code",
      "source": [
        "import matplotlib.pyplot as plt\n",
        "\n",
        "x = samples['weight']\n",
        "y = samples['ap_hi']\n",
        "\n",
        "plt.scatter(x, y)\n",
        "plt.show()"
      ],
      "metadata": {
        "colab": {
          "base_uri": "https://localhost:8080/",
          "height": 430
        },
        "id": "nMQ3zoBqbVpS",
        "outputId": "6f3e5ec3-4a8c-4112-8ffb-68f50380f5f2"
      },
      "execution_count": 37,
      "outputs": [
        {
          "output_type": "display_data",
          "data": {
            "text/plain": [
              "<Figure size 640x480 with 1 Axes>"
            ],
            "image/png": "[encoded data removed]"
          },
          "metadata": {}
        }
      ]
    },
    {
      "cell_type": "code",
      "source": [
        "x = samples['weight']\n",
        "y = samples['ap_lo']\n",
        "\n",
        "plt.scatter(x, y)\n",
        "plt.show()"
      ],
      "metadata": {
        "colab": {
          "base_uri": "https://localhost:8080/",
          "height": 430
        },
        "id": "AOsi5tjmYR1W",
        "outputId": "1caee985-87d9-486d-b95e-b0fcbf253915"
      },
      "execution_count": 38,
      "outputs": [
        {
          "output_type": "display_data",
          "data": {
            "text/plain": [
              "<Figure size 640x480 with 1 Axes>"
            ],
            "image/png": "[encoded data removed]"
          },
          "metadata": {}
        }
      ]
    },
    {
      "cell_type": "code",
      "source": [
        "x = samples['weight']\n",
        "y = samples['ap_hi']\n",
        "\n",
        "Zx = (x - x.mean()) / x.std()\n",
        "Zy = (y - y.mean()) / y.std()\n",
        "correlationR = np.multiply(Zx,Zy).sum() / (len(x)- 1)\n",
        "print('weight and Systolic Blood Pressure correlation: ',correlationR)"
      ],
      "metadata": {
        "colab": {
          "base_uri": "https://localhost:8080/"
        },
        "id": "O7IK7RkH4o3k",
        "outputId": "7255653d-0de9-44bb-fa95-ac465de367ed"
      },
      "execution_count": 39,
      "outputs": [
        {
          "output_type": "stream",
          "name": "stdout",
          "text": [
            "weight and Systolic Blood Pressure correlation:  0.10795546708354092\n"
          ]
        }
      ]
    },
    {
      "cell_type": "code",
      "source": [
        "x = samples['weight']\n",
        "y = samples['ap_lo']\n",
        "\n",
        "Zx = (x - x.mean()) / x.std()\n",
        "Zy = (y - y.mean()) / y.std()\n",
        "correlationR = np.multiply(Zx,Zy).sum() / (len(x)- 1)\n",
        "print('weight and Diastolic Blood Pressure correlation: ',correlationR)"
      ],
      "metadata": {
        "colab": {
          "base_uri": "https://localhost:8080/"
        },
        "id": "Y8AiXBFAsrEI",
        "outputId": "fa0a72f7-4130-4646-a58c-1d9f1014f9d2"
      },
      "execution_count": 40,
      "outputs": [
        {
          "output_type": "stream",
          "name": "stdout",
          "text": [
            "weight and Diastolic Blood Pressure correlation:  0.19820571321253885\n"
          ]
        }
      ]
    },
    {
      "cell_type": "markdown",
      "source": [
        "Correlation confidence: https://zhiyzuo.github.io/Pearson-Correlation-CI-in-Python/"
      ],
      "metadata": {
        "id": "xwCqA0qUVcmy"
      }
    },
    {
      "cell_type": "code",
      "source": [
        "from scipy import stats\n",
        "\n",
        "x = samples['weight']\n",
        "y1 = samples['ap_hi']\n",
        "y2 = samples['ap_lo']\n",
        "\n",
        "pearsonR1 = stats.pearsonr(x,y1)\n",
        "pearsonR2 = stats.pearsonr(x,y2)\n",
        "print('weight and ap_hi correlation: ', pearsonR1.correlation)\n",
        "print('weight and ap_lo correlation: ', pearsonR2.correlation)"
      ],
      "metadata": {
        "colab": {
          "base_uri": "https://localhost:8080/"
        },
        "id": "iNrDI6IlSX49",
        "outputId": "cac62f73-2d16-4459-a744-5a1e89a6be10"
      },
      "execution_count": 41,
      "outputs": [
        {
          "output_type": "stream",
          "name": "stdout",
          "text": [
            "weight and ap_hi correlation:  0.10795546708354091\n",
            "weight and ap_lo correlation:  0.1982057132125388\n"
          ]
        }
      ]
    },
    {
      "cell_type": "code",
      "source": [
        "pearsonR1_CI = pearsonR1.confidence_interval(confidence_level=0.95)\n",
        "pearsonR2_CI = pearsonR2.confidence_interval(confidence_level=0.95)\n",
        "\n",
        "print('weight and ap_hi correlation CI: ', pearsonR1_CI)\n",
        "print('weight and ap_lo correlation CI: ', pearsonR2_CI)"
      ],
      "metadata": {
        "colab": {
          "base_uri": "https://localhost:8080/"
        },
        "id": "7AxgUJp1WqiV",
        "outputId": "87ed40e0-7b29-4f98-dcca-42384ffb2048"
      },
      "execution_count": 42,
      "outputs": [
        {
          "output_type": "stream",
          "name": "stdout",
          "text": [
            "weight and ap_hi correlation CI:  ConfidenceInterval(low=-0.09037908575559124, high=0.29805353550469366)\n",
            "weight and ap_lo correlation CI:  ConfidenceInterval(low=0.001860007855474083, high=0.379836348657462)\n"
          ]
        }
      ]
    },
    {
      "cell_type": "markdown",
      "source": [
        "## Dummies https://stackoverflow.com/a/53756024/3148856"
      ],
      "metadata": {
        "id": "RKAl4pIn8wLT"
      }
    },
    {
      "cell_type": "code",
      "source": [
        "from scipy import stats\n",
        "\n",
        "#bp_category_types = list(set(samples['bp_category']))\n",
        "\n",
        "Y = pd.get_dummies(data = samples['bp_category'], drop_first=True)\n",
        "#print(Y)\n",
        "\n",
        "X = samples['weight']\n",
        "\n",
        "samples.groupby(\"bp_category\")[\"weight\"].mean()\n",
        "\n",
        "#res = stats.linregress(X, Y)\n"
      ],
      "metadata": {
        "colab": {
          "base_uri": "https://localhost:8080/"
        },
        "id": "hpOHWC598ve_",
        "outputId": "0090468a-cc5f-4e8e-8156-3dd706c85a28"
      },
      "execution_count": 135,
      "outputs": [
        {
          "output_type": "execute_result",
          "data": {
            "text/plain": [
              "bp_category\n",
              "Hypertension Stage 1    75.591549\n",
              "Hypertension Stage 2    79.724138\n",
              "Name: weight, dtype: float64"
            ]
          },
          "metadata": {},
          "execution_count": 135
        }
      ]
    },
    {
      "cell_type": "code",
      "source": [
        "X = X.to_frame()"
      ],
      "metadata": {
        "id": "dVRalHqbjB_S"
      },
      "execution_count": 136,
      "outputs": []
    },
    {
      "cell_type": "code",
      "source": [
        "test_samples = cardioVascular_dataset_filtered.sample(100, random_state=19)\n",
        "# Check for null values https://stackoverflow.com/a/69622929/3148856\n",
        "X_test = test_samples['weight'].to_frame()\n",
        "Y_test = pd.get_dummies(data = test_samples['bp_category'], drop_first=True)"
      ],
      "metadata": {
        "id": "-IrxsSZosrE9"
      },
      "execution_count": 177,
      "outputs": []
    },
    {
      "cell_type": "code",
      "source": [
        "from sklearn.linear_model import LinearRegression\n",
        "\n",
        "\n",
        "reg = LinearRegression().fit(X, Y)\n",
        "\n",
        "Y_predictions = reg.predict(X_test)"
      ],
      "metadata": {
        "id": "EUdRvURQiqVV"
      },
      "execution_count": 178,
      "outputs": []
    },
    {
      "cell_type": "code",
      "source": [
        "reg.score(X,Y)"
      ],
      "metadata": {
        "colab": {
          "base_uri": "https://localhost:8080/"
        },
        "id": "heLB9w6gpilb",
        "outputId": "9fd0bd25-d47f-4137-bbf6-7b2e1264ee70"
      },
      "execution_count": 179,
      "outputs": [
        {
          "output_type": "execute_result",
          "data": {
            "text/plain": [
              "0.019246338896240167"
            ]
          },
          "metadata": {},
          "execution_count": 179
        }
      ]
    },
    {
      "cell_type": "code",
      "source": [
        "# slope\n",
        "reg.coef_"
      ],
      "metadata": {
        "colab": {
          "base_uri": "https://localhost:8080/"
        },
        "id": "B4GxLckKp1NZ",
        "outputId": "d8e034ed-d9f5-4268-d3a0-a164c1436c0d"
      },
      "execution_count": 180,
      "outputs": [
        {
          "output_type": "execute_result",
          "data": {
            "text/plain": [
              "array([[0.00465721]])"
            ]
          },
          "metadata": {},
          "execution_count": 180
        }
      ]
    },
    {
      "cell_type": "code",
      "source": [
        "# intercept\n",
        "reg.intercept_"
      ],
      "metadata": {
        "colab": {
          "base_uri": "https://localhost:8080/"
        },
        "id": "t4tb146lpVd8",
        "outputId": "c9000e59-30e1-48be-d86a-0b8986b06eb8"
      },
      "execution_count": 181,
      "outputs": [
        {
          "output_type": "execute_result",
          "data": {
            "text/plain": [
              "array([-0.06762726])"
            ]
          },
          "metadata": {},
          "execution_count": 181
        }
      ]
    },
    {
      "cell_type": "code",
      "source": [
        "X_test['weight'].max()"
      ],
      "metadata": {
        "colab": {
          "base_uri": "https://localhost:8080/"
        },
        "id": "II60787MwrOv",
        "outputId": "3280b1f8-77f7-49ec-9048-e77425f0d77d"
      },
      "execution_count": 182,
      "outputs": [
        {
          "output_type": "execute_result",
          "data": {
            "text/plain": [
              "130.0"
            ]
          },
          "metadata": {},
          "execution_count": 182
        }
      ]
    },
    {
      "cell_type": "code",
      "source": [
        "#Y_test = -0.06762726 + 0.00465721 * X_test['weight']"
      ],
      "metadata": {
        "id": "YDu9YG8ezhiz"
      },
      "execution_count": 183,
      "outputs": []
    },
    {
      "cell_type": "code",
      "source": [
        "\n",
        "#plt.scatter(X_test, Y_test, color=\"black\")\n",
        "plt.title('Regression Line')\n",
        "plt.xlabel('Weight in Kilograms')\n",
        "plt.ylabel('Hypertension category 0 -> Cat 1, 1 -> Cat 2')\n",
        "plt.xlim([X_test['weight'].min(), X_test['weight'].max()])\n",
        "plt.ylim([0, 1])\n",
        "#plt.scatter(X_test, Y_test, color=\"black\")\n",
        "plt.plot(X_test, Y_predictions, color=\"blue\", linewidth=3)"
      ],
      "metadata": {
        "colab": {
          "base_uri": "https://localhost:8080/",
          "height": 490
        },
        "id": "vxzXSTSMryZe",
        "outputId": "ca41f04e-ef2d-4fdb-e137-5adb835b9a07"
      },
      "execution_count": 184,
      "outputs": [
        {
          "output_type": "execute_result",
          "data": {
            "text/plain": [
              "[<matplotlib.lines.Line2D at 0x7ad2fd34f100>]"
            ]
          },
          "metadata": {},
          "execution_count": 184
        },
        {
          "output_type": "display_data",
          "data": {
            "text/plain": [
              "<Figure size 640x480 with 1 Axes>"
            ],
            "image/png": "[encoded data removed]"
          },
          "metadata": {}
        }
      ]
    },
    {
      "cell_type": "code",
      "source": [
        "# residual = observed y - predicted y\n",
        "residual = Y_test - Y_predictions"
      ],
      "metadata": {
        "id": "rF8yh4x40HKB"
      },
      "execution_count": 194,
      "outputs": []
    },
    {
      "cell_type": "code",
      "source": [],
      "metadata": {
        "colab": {
          "base_uri": "https://localhost:8080/"
        },
        "id": "aa8fMwGK3xhP",
        "outputId": "79149858-49ab-4def-ac51-aeca9c33a1f7"
      },
      "execution_count": 200,
      "outputs": [
        {
          "output_type": "execute_result",
          "data": {
            "text/plain": [
              "Hypertension Stage 2    0.853396\n",
              "dtype: float64"
            ]
          },
          "metadata": {},
          "execution_count": 200
        }
      ]
    },
    {
      "cell_type": "code",
      "source": [
        "plt.title('Residual Graph')\n",
        "plt.xlabel('Weight in Kilograms')\n",
        "plt.ylabel('Hypertension category 0 -> Cat 1, 1 -> Cat 2')\n",
        "plt.xlim([X_test['weight'].min(), X_test['weight'].max()])\n",
        "plt.ylim([-1, 1])\n",
        "plt.scatter(X_test, residual, color=\"black\")\n",
        "#plt.plot(X_test, Y_predictions, color=\"blue\", linewidth=3)"
      ],
      "metadata": {
        "colab": {
          "base_uri": "https://localhost:8080/",
          "height": 490
        },
        "id": "Rqe2xK3v0cim",
        "outputId": "933d1ff0-eb0a-4d57-fe14-365977de0e78"
      },
      "execution_count": 202,
      "outputs": [
        {
          "output_type": "execute_result",
          "data": {
            "text/plain": [
              "<matplotlib.collections.PathCollection at 0x7ad2fd773dc0>"
            ]
          },
          "metadata": {},
          "execution_count": 202
        },
        {
          "output_type": "display_data",
          "data": {
            "text/plain": [
              "<Figure size 640x480 with 1 Axes>"
            ],
            "image/png": "[encoded data removed]"
          },
          "metadata": {}
        }
      ]
    },
    {
      "cell_type": "markdown",
      "source": [
        "# References\n",
        "\n",
        "\n",
        "1.   https://stackoverflow.com/a/57401752\n",
        "\n"
      ],
      "metadata": {
        "id": "bQhy2aQf_BaO"
      }
    }
  ]
}