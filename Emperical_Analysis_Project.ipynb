{
  "nbformat": 4,
  "nbformat_minor": 0,
  "metadata": {
    "colab": {
      "provenance": [],
      "toc_visible": true,
      "authorship_tag": "ABX9TyOjAJ2hdiVBOxlBKY/k42pY",
      "include_colab_link": true
    },
    "kernelspec": {
      "name": "python3",
      "display_name": "Python 3"
    },
    "language_info": {
      "name": "python"
    }
  },
  "cells": [
    {
      "cell_type": "markdown",
      "metadata": {
        "id": "view-in-github",
        "colab_type": "text"
      },
      "source": [
        "<a href=\"https://colab.research.google.com/github/farhanarrafi/empirical-analysis-project/blob/main/Emperical_Analysis_Project.ipynb\" target=\"_parent\"><img src=\"https://colab.research.google.com/assets/colab-badge.svg\" alt=\"Open In Colab\"/></a>"
      ]
    },
    {
      "cell_type": "markdown",
      "source": [
        "# Cardiovascular Data Analysis using Statistical Methods"
      ],
      "metadata": {
        "id": "S5B5HWsumHos"
      }
    },
    {
      "cell_type": "markdown",
      "source": [
        "## Feature Description\n",
        "\n",
        "\n",
        "age: Age of the patient in days.\n",
        ".\n",
        "gender: Gender of the patient. Categorical variable (1: Female, 2: Male).\n",
        "height: Height of the patient in centimeters.\n",
        "weight: Weight of the patient in kilograms.\n",
        "ap_hi: Systolic blood pressure.\n",
        "ap_lo: Diastolic blood pressure.\n",
        "\n",
        "* ID: Unique identifier for each patient.\n",
        "* age_years: Age of the patient in years\n",
        "* height: Height of the patient in centimeters.\n",
        "* weight: Weight of the patient in kilograms.\n",
        "* ap_hi: Systolic blood pressure.\n",
        "* ap_lo: Diastolic blood pressure.\n",
        "* bmi: Body Mass Index, derived from weight and height. Calculated as *BMI = weight / height^2*\n",
        "* bp_category: Blood pressure category based on ap_hi and ap_lo. Categories include \"Normal\", \"Elevated\", \"Hypertension Stage 1\", \"Hypertension Stage 2\", and \"Hypertensive Crisis\".\n",
        "\n"
      ],
      "metadata": {
        "id": "hGIda945k3YD"
      }
    },
    {
      "cell_type": "markdown",
      "source": [
        "## Data Import"
      ],
      "metadata": {
        "id": "buR8q5-8mSJF"
      }
    },
    {
      "cell_type": "markdown",
      "source": [
        "Dataset srouce: https://www.kaggle.com/datasets/colewelkins/cardiovascular-disease\n"
      ],
      "metadata": {
        "id": "T8lRGlkx9Tyq"
      }
    },
    {
      "cell_type": "code",
      "execution_count": 2,
      "metadata": {
        "id": "pCaJR3dp8GvY"
      },
      "outputs": [],
      "source": [
        "import os.path\n",
        "import json\n",
        "\n",
        "\n",
        "api_token = {\"username\":\"farhanarrafi\",\"key\":\"074ead27713d782ad86b0e445765e799\"}\n",
        "\n",
        "if not os.path.isdir('/root/.kaggle'):\n",
        "  ! mkdir ~/.kaggle\n",
        "  ! touch ~/.kaggle/kaggle.json\n",
        "  with open('/root/.kaggle/kaggle.json', 'w') as file:\n",
        "      json.dump(api_token, file)\n",
        "  !chmod 600 ~/.kaggle/kaggle.json\n",
        "\n",
        "#! kaggle datasets list"
      ]
    },
    {
      "cell_type": "code",
      "source": [
        "if not os.path.isfile('cardio_data_processed.csv'):\n",
        "  ! kaggle datasets download -d colewelkins/cardiovascular-disease\n",
        "  ! unzip cardiovascular-disease.zip\n",
        "  ! rm -rf cardiovascular-disease.zip"
      ],
      "metadata": {
        "id": "UMs5FVX78a-z",
        "colab": {
          "base_uri": "https://localhost:8080/"
        },
        "outputId": "95ff0038-2533-472a-cc96-a9d4b8eb97cb"
      },
      "execution_count": 3,
      "outputs": [
        {
          "output_type": "stream",
          "name": "stdout",
          "text": [
            "Downloading cardiovascular-disease.zip to /content\n",
            " 70% 1.00M/1.43M [00:00<00:00, 1.99MB/s]\n",
            "100% 1.43M/1.43M [00:00<00:00, 2.64MB/s]\n",
            "Archive:  cardiovascular-disease.zip\n",
            "  inflating: cardio_data_processed.csv  \n"
          ]
        }
      ]
    },
    {
      "cell_type": "code",
      "source": [
        "import numpy as np # linear algebra\n",
        "import pandas as pd # data processing, CSV file I/O (e.g. pd.read_csv)\n",
        "\n",
        "cardioVascular_dataset = pd.read_csv('cardio_data_processed.csv')\n",
        "\n",
        "# Remove columns\n",
        "cardioVascular_dataset = cardioVascular_dataset.drop(axis='columns', columns=['age','gender', 'cholesterol','gluc','smoke','alco', 'active','cardio', 'bp_category_encoded'])\n",
        "# Setting index\n",
        "cardioVascular_dataset = cardioVascular_dataset.set_index('id')\n",
        "# Remove bp categories other than Hypertension Stage 1 and 2\n",
        "cardioVascular_dataset_filtered = cardioVascular_dataset.loc[(cardioVascular_dataset['bp_category'] == 'Hypertension Stage 1') |  (cardioVascular_dataset['bp_category'] == 'Hypertension Stage 2')]\n"
      ],
      "metadata": {
        "id": "UXAwWh5iAcbf"
      },
      "execution_count": 25,
      "outputs": []
    },
    {
      "cell_type": "code",
      "source": [],
      "metadata": {
        "colab": {
          "base_uri": "https://localhost:8080/"
        },
        "id": "KqxhboK9i83g",
        "outputId": "934b8319-231b-4158-fdf5-ed388f1383f3"
      },
      "execution_count": 28,
      "outputs": [
        {
          "output_type": "execute_result",
          "data": {
            "text/plain": [
              "11438"
            ]
          },
          "metadata": {},
          "execution_count": 28
        }
      ]
    },
    {
      "cell_type": "code",
      "source": [
        "# Select first 2000\n",
        "cardioVascular_dataset_filtered = cardioVascular_dataset_filtered.sample(5000, random_state=111)\n",
        "# Check for null values\n",
        "cardioVascular_dataset_filtered.isna().sum().sum()"
      ],
      "metadata": {
        "colab": {
          "base_uri": "https://localhost:8080/"
        },
        "id": "q19TieIci6o0",
        "outputId": "820d3637-c5c1-469f-89a8-d78c93727c04"
      },
      "execution_count": 29,
      "outputs": [
        {
          "output_type": "execute_result",
          "data": {
            "text/plain": [
              "0"
            ]
          },
          "metadata": {},
          "execution_count": 29
        }
      ]
    },
    {
      "cell_type": "code",
      "source": [],
      "metadata": {
        "colab": {
          "base_uri": "https://localhost:8080/"
        },
        "id": "0bipwHBNi1l2",
        "outputId": "7e86587a-410c-4367-aa3a-01b80f664d7d"
      },
      "execution_count": 30,
      "outputs": [
        {
          "output_type": "execute_result",
          "data": {
            "text/plain": [
              "997"
            ]
          },
          "metadata": {},
          "execution_count": 30
        }
      ]
    },
    {
      "cell_type": "code",
      "source": [
        "len(cardioVascular_dataset_filtered)"
      ],
      "metadata": {
        "id": "xdXCAeeSDL8q",
        "colab": {
          "base_uri": "https://localhost:8080/"
        },
        "outputId": "275ae0b7-ba2a-4622-8db0-ff7bf20d21b5"
      },
      "execution_count": 5,
      "outputs": [
        {
          "output_type": "execute_result",
          "data": {
            "text/plain": [
              "5000"
            ]
          },
          "metadata": {},
          "execution_count": 5
        }
      ]
    },
    {
      "cell_type": "code",
      "source": [
        "cardioVascular_dataset_filtered.mean()"
      ],
      "metadata": {
        "colab": {
          "base_uri": "https://localhost:8080/"
        },
        "id": "vPdjHfy-YDgi",
        "outputId": "febf6503-6ca8-450c-fb47-9dd11ae7edb4"
      },
      "execution_count": 18,
      "outputs": [
        {
          "output_type": "stream",
          "name": "stderr",
          "text": [
            "<ipython-input-18-691787149147>:1: FutureWarning: The default value of numeric_only in DataFrame.mean is deprecated. In a future version, it will default to False. In addition, specifying 'numeric_only=None' is deprecated. Select only valid columns or specify the value of numeric_only to silence this warning.\n",
            "  cardioVascular_dataset_filtered.mean()\n"
          ]
        },
        {
          "output_type": "execute_result",
          "data": {
            "text/plain": [
              "height       164.575000\n",
              "weight        75.295860\n",
              "ap_hi        130.267800\n",
              "ap_lo         84.179400\n",
              "age_years     53.487000\n",
              "bmi           27.940187\n",
              "dtype: float64"
            ]
          },
          "metadata": {},
          "execution_count": 18
        }
      ]
    },
    {
      "cell_type": "code",
      "source": [],
      "metadata": {
        "colab": {
          "base_uri": "https://localhost:8080/"
        },
        "id": "Ud_MgIoAiGyX",
        "outputId": "4e441c59-5faf-4fc6-e7f3-765cbec5f534"
      },
      "execution_count": 24,
      "outputs": [
        {
          "output_type": "execute_result",
          "data": {
            "text/plain": [
              "29.220000000000002"
            ]
          },
          "metadata": {},
          "execution_count": 24
        }
      ]
    },
    {
      "cell_type": "code",
      "source": [
        "cardioVascular_dataset_filtered['weight'].plot.density()"
      ],
      "metadata": {
        "colab": {
          "base_uri": "https://localhost:8080/",
          "height": 448
        },
        "id": "H6Oza8DGHAaS",
        "outputId": "ee3f6adc-c2c0-4a00-c1ca-d73e40ed7686"
      },
      "execution_count": 6,
      "outputs": [
        {
          "output_type": "execute_result",
          "data": {
            "text/plain": [
              "<Axes: ylabel='Density'>"
            ]
          },
          "metadata": {},
          "execution_count": 6
        },
        {
          "output_type": "display_data",
          "data": {
            "text/plain": [
              "<Figure size 640x480 with 1 Axes>"
            ],
            "image/png": "[encoded data removed]"
          },
          "metadata": {}
        }
      ]
    },
    {
      "cell_type": "code",
      "source": [
        "samples = cardioVascular_dataset_filtered.sample(100, random_state=1199)\n",
        "# Check for null values https://stackoverflow.com/a/69622929/3148856\n",
        "samples.isna().sum().sum()"
      ],
      "metadata": {
        "colab": {
          "base_uri": "https://localhost:8080/"
        },
        "id": "aR497Q3YbuH6",
        "outputId": "90a19508-4020-40a0-ba26-3266326f6f2e"
      },
      "execution_count": 7,
      "outputs": [
        {
          "output_type": "execute_result",
          "data": {
            "text/plain": [
              "0"
            ]
          },
          "metadata": {},
          "execution_count": 7
        }
      ]
    },
    {
      "cell_type": "code",
      "source": [
        "samples.max()"
      ],
      "metadata": {
        "colab": {
          "base_uri": "https://localhost:8080/"
        },
        "id": "h1G7fQJCj9cu",
        "outputId": "a242ab99-ca8c-453e-ead4-6ff1ecd98485"
      },
      "execution_count": 8,
      "outputs": [
        {
          "output_type": "execute_result",
          "data": {
            "text/plain": [
              "height                          189\n",
              "weight                        129.0\n",
              "ap_hi                           180\n",
              "ap_lo                           120\n",
              "age_years                        64\n",
              "bmi                       41.007403\n",
              "bp_category    Hypertension Stage 2\n",
              "dtype: object"
            ]
          },
          "metadata": {},
          "execution_count": 8
        }
      ]
    },
    {
      "cell_type": "code",
      "source": [
        "samples.min()"
      ],
      "metadata": {
        "colab": {
          "base_uri": "https://localhost:8080/"
        },
        "id": "ckNAm5fdkf3H",
        "outputId": "25f03642-847c-4e8e-c3b5-a17c744d4259"
      },
      "execution_count": 9,
      "outputs": [
        {
          "output_type": "execute_result",
          "data": {
            "text/plain": [
              "height                          148\n",
              "weight                         50.0\n",
              "ap_hi                           100\n",
              "ap_lo                            70\n",
              "age_years                        39\n",
              "bmi                       16.514731\n",
              "bp_category    Hypertension Stage 1\n",
              "dtype: object"
            ]
          },
          "metadata": {},
          "execution_count": 9
        }
      ]
    },
    {
      "cell_type": "code",
      "source": [
        "samples[samples['weight'] <= 50]"
      ],
      "metadata": {
        "colab": {
          "base_uri": "https://localhost:8080/",
          "height": 112
        },
        "id": "DkFKcdCYkLy-",
        "outputId": "61cf709b-982f-4c24-bc86-b9daef5f2471"
      },
      "execution_count": 10,
      "outputs": [
        {
          "output_type": "execute_result",
          "data": {
            "text/plain": [
              "       height  weight  ap_hi  ap_lo  age_years        bmi  \\\n",
              "id                                                          \n",
              "27835     174    50.0    120     80         41  16.514731   \n",
              "\n",
              "                bp_category  \n",
              "id                           \n",
              "27835  Hypertension Stage 1  "
            ],
            "text/html": [
              "\n",
              "  <div id=\"df-8ea6506b-9a97-45cc-9090-a3687399f8c1\" class=\"colab-df-container\">\n",
              "    <div>\n",
              "<style scoped>\n",
              "    .dataframe tbody tr th:only-of-type {\n",
              "        vertical-align: middle;\n",
              "    }\n",
              "\n",
              "    .dataframe tbody tr th {\n",
              "        vertical-align: top;\n",
              "    }\n",
              "\n",
              "    .dataframe thead th {\n",
              "        text-align: right;\n",
              "    }\n",
              "</style>\n",
              "<table border=\"1\" class=\"dataframe\">\n",
              "  <thead>\n",
              "    <tr style=\"text-align: right;\">\n",
              "      <th></th>\n",
              "      <th>height</th>\n",
              "      <th>weight</th>\n",
              "      <th>ap_hi</th>\n",
              "      <th>ap_lo</th>\n",
              "      <th>age_years</th>\n",
              "      <th>bmi</th>\n",
              "      <th>bp_category</th>\n",
              "    </tr>\n",
              "    <tr>\n",
              "      <th>id</th>\n",
              "      <th></th>\n",
              "      <th></th>\n",
              "      <th></th>\n",
              "      <th></th>\n",
              "      <th></th>\n",
              "      <th></th>\n",
              "      <th></th>\n",
              "    </tr>\n",
              "  </thead>\n",
              "  <tbody>\n",
              "    <tr>\n",
              "      <th>27835</th>\n",
              "      <td>174</td>\n",
              "      <td>50.0</td>\n",
              "      <td>120</td>\n",
              "      <td>80</td>\n",
              "      <td>41</td>\n",
              "      <td>16.514731</td>\n",
              "      <td>Hypertension Stage 1</td>\n",
              "    </tr>\n",
              "  </tbody>\n",
              "</table>\n",
              "</div>\n",
              "    <div class=\"colab-df-buttons\">\n",
              "\n",
              "  <div class=\"colab-df-container\">\n",
              "    <button class=\"colab-df-convert\" onclick=\"convertToInteractive('df-8ea6506b-9a97-45cc-9090-a3687399f8c1')\"\n",
              "            title=\"Convert this dataframe to an interactive table.\"\n",
              "            style=\"display:none;\">\n",
              "\n",
              "  <svg xmlns=\"http://www.w3.org/2000/svg\" height=\"24px\" viewBox=\"0 -960 960 960\">\n",
              "    <path d=\"M120-120v-720h720v720H120Zm60-500h600v-160H180v160Zm220 220h160v-160H400v160Zm0 220h160v-160H400v160ZM180-400h160v-160H180v160Zm440 0h160v-160H620v160ZM180-180h160v-160H180v160Zm440 0h160v-160H620v160Z\"/>\n",
              "  </svg>\n",
              "    </button>\n",
              "\n",
              "  <style>\n",
              "    .colab-df-container {\n",
              "      display:flex;\n",
              "      gap: 12px;\n",
              "    }\n",
              "\n",
              "    .colab-df-convert {\n",
              "      background-color: #E8F0FE;\n",
              "      border: none;\n",
              "      border-radius: 50%;\n",
              "      cursor: pointer;\n",
              "      display: none;\n",
              "      fill: #1967D2;\n",
              "      height: 32px;\n",
              "      padding: 0 0 0 0;\n",
              "      width: 32px;\n",
              "    }\n",
              "\n",
              "    .colab-df-convert:hover {\n",
              "      background-color: #E2EBFA;\n",
              "      box-shadow: 0px 1px 2px rgba(60, 64, 67, 0.3), 0px 1px 3px 1px rgba(60, 64, 67, 0.15);\n",
              "      fill: #174EA6;\n",
              "    }\n",
              "\n",
              "    .colab-df-buttons div {\n",
              "      margin-bottom: 4px;\n",
              "    }\n",
              "\n",
              "    [theme=dark] .colab-df-convert {\n",
              "      background-color: #3B4455;\n",
              "      fill: #D2E3FC;\n",
              "    }\n",
              "\n",
              "    [theme=dark] .colab-df-convert:hover {\n",
              "      background-color: #434B5C;\n",
              "      box-shadow: 0px 1px 3px 1px rgba(0, 0, 0, 0.15);\n",
              "      filter: drop-shadow(0px 1px 2px rgba(0, 0, 0, 0.3));\n",
              "      fill: #FFFFFF;\n",
              "    }\n",
              "  </style>\n",
              "\n",
              "    <script>\n",
              "      const buttonEl =\n",
              "        document.querySelector('#df-8ea6506b-9a97-45cc-9090-a3687399f8c1 button.colab-df-convert');\n",
              "      buttonEl.style.display =\n",
              "        google.colab.kernel.accessAllowed ? 'block' : 'none';\n",
              "\n",
              "      async function convertToInteractive(key) {\n",
              "        const element = document.querySelector('#df-8ea6506b-9a97-45cc-9090-a3687399f8c1');\n",
              "        const dataTable =\n",
              "          await google.colab.kernel.invokeFunction('convertToInteractive',\n",
              "                                                    [key], {});\n",
              "        if (!dataTable) return;\n",
              "\n",
              "        const docLinkHtml = 'Like what you see? Visit the ' +\n",
              "          '<a target=\"_blank\" href=https://colab.research.google.com/notebooks/data_table.ipynb>data table notebook</a>'\n",
              "          + ' to learn more about interactive tables.';\n",
              "        element.innerHTML = '';\n",
              "        dataTable['output_type'] = 'display_data';\n",
              "        await google.colab.output.renderOutput(dataTable, element);\n",
              "        const docLink = document.createElement('div');\n",
              "        docLink.innerHTML = docLinkHtml;\n",
              "        element.appendChild(docLink);\n",
              "      }\n",
              "    </script>\n",
              "  </div>\n",
              "\n",
              "    </div>\n",
              "  </div>\n"
            ]
          },
          "metadata": {},
          "execution_count": 10
        }
      ]
    },
    {
      "cell_type": "code",
      "source": [
        "samples['weight'].plot.density()"
      ],
      "metadata": {
        "colab": {
          "base_uri": "https://localhost:8080/",
          "height": 448
        },
        "id": "NszAzupdre_O",
        "outputId": "9cc66103-1ddf-4185-86ee-1d622fbaaf17"
      },
      "execution_count": 11,
      "outputs": [
        {
          "output_type": "execute_result",
          "data": {
            "text/plain": [
              "<Axes: ylabel='Density'>"
            ]
          },
          "metadata": {},
          "execution_count": 11
        },
        {
          "output_type": "display_data",
          "data": {
            "text/plain": [
              "<Figure size 640x480 with 1 Axes>"
            ],
            "image/png": "[encoded data removed]"
          },
          "metadata": {}
        }
      ]
    },
    {
      "cell_type": "code",
      "source": [
        "samples['weight'].hist()"
      ],
      "metadata": {
        "id": "2Uj1AOP2Thfn",
        "outputId": "834905b2-97a3-4f93-e9de-57fc6fb362cf",
        "colab": {
          "base_uri": "https://localhost:8080/",
          "height": 450
        }
      },
      "execution_count": 12,
      "outputs": [
        {
          "output_type": "execute_result",
          "data": {
            "text/plain": [
              "<Axes: >"
            ]
          },
          "metadata": {},
          "execution_count": 12
        },
        {
          "output_type": "display_data",
          "data": {
            "text/plain": [
              "<Figure size 640x480 with 1 Axes>"
            ],
            "image/png": "[encoded data removed]"
          },
          "metadata": {}
        }
      ]
    },
    {
      "cell_type": "code",
      "source": [
        "# Grid code was provided by Chat GPT version 3 using the prompt - [how to print one column data contaning 20 items from a dataframe into a 4 by 5 grid]\n",
        "# Reshape the 1D array into a 2D array with a shape of (4, 5)\n",
        "grid_data = np.reshape(samples['weight'].to_numpy(), (10, 10))\n",
        "\n",
        "# Loop through rows and print the data\n",
        "for row in grid_data:\n",
        "    print(','.join(map(str, row)))"
      ],
      "metadata": {
        "colab": {
          "base_uri": "https://localhost:8080/"
        },
        "id": "J3r_5aEa0kfm",
        "outputId": "d8f7b3fb-7efc-47f3-9cbd-71a6c31fb032"
      },
      "execution_count": 13,
      "outputs": [
        {
          "output_type": "stream",
          "name": "stdout",
          "text": [
            "65.0,78.0,75.0,72.0,85.0,70.0,100.0,70.0,98.0,86.0\n",
            "97.0,129.0,108.0,79.0,63.0,80.0,75.0,63.0,75.0,52.0\n",
            "63.0,70.0,87.0,87.0,88.0,59.0,80.0,89.0,72.0,65.0\n",
            "83.0,80.0,62.0,80.0,64.0,62.0,80.0,75.0,84.0,68.0\n",
            "78.0,66.0,71.0,91.0,59.0,80.0,50.0,53.0,76.0,68.0\n",
            "73.0,58.0,86.0,100.0,87.0,71.0,80.0,66.0,68.0,62.0\n",
            "69.0,80.0,69.0,65.0,65.0,67.0,62.0,76.0,88.0,92.0\n",
            "86.0,82.0,97.0,102.0,89.0,65.0,71.0,76.0,69.0,58.0\n",
            "65.0,70.0,113.0,69.0,73.0,78.0,72.0,95.0,85.0,104.0\n",
            "82.0,65.0,87.0,70.0,84.0,80.0,74.0,74.0,79.0,71.0\n"
          ]
        }
      ]
    },
    {
      "cell_type": "code",
      "source": [
        "samples.mean()"
      ],
      "metadata": {
        "colab": {
          "base_uri": "https://localhost:8080/"
        },
        "id": "1cx9u883eEbo",
        "outputId": "cdcbc48f-4230-479c-e0f9-2db6519856c3"
      },
      "execution_count": 14,
      "outputs": [
        {
          "output_type": "stream",
          "name": "stderr",
          "text": [
            "<ipython-input-14-8111d020ec13>:1: FutureWarning: The default value of numeric_only in DataFrame.mean is deprecated. In a future version, it will default to False. In addition, specifying 'numeric_only=None' is deprecated. Select only valid columns or specify the value of numeric_only to silence this warning.\n",
            "  samples.mean()\n"
          ]
        },
        {
          "output_type": "execute_result",
          "data": {
            "text/plain": [
              "height       163.890000\n",
              "weight        76.790000\n",
              "ap_hi        130.100000\n",
              "ap_lo         84.870000\n",
              "age_years     53.520000\n",
              "bmi           28.611298\n",
              "dtype: float64"
            ]
          },
          "metadata": {},
          "execution_count": 14
        }
      ]
    },
    {
      "cell_type": "code",
      "source": [
        "samples.std()"
      ],
      "metadata": {
        "colab": {
          "base_uri": "https://localhost:8080/"
        },
        "id": "x0giul5PfPeV",
        "outputId": "7f6c5d0a-3522-4f7e-eeec-ea2e935f27e0"
      },
      "execution_count": 15,
      "outputs": [
        {
          "output_type": "stream",
          "name": "stderr",
          "text": [
            "<ipython-input-15-70cfbb258cf1>:1: FutureWarning: The default value of numeric_only in DataFrame.std is deprecated. In a future version, it will default to False. In addition, specifying 'numeric_only=None' is deprecated. Select only valid columns or specify the value of numeric_only to silence this warning.\n",
            "  samples.std()\n"
          ]
        },
        {
          "output_type": "execute_result",
          "data": {
            "text/plain": [
              "height        8.247307\n",
              "weight       13.584970\n",
              "ap_hi        14.615959\n",
              "ap_lo         7.950167\n",
              "age_years     6.802376\n",
              "bmi           4.642349\n",
              "dtype: float64"
            ]
          },
          "metadata": {},
          "execution_count": 15
        }
      ]
    },
    {
      "cell_type": "code",
      "source": [
        "len(samples[samples['weight'] > 70])"
      ],
      "metadata": {
        "colab": {
          "base_uri": "https://localhost:8080/"
        },
        "id": "PfWq3evYkGLp",
        "outputId": "5c3eb5ff-60af-4b44-dcef-13db13ebecd0"
      },
      "execution_count": 37,
      "outputs": [
        {
          "output_type": "execute_result",
          "data": {
            "text/plain": [
              "63"
            ]
          },
          "metadata": {},
          "execution_count": 37
        }
      ]
    },
    {
      "cell_type": "code",
      "source": [
        "from scipy.stats.mstats import ttest_1samp\n",
        "#https://docs.scipy.org/doc/scipy/reference/generated/scipy.stats.ttest_ind.html\n",
        "from statsmodels.stats.weightstats import ttest_ind\n",
        "\n",
        "test_statistic = ttest_1samp(samples['weight'], popmean= 60, alternative='greater')\n",
        "\n",
        "print(test_statistic)"
      ],
      "metadata": {
        "colab": {
          "base_uri": "https://localhost:8080/"
        },
        "id": "FQQy_F2MGxx5",
        "outputId": "d8016b70-523f-4177-a93b-ee19e5f52665"
      },
      "execution_count": 43,
      "outputs": [
        {
          "output_type": "stream",
          "name": "stdout",
          "text": [
            "Ttest_1sampResult(statistic=12.359246878796654, pvalue=4.401633132970351e-22)\n"
          ]
        }
      ]
    },
    {
      "cell_type": "code",
      "source": [
        "from statsmodels.stats.proportion import proportions_ztest\n",
        "\n",
        "zstat, pval = proportions_ztest(63, 100, value=0.5, prop_var=False, alternative='larger')\n",
        "\n",
        "print('zstat: ',zstat)\n",
        "print('pval: ',pval)"
      ],
      "metadata": {
        "colab": {
          "base_uri": "https://localhost:8080/"
        },
        "id": "YVE73FgAxIZ7",
        "outputId": "f2c4191c-62cd-4090-ea0d-e7e8e27eff09"
      },
      "execution_count": 47,
      "outputs": [
        {
          "output_type": "stream",
          "name": "stdout",
          "text": [
            "zstat:  2.6926023193385333\n",
            "pval:  0.003544838884025079\n"
          ]
        }
      ]
    },
    {
      "cell_type": "code",
      "source": [
        "from statsmodels.stats.proportion import proportion_confint\n",
        "\n",
        "result = proportion_confint(63, 100, alpha=0.05, method='beta')\n",
        "print(result)"
      ],
      "metadata": {
        "colab": {
          "base_uri": "https://localhost:8080/"
        },
        "id": "Oab-tWP03IwL",
        "outputId": "96819d2a-b4f4-49df-998d-dacf0683eae8"
      },
      "execution_count": 71,
      "outputs": [
        {
          "output_type": "stream",
          "name": "stdout",
          "text": [
            "(0.527648359448317, 0.7244334203854486)\n"
          ]
        }
      ]
    },
    {
      "cell_type": "code",
      "source": [
        "ap_hi_samples = cardioVascular_dataset_filtered['ap_hi'].sample(100, random_state=1199)\n",
        "# Check for null values https://stackoverflow.com/a/69622929/3148856\n",
        "ap_hi_samples.isna().sum().sum()"
      ],
      "metadata": {
        "colab": {
          "base_uri": "https://localhost:8080/"
        },
        "id": "98wkuOpZ8w6t",
        "outputId": "f389fe4f-9e7f-4067-cb82-6a021022054f"
      },
      "execution_count": 79,
      "outputs": [
        {
          "output_type": "execute_result",
          "data": {
            "text/plain": [
              "0"
            ]
          },
          "metadata": {},
          "execution_count": 79
        }
      ]
    },
    {
      "cell_type": "code",
      "source": [
        "ap_hi_grid_data = np.reshape(ap_hi_samples.to_numpy(), (10, 10))\n",
        "\n",
        "# Loop through rows and print the data\n",
        "for row in ap_hi_grid_data:\n",
        "    print(','.join(map(str, row)))"
      ],
      "metadata": {
        "colab": {
          "base_uri": "https://localhost:8080/"
        },
        "id": "5QQR9kyTbW4q",
        "outputId": "e25e2193-5a9c-4d68-a440-276e1abea8b3"
      },
      "execution_count": 83,
      "outputs": [
        {
          "output_type": "stream",
          "name": "stdout",
          "text": [
            "150,140,120,120,130,130,140,120,120,130\n",
            "120,140,140,120,120,130,130,130,130,140\n",
            "120,120,140,120,145,130,120,130,120,120\n",
            "130,140,140,170,120,140,130,130,160,140\n",
            "110,120,120,150,120,140,120,120,110,140\n",
            "160,110,140,140,120,130,120,120,100,140\n",
            "120,120,170,120,140,150,140,115,110,140\n",
            "160,120,120,130,120,150,120,120,120,110\n",
            "120,120,120,120,120,140,120,120,140,120\n",
            "120,120,120,130,140,180,120,150,160,140\n"
          ]
        }
      ]
    },
    {
      "cell_type": "code",
      "source": [
        "ap_lo_samples = cardioVascular_dataset_filtered['ap_lo'].sample(100, random_state=1199)\n",
        "# Check for null values https://stackoverflow.com/a/69622929/3148856\n",
        "ap_lo_samples.isna().sum().sum()"
      ],
      "metadata": {
        "colab": {
          "base_uri": "https://localhost:8080/"
        },
        "id": "f9rCJOdHaq16",
        "outputId": "04b4317a-e6dc-48c5-c6e0-e90fcc381f15"
      },
      "execution_count": 85,
      "outputs": [
        {
          "output_type": "execute_result",
          "data": {
            "text/plain": [
              "0"
            ]
          },
          "metadata": {},
          "execution_count": 85
        }
      ]
    },
    {
      "cell_type": "code",
      "source": [
        "ap_lo_grid_data = np.reshape(ap_lo_samples.to_numpy(), (10, 10))\n",
        "\n",
        "# Loop through rows and print the data\n",
        "for row in ap_lo_grid_data:\n",
        "    print(','.join(map(str, row)))"
      ],
      "metadata": {
        "colab": {
          "base_uri": "https://localhost:8080/"
        },
        "id": "7CipAm_UbdgA",
        "outputId": "5b32c63f-d2ea-4466-fc51-e5ebab02ee4f"
      },
      "execution_count": 86,
      "outputs": [
        {
          "output_type": "stream",
          "name": "stdout",
          "text": [
            "100,90,80,80,90,80,80,80,80,70\n",
            "80,90,90,80,80,80,90,82,90,80\n",
            "80,80,120,80,90,80,80,90,80,80\n",
            "90,90,90,110,80,80,90,90,100,90\n",
            "80,80,80,80,80,90,80,80,80,90\n",
            "90,90,90,100,80,80,80,80,80,80\n",
            "80,80,100,80,90,100,90,80,80,80\n",
            "90,80,80,90,80,90,80,80,80,80\n",
            "80,80,100,80,90,80,85,80,100,80\n",
            "80,80,80,70,80,90,80,90,100,80\n"
          ]
        }
      ]
    },
    {
      "cell_type": "code",
      "source": [
        "ap_hi_samples.hist()\n"
      ],
      "metadata": {
        "colab": {
          "base_uri": "https://localhost:8080/",
          "height": 448
        },
        "id": "wJxVCygu8zce",
        "outputId": "69784dfe-8809-45ee-def7-f3cdb03a4760"
      },
      "execution_count": 81,
      "outputs": [
        {
          "output_type": "execute_result",
          "data": {
            "text/plain": [
              "<Axes: >"
            ]
          },
          "metadata": {},
          "execution_count": 81
        },
        {
          "output_type": "display_data",
          "data": {
            "text/plain": [
              "<Figure size 640x480 with 1 Axes>"
            ],
            "image/png": "[encoded data removed]"
          },
          "metadata": {}
        }
      ]
    },
    {
      "cell_type": "code",
      "source": [
        "ap_lo_samples.hist()"
      ],
      "metadata": {
        "colab": {
          "base_uri": "https://localhost:8080/",
          "height": 448
        },
        "id": "kQ6S0E2jazEE",
        "outputId": "32eacc36-d944-4d42-ec13-4f417c909242"
      },
      "execution_count": 82,
      "outputs": [
        {
          "output_type": "execute_result",
          "data": {
            "text/plain": [
              "<Axes: >"
            ]
          },
          "metadata": {},
          "execution_count": 82
        },
        {
          "output_type": "display_data",
          "data": {
            "text/plain": [
              "<Figure size 640x480 with 1 Axes>"
            ],
            "image/png": "[encoded data removed]"
          },
          "metadata": {}
        }
      ]
    },
    {
      "cell_type": "code",
      "source": [],
      "metadata": {
        "id": "nMQ3zoBqbVpS"
      },
      "execution_count": null,
      "outputs": []
    },
    {
      "cell_type": "markdown",
      "source": [
        "# References\n",
        "\n",
        "\n",
        "1.   https://stackoverflow.com/a/57401752\n",
        "\n"
      ],
      "metadata": {
        "id": "bQhy2aQf_BaO"
      }
    }
  ]
}