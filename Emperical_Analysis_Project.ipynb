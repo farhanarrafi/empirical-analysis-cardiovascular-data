{
  "nbformat": 4,
  "nbformat_minor": 0,
  "metadata": {
    "colab": {
      "provenance": [],
      "toc_visible": true,
      "authorship_tag": "ABX9TyNslk6hEdYQWzlySJFYRPrW",
      "include_colab_link": true
    },
    "kernelspec": {
      "name": "python3",
      "display_name": "Python 3"
    },
    "language_info": {
      "name": "python"
    }
  },
  "cells": [
    {
      "cell_type": "markdown",
      "metadata": {
        "id": "view-in-github",
        "colab_type": "text"
      },
      "source": [
        "<a href=\"https://colab.research.google.com/github/farhanarrafi/empirical-analysis-cardiovascular-data/blob/main/Emperical_Analysis_Project.ipynb\" target=\"_parent\"><img src=\"https://colab.research.google.com/assets/colab-badge.svg\" alt=\"Open In Colab\"/></a>"
      ]
    },
    {
      "cell_type": "markdown",
      "source": [
        "# Cardiovascular Data Analysis using Statistical Methods"
      ],
      "metadata": {
        "id": "S5B5HWsumHos"
      }
    },
    {
      "cell_type": "markdown",
      "source": [
        "## Feature Description\n",
        "\n",
        "\n",
        "age: Age of the patient in days.\n",
        ".\n",
        "gender: Gender of the patient. Categorical variable (1: Female, 2: Male).\n",
        "height: Height of the patient in centimeters.\n",
        "weight: Weight of the patient in kilograms.\n",
        "ap_hi: Systolic blood pressure.\n",
        "ap_lo: Diastolic blood pressure.\n",
        "\n",
        "* ID: Unique identifier for each patient.\n",
        "* age_years: Age of the patient in years\n",
        "* height: Height of the patient in centimeters.\n",
        "* weight: Weight of the patient in kilograms.\n",
        "* ap_hi: Systolic blood pressure.\n",
        "* ap_lo: Diastolic blood pressure.\n",
        "* bmi: Body Mass Index, derived from weight and height. Calculated as *BMI = weight / height^2*\n",
        "* bp_category: Blood pressure category based on ap_hi and ap_lo. Categories include \"Normal\", \"Elevated\", \"Hypertension Stage 1\", \"Hypertension Stage 2\", and \"Hypertensive Crisis\".\n",
        "\n"
      ],
      "metadata": {
        "id": "hGIda945k3YD"
      }
    },
    {
      "cell_type": "markdown",
      "source": [
        "## Data Import"
      ],
      "metadata": {
        "id": "buR8q5-8mSJF"
      }
    },
    {
      "cell_type": "markdown",
      "source": [
        "Dataset srouce: https://www.kaggle.com/datasets/colewelkins/cardiovascular-disease\n"
      ],
      "metadata": {
        "id": "T8lRGlkx9Tyq"
      }
    },
    {
      "cell_type": "code",
      "execution_count": 1,
      "metadata": {
        "id": "pCaJR3dp8GvY"
      },
      "outputs": [],
      "source": [
        "import os.path\n",
        "import json\n",
        "\n",
        "\n",
        "api_token = {\"username\":\"farhanarrafi\",\"key\":\"074ead27713d782ad86b0e445765e799\"}\n",
        "\n",
        "if not os.path.isdir('/root/.kaggle'):\n",
        "  ! mkdir ~/.kaggle\n",
        "  ! touch ~/.kaggle/kaggle.json\n",
        "  with open('/root/.kaggle/kaggle.json', 'w') as file:\n",
        "      json.dump(api_token, file)\n",
        "  !chmod 600 ~/.kaggle/kaggle.json\n",
        "\n",
        "#! kaggle datasets list"
      ]
    },
    {
      "cell_type": "code",
      "source": [
        "if not os.path.isfile('cardio_data_processed.csv'):\n",
        "  ! kaggle datasets download -d colewelkins/cardiovascular-disease\n",
        "  ! unzip cardiovascular-disease.zip\n",
        "  ! rm -rf cardiovascular-disease.zip"
      ],
      "metadata": {
        "id": "UMs5FVX78a-z",
        "colab": {
          "base_uri": "https://localhost:8080/"
        },
        "outputId": "d8e62c15-271e-4bf6-807d-421044f30e1e"
      },
      "execution_count": 2,
      "outputs": [
        {
          "output_type": "stream",
          "name": "stdout",
          "text": [
            "Downloading cardiovascular-disease.zip to /content\n",
            "\r  0% 0.00/1.43M [00:00<?, ?B/s]\n",
            "\r100% 1.43M/1.43M [00:00<00:00, 140MB/s]\n",
            "Archive:  cardiovascular-disease.zip\n",
            "  inflating: cardio_data_processed.csv  \n"
          ]
        }
      ]
    },
    {
      "cell_type": "code",
      "source": [
        "import numpy as np # linear algebra\n",
        "import pandas as pd # data processing, CSV file I/O (e.g. pd.read_csv)\n",
        "\n",
        "cardioVascular_dataset = pd.read_csv('cardio_data_processed.csv')\n",
        "\n",
        "# Remove columns\n",
        "cardioVascular_dataset = cardioVascular_dataset.drop(axis='columns', columns=['age','gender', 'cholesterol','gluc','smoke','alco', 'active','cardio', 'bp_category_encoded'])\n",
        "# Setting index\n",
        "cardioVascular_dataset = cardioVascular_dataset.set_index('id')\n",
        "# Remove bp categories other than Hypertension Stage 1 and 2\n",
        "cardioVascular_dataset_filtered = cardioVascular_dataset.loc[(cardioVascular_dataset['bp_category'] == 'Hypertension Stage 1') |  (cardioVascular_dataset['bp_category'] == 'Hypertension Stage 2')]\n"
      ],
      "metadata": {
        "id": "UXAwWh5iAcbf"
      },
      "execution_count": 3,
      "outputs": []
    },
    {
      "cell_type": "code",
      "source": [],
      "metadata": {
        "id": "KqxhboK9i83g"
      },
      "execution_count": 3,
      "outputs": []
    },
    {
      "cell_type": "code",
      "source": [
        "# Select first 2000\n",
        "cardioVascular_dataset_filtered = cardioVascular_dataset_filtered.sample(5000, random_state=111)\n",
        "# Check for null values\n",
        "cardioVascular_dataset_filtered.isna().sum().sum()"
      ],
      "metadata": {
        "colab": {
          "base_uri": "https://localhost:8080/"
        },
        "id": "q19TieIci6o0",
        "outputId": "428e7433-8cf7-48ae-ba65-68f6dc5beed7"
      },
      "execution_count": 4,
      "outputs": [
        {
          "output_type": "execute_result",
          "data": {
            "text/plain": [
              "0"
            ]
          },
          "metadata": {},
          "execution_count": 4
        }
      ]
    },
    {
      "cell_type": "code",
      "source": [
        "cardioVascular_dataset_filtered.head(10)"
      ],
      "metadata": {
        "colab": {
          "base_uri": "https://localhost:8080/",
          "height": 394
        },
        "id": "0bipwHBNi1l2",
        "outputId": "73672601-0381-4d11-f9f5-b0bbf8e387df"
      },
      "execution_count": 5,
      "outputs": [
        {
          "output_type": "execute_result",
          "data": {
            "text/plain": [
              "       height  weight  ap_hi  ap_lo  age_years        bmi  \\\n",
              "id                                                          \n",
              "24555     158    61.0    140     90         57  24.435187   \n",
              "1899      150    71.0    150     90         60  31.555556   \n",
              "65058     168    70.0    120     80         59  24.801587   \n",
              "11598     165    74.0    130     80         48  27.180900   \n",
              "44039     158    65.0    130     80         50  26.037494   \n",
              "57235     155    80.0    160     90         60  33.298647   \n",
              "93406     171    73.0    140     90         49  24.964946   \n",
              "61564     159    48.0    110     80         39  18.986591   \n",
              "43417     170    77.0    120     80         54  26.643599   \n",
              "6713      170    75.0    110     80         44  25.951557   \n",
              "\n",
              "                bp_category  \n",
              "id                           \n",
              "24555  Hypertension Stage 2  \n",
              "1899   Hypertension Stage 2  \n",
              "65058  Hypertension Stage 1  \n",
              "11598  Hypertension Stage 1  \n",
              "44039  Hypertension Stage 1  \n",
              "57235  Hypertension Stage 2  \n",
              "93406  Hypertension Stage 2  \n",
              "61564  Hypertension Stage 1  \n",
              "43417  Hypertension Stage 1  \n",
              "6713   Hypertension Stage 1  "
            ],
            "text/html": [
              "\n",
              "  <div id=\"df-528efb5e-c48d-41e9-9879-330d8ef8852c\" class=\"colab-df-container\">\n",
              "    <div>\n",
              "<style scoped>\n",
              "    .dataframe tbody tr th:only-of-type {\n",
              "        vertical-align: middle;\n",
              "    }\n",
              "\n",
              "    .dataframe tbody tr th {\n",
              "        vertical-align: top;\n",
              "    }\n",
              "\n",
              "    .dataframe thead th {\n",
              "        text-align: right;\n",
              "    }\n",
              "</style>\n",
              "<table border=\"1\" class=\"dataframe\">\n",
              "  <thead>\n",
              "    <tr style=\"text-align: right;\">\n",
              "      <th></th>\n",
              "      <th>height</th>\n",
              "      <th>weight</th>\n",
              "      <th>ap_hi</th>\n",
              "      <th>ap_lo</th>\n",
              "      <th>age_years</th>\n",
              "      <th>bmi</th>\n",
              "      <th>bp_category</th>\n",
              "    </tr>\n",
              "    <tr>\n",
              "      <th>id</th>\n",
              "      <th></th>\n",
              "      <th></th>\n",
              "      <th></th>\n",
              "      <th></th>\n",
              "      <th></th>\n",
              "      <th></th>\n",
              "      <th></th>\n",
              "    </tr>\n",
              "  </thead>\n",
              "  <tbody>\n",
              "    <tr>\n",
              "      <th>24555</th>\n",
              "      <td>158</td>\n",
              "      <td>61.0</td>\n",
              "      <td>140</td>\n",
              "      <td>90</td>\n",
              "      <td>57</td>\n",
              "      <td>24.435187</td>\n",
              "      <td>Hypertension Stage 2</td>\n",
              "    </tr>\n",
              "    <tr>\n",
              "      <th>1899</th>\n",
              "      <td>150</td>\n",
              "      <td>71.0</td>\n",
              "      <td>150</td>\n",
              "      <td>90</td>\n",
              "      <td>60</td>\n",
              "      <td>31.555556</td>\n",
              "      <td>Hypertension Stage 2</td>\n",
              "    </tr>\n",
              "    <tr>\n",
              "      <th>65058</th>\n",
              "      <td>168</td>\n",
              "      <td>70.0</td>\n",
              "      <td>120</td>\n",
              "      <td>80</td>\n",
              "      <td>59</td>\n",
              "      <td>24.801587</td>\n",
              "      <td>Hypertension Stage 1</td>\n",
              "    </tr>\n",
              "    <tr>\n",
              "      <th>11598</th>\n",
              "      <td>165</td>\n",
              "      <td>74.0</td>\n",
              "      <td>130</td>\n",
              "      <td>80</td>\n",
              "      <td>48</td>\n",
              "      <td>27.180900</td>\n",
              "      <td>Hypertension Stage 1</td>\n",
              "    </tr>\n",
              "    <tr>\n",
              "      <th>44039</th>\n",
              "      <td>158</td>\n",
              "      <td>65.0</td>\n",
              "      <td>130</td>\n",
              "      <td>80</td>\n",
              "      <td>50</td>\n",
              "      <td>26.037494</td>\n",
              "      <td>Hypertension Stage 1</td>\n",
              "    </tr>\n",
              "    <tr>\n",
              "      <th>57235</th>\n",
              "      <td>155</td>\n",
              "      <td>80.0</td>\n",
              "      <td>160</td>\n",
              "      <td>90</td>\n",
              "      <td>60</td>\n",
              "      <td>33.298647</td>\n",
              "      <td>Hypertension Stage 2</td>\n",
              "    </tr>\n",
              "    <tr>\n",
              "      <th>93406</th>\n",
              "      <td>171</td>\n",
              "      <td>73.0</td>\n",
              "      <td>140</td>\n",
              "      <td>90</td>\n",
              "      <td>49</td>\n",
              "      <td>24.964946</td>\n",
              "      <td>Hypertension Stage 2</td>\n",
              "    </tr>\n",
              "    <tr>\n",
              "      <th>61564</th>\n",
              "      <td>159</td>\n",
              "      <td>48.0</td>\n",
              "      <td>110</td>\n",
              "      <td>80</td>\n",
              "      <td>39</td>\n",
              "      <td>18.986591</td>\n",
              "      <td>Hypertension Stage 1</td>\n",
              "    </tr>\n",
              "    <tr>\n",
              "      <th>43417</th>\n",
              "      <td>170</td>\n",
              "      <td>77.0</td>\n",
              "      <td>120</td>\n",
              "      <td>80</td>\n",
              "      <td>54</td>\n",
              "      <td>26.643599</td>\n",
              "      <td>Hypertension Stage 1</td>\n",
              "    </tr>\n",
              "    <tr>\n",
              "      <th>6713</th>\n",
              "      <td>170</td>\n",
              "      <td>75.0</td>\n",
              "      <td>110</td>\n",
              "      <td>80</td>\n",
              "      <td>44</td>\n",
              "      <td>25.951557</td>\n",
              "      <td>Hypertension Stage 1</td>\n",
              "    </tr>\n",
              "  </tbody>\n",
              "</table>\n",
              "</div>\n",
              "    <div class=\"colab-df-buttons\">\n",
              "\n",
              "  <div class=\"colab-df-container\">\n",
              "    <button class=\"colab-df-convert\" onclick=\"convertToInteractive('df-528efb5e-c48d-41e9-9879-330d8ef8852c')\"\n",
              "            title=\"Convert this dataframe to an interactive table.\"\n",
              "            style=\"display:none;\">\n",
              "\n",
              "  <svg xmlns=\"http://www.w3.org/2000/svg\" height=\"24px\" viewBox=\"0 -960 960 960\">\n",
              "    <path d=\"M120-120v-720h720v720H120Zm60-500h600v-160H180v160Zm220 220h160v-160H400v160Zm0 220h160v-160H400v160ZM180-400h160v-160H180v160Zm440 0h160v-160H620v160ZM180-180h160v-160H180v160Zm440 0h160v-160H620v160Z\"/>\n",
              "  </svg>\n",
              "    </button>\n",
              "\n",
              "  <style>\n",
              "    .colab-df-container {\n",
              "      display:flex;\n",
              "      gap: 12px;\n",
              "    }\n",
              "\n",
              "    .colab-df-convert {\n",
              "      background-color: #E8F0FE;\n",
              "      border: none;\n",
              "      border-radius: 50%;\n",
              "      cursor: pointer;\n",
              "      display: none;\n",
              "      fill: #1967D2;\n",
              "      height: 32px;\n",
              "      padding: 0 0 0 0;\n",
              "      width: 32px;\n",
              "    }\n",
              "\n",
              "    .colab-df-convert:hover {\n",
              "      background-color: #E2EBFA;\n",
              "      box-shadow: 0px 1px 2px rgba(60, 64, 67, 0.3), 0px 1px 3px 1px rgba(60, 64, 67, 0.15);\n",
              "      fill: #174EA6;\n",
              "    }\n",
              "\n",
              "    .colab-df-buttons div {\n",
              "      margin-bottom: 4px;\n",
              "    }\n",
              "\n",
              "    [theme=dark] .colab-df-convert {\n",
              "      background-color: #3B4455;\n",
              "      fill: #D2E3FC;\n",
              "    }\n",
              "\n",
              "    [theme=dark] .colab-df-convert:hover {\n",
              "      background-color: #434B5C;\n",
              "      box-shadow: 0px 1px 3px 1px rgba(0, 0, 0, 0.15);\n",
              "      filter: drop-shadow(0px 1px 2px rgba(0, 0, 0, 0.3));\n",
              "      fill: #FFFFFF;\n",
              "    }\n",
              "  </style>\n",
              "\n",
              "    <script>\n",
              "      const buttonEl =\n",
              "        document.querySelector('#df-528efb5e-c48d-41e9-9879-330d8ef8852c button.colab-df-convert');\n",
              "      buttonEl.style.display =\n",
              "        google.colab.kernel.accessAllowed ? 'block' : 'none';\n",
              "\n",
              "      async function convertToInteractive(key) {\n",
              "        const element = document.querySelector('#df-528efb5e-c48d-41e9-9879-330d8ef8852c');\n",
              "        const dataTable =\n",
              "          await google.colab.kernel.invokeFunction('convertToInteractive',\n",
              "                                                    [key], {});\n",
              "        if (!dataTable) return;\n",
              "\n",
              "        const docLinkHtml = 'Like what you see? Visit the ' +\n",
              "          '<a target=\"_blank\" href=https://colab.research.google.com/notebooks/data_table.ipynb>data table notebook</a>'\n",
              "          + ' to learn more about interactive tables.';\n",
              "        element.innerHTML = '';\n",
              "        dataTable['output_type'] = 'display_data';\n",
              "        await google.colab.output.renderOutput(dataTable, element);\n",
              "        const docLink = document.createElement('div');\n",
              "        docLink.innerHTML = docLinkHtml;\n",
              "        element.appendChild(docLink);\n",
              "      }\n",
              "    </script>\n",
              "  </div>\n",
              "\n",
              "\n",
              "<div id=\"df-e62ed6f3-ff43-423f-ad21-88b3767921da\">\n",
              "  <button class=\"colab-df-quickchart\" onclick=\"quickchart('df-e62ed6f3-ff43-423f-ad21-88b3767921da')\"\n",
              "            title=\"Suggest charts\"\n",
              "            style=\"display:none;\">\n",
              "\n",
              "<svg xmlns=\"http://www.w3.org/2000/svg\" height=\"24px\"viewBox=\"0 0 24 24\"\n",
              "     width=\"24px\">\n",
              "    <g>\n",
              "        <path d=\"M19 3H5c-1.1 0-2 .9-2 2v14c0 1.1.9 2 2 2h14c1.1 0 2-.9 2-2V5c0-1.1-.9-2-2-2zM9 17H7v-7h2v7zm4 0h-2V7h2v10zm4 0h-2v-4h2v4z\"/>\n",
              "    </g>\n",
              "</svg>\n",
              "  </button>\n",
              "\n",
              "<style>\n",
              "  .colab-df-quickchart {\n",
              "      --bg-color: #E8F0FE;\n",
              "      --fill-color: #1967D2;\n",
              "      --hover-bg-color: #E2EBFA;\n",
              "      --hover-fill-color: #174EA6;\n",
              "      --disabled-fill-color: #AAA;\n",
              "      --disabled-bg-color: #DDD;\n",
              "  }\n",
              "\n",
              "  [theme=dark] .colab-df-quickchart {\n",
              "      --bg-color: #3B4455;\n",
              "      --fill-color: #D2E3FC;\n",
              "      --hover-bg-color: #434B5C;\n",
              "      --hover-fill-color: #FFFFFF;\n",
              "      --disabled-bg-color: #3B4455;\n",
              "      --disabled-fill-color: #666;\n",
              "  }\n",
              "\n",
              "  .colab-df-quickchart {\n",
              "    background-color: var(--bg-color);\n",
              "    border: none;\n",
              "    border-radius: 50%;\n",
              "    cursor: pointer;\n",
              "    display: none;\n",
              "    fill: var(--fill-color);\n",
              "    height: 32px;\n",
              "    padding: 0;\n",
              "    width: 32px;\n",
              "  }\n",
              "\n",
              "  .colab-df-quickchart:hover {\n",
              "    background-color: var(--hover-bg-color);\n",
              "    box-shadow: 0 1px 2px rgba(60, 64, 67, 0.3), 0 1px 3px 1px rgba(60, 64, 67, 0.15);\n",
              "    fill: var(--button-hover-fill-color);\n",
              "  }\n",
              "\n",
              "  .colab-df-quickchart-complete:disabled,\n",
              "  .colab-df-quickchart-complete:disabled:hover {\n",
              "    background-color: var(--disabled-bg-color);\n",
              "    fill: var(--disabled-fill-color);\n",
              "    box-shadow: none;\n",
              "  }\n",
              "\n",
              "  .colab-df-spinner {\n",
              "    border: 2px solid var(--fill-color);\n",
              "    border-color: transparent;\n",
              "    border-bottom-color: var(--fill-color);\n",
              "    animation:\n",
              "      spin 1s steps(1) infinite;\n",
              "  }\n",
              "\n",
              "  @keyframes spin {\n",
              "    0% {\n",
              "      border-color: transparent;\n",
              "      border-bottom-color: var(--fill-color);\n",
              "      border-left-color: var(--fill-color);\n",
              "    }\n",
              "    20% {\n",
              "      border-color: transparent;\n",
              "      border-left-color: var(--fill-color);\n",
              "      border-top-color: var(--fill-color);\n",
              "    }\n",
              "    30% {\n",
              "      border-color: transparent;\n",
              "      border-left-color: var(--fill-color);\n",
              "      border-top-color: var(--fill-color);\n",
              "      border-right-color: var(--fill-color);\n",
              "    }\n",
              "    40% {\n",
              "      border-color: transparent;\n",
              "      border-right-color: var(--fill-color);\n",
              "      border-top-color: var(--fill-color);\n",
              "    }\n",
              "    60% {\n",
              "      border-color: transparent;\n",
              "      border-right-color: var(--fill-color);\n",
              "    }\n",
              "    80% {\n",
              "      border-color: transparent;\n",
              "      border-right-color: var(--fill-color);\n",
              "      border-bottom-color: var(--fill-color);\n",
              "    }\n",
              "    90% {\n",
              "      border-color: transparent;\n",
              "      border-bottom-color: var(--fill-color);\n",
              "    }\n",
              "  }\n",
              "</style>\n",
              "\n",
              "  <script>\n",
              "    async function quickchart(key) {\n",
              "      const quickchartButtonEl =\n",
              "        document.querySelector('#' + key + ' button');\n",
              "      quickchartButtonEl.disabled = true;  // To prevent multiple clicks.\n",
              "      quickchartButtonEl.classList.add('colab-df-spinner');\n",
              "      try {\n",
              "        const charts = await google.colab.kernel.invokeFunction(\n",
              "            'suggestCharts', [key], {});\n",
              "      } catch (error) {\n",
              "        console.error('Error during call to suggestCharts:', error);\n",
              "      }\n",
              "      quickchartButtonEl.classList.remove('colab-df-spinner');\n",
              "      quickchartButtonEl.classList.add('colab-df-quickchart-complete');\n",
              "    }\n",
              "    (() => {\n",
              "      let quickchartButtonEl =\n",
              "        document.querySelector('#df-e62ed6f3-ff43-423f-ad21-88b3767921da button');\n",
              "      quickchartButtonEl.style.display =\n",
              "        google.colab.kernel.accessAllowed ? 'block' : 'none';\n",
              "    })();\n",
              "  </script>\n",
              "</div>\n",
              "    </div>\n",
              "  </div>\n"
            ]
          },
          "metadata": {},
          "execution_count": 5
        }
      ]
    },
    {
      "cell_type": "code",
      "source": [
        "len(cardioVascular_dataset_filtered)"
      ],
      "metadata": {
        "id": "xdXCAeeSDL8q",
        "colab": {
          "base_uri": "https://localhost:8080/"
        },
        "outputId": "3d55e478-b25b-4e29-8c25-a8eab2605632"
      },
      "execution_count": 6,
      "outputs": [
        {
          "output_type": "execute_result",
          "data": {
            "text/plain": [
              "5000"
            ]
          },
          "metadata": {},
          "execution_count": 6
        }
      ]
    },
    {
      "cell_type": "code",
      "source": [
        "cardioVascular_dataset_filtered.mean()"
      ],
      "metadata": {
        "colab": {
          "base_uri": "https://localhost:8080/"
        },
        "id": "vPdjHfy-YDgi",
        "outputId": "ff9b46c7-d5c4-430b-91a0-a117501be3d5"
      },
      "execution_count": 7,
      "outputs": [
        {
          "output_type": "stream",
          "name": "stderr",
          "text": [
            "<ipython-input-7-691787149147>:1: FutureWarning: The default value of numeric_only in DataFrame.mean is deprecated. In a future version, it will default to False. In addition, specifying 'numeric_only=None' is deprecated. Select only valid columns or specify the value of numeric_only to silence this warning.\n",
            "  cardioVascular_dataset_filtered.mean()\n"
          ]
        },
        {
          "output_type": "execute_result",
          "data": {
            "text/plain": [
              "height       164.575000\n",
              "weight        75.295860\n",
              "ap_hi        130.267800\n",
              "ap_lo         84.179400\n",
              "age_years     53.487000\n",
              "bmi           27.940187\n",
              "dtype: float64"
            ]
          },
          "metadata": {},
          "execution_count": 7
        }
      ]
    },
    {
      "cell_type": "code",
      "source": [],
      "metadata": {
        "id": "Ud_MgIoAiGyX"
      },
      "execution_count": 7,
      "outputs": []
    },
    {
      "cell_type": "code",
      "source": [
        "cardioVascular_dataset_filtered['weight'].plot.density()"
      ],
      "metadata": {
        "colab": {
          "base_uri": "https://localhost:8080/",
          "height": 448
        },
        "id": "H6Oza8DGHAaS",
        "outputId": "4f9a142d-9293-410d-94bb-1c1979c16e26"
      },
      "execution_count": 8,
      "outputs": [
        {
          "output_type": "execute_result",
          "data": {
            "text/plain": [
              "<Axes: ylabel='Density'>"
            ]
          },
          "metadata": {},
          "execution_count": 8
        },
        {
          "output_type": "display_data",
          "data": {
            "text/plain": [
              "<Figure size 640x480 with 1 Axes>"
            ],
            "image/png": "[encoded data removed]"
          },
          "metadata": {}
        }
      ]
    },
    {
      "cell_type": "code",
      "source": [
        "samples = cardioVascular_dataset_filtered.sample(100, random_state=1199)\n",
        "# Check for null values https://stackoverflow.com/a/69622929/3148856\n",
        "samples.isna().sum().sum()"
      ],
      "metadata": {
        "colab": {
          "base_uri": "https://localhost:8080/"
        },
        "id": "aR497Q3YbuH6",
        "outputId": "015832ba-e18e-4f10-e144-d817ecb5037d"
      },
      "execution_count": 9,
      "outputs": [
        {
          "output_type": "execute_result",
          "data": {
            "text/plain": [
              "0"
            ]
          },
          "metadata": {},
          "execution_count": 9
        }
      ]
    },
    {
      "cell_type": "code",
      "source": [
        "samples.max()"
      ],
      "metadata": {
        "colab": {
          "base_uri": "https://localhost:8080/"
        },
        "id": "h1G7fQJCj9cu",
        "outputId": "159555f8-c3a6-40b8-97fc-3068e21f5ec8"
      },
      "execution_count": 10,
      "outputs": [
        {
          "output_type": "execute_result",
          "data": {
            "text/plain": [
              "height                          189\n",
              "weight                        129.0\n",
              "ap_hi                           180\n",
              "ap_lo                           120\n",
              "age_years                        64\n",
              "bmi                       41.007403\n",
              "bp_category    Hypertension Stage 2\n",
              "dtype: object"
            ]
          },
          "metadata": {},
          "execution_count": 10
        }
      ]
    },
    {
      "cell_type": "code",
      "source": [
        "samples.min()"
      ],
      "metadata": {
        "colab": {
          "base_uri": "https://localhost:8080/"
        },
        "id": "ckNAm5fdkf3H",
        "outputId": "6cf6aa75-ab08-4994-86e8-743c470ddd28"
      },
      "execution_count": 11,
      "outputs": [
        {
          "output_type": "execute_result",
          "data": {
            "text/plain": [
              "height                          148\n",
              "weight                         50.0\n",
              "ap_hi                           100\n",
              "ap_lo                            70\n",
              "age_years                        39\n",
              "bmi                       16.514731\n",
              "bp_category    Hypertension Stage 1\n",
              "dtype: object"
            ]
          },
          "metadata": {},
          "execution_count": 11
        }
      ]
    },
    {
      "cell_type": "code",
      "source": [
        "samples[samples['weight'] <= 50]"
      ],
      "metadata": {
        "colab": {
          "base_uri": "https://localhost:8080/",
          "height": 112
        },
        "id": "DkFKcdCYkLy-",
        "outputId": "0cc5d36d-9e4d-41cc-af56-bc3df2050b1a"
      },
      "execution_count": 12,
      "outputs": [
        {
          "output_type": "execute_result",
          "data": {
            "text/plain": [
              "       height  weight  ap_hi  ap_lo  age_years        bmi  \\\n",
              "id                                                          \n",
              "27835     174    50.0    120     80         41  16.514731   \n",
              "\n",
              "                bp_category  \n",
              "id                           \n",
              "27835  Hypertension Stage 1  "
            ],
            "text/html": [
              "\n",
              "  <div id=\"df-f37c4bfa-13b4-4b35-88f8-6932af253459\" class=\"colab-df-container\">\n",
              "    <div>\n",
              "<style scoped>\n",
              "    .dataframe tbody tr th:only-of-type {\n",
              "        vertical-align: middle;\n",
              "    }\n",
              "\n",
              "    .dataframe tbody tr th {\n",
              "        vertical-align: top;\n",
              "    }\n",
              "\n",
              "    .dataframe thead th {\n",
              "        text-align: right;\n",
              "    }\n",
              "</style>\n",
              "<table border=\"1\" class=\"dataframe\">\n",
              "  <thead>\n",
              "    <tr style=\"text-align: right;\">\n",
              "      <th></th>\n",
              "      <th>height</th>\n",
              "      <th>weight</th>\n",
              "      <th>ap_hi</th>\n",
              "      <th>ap_lo</th>\n",
              "      <th>age_years</th>\n",
              "      <th>bmi</th>\n",
              "      <th>bp_category</th>\n",
              "    </tr>\n",
              "    <tr>\n",
              "      <th>id</th>\n",
              "      <th></th>\n",
              "      <th></th>\n",
              "      <th></th>\n",
              "      <th></th>\n",
              "      <th></th>\n",
              "      <th></th>\n",
              "      <th></th>\n",
              "    </tr>\n",
              "  </thead>\n",
              "  <tbody>\n",
              "    <tr>\n",
              "      <th>27835</th>\n",
              "      <td>174</td>\n",
              "      <td>50.0</td>\n",
              "      <td>120</td>\n",
              "      <td>80</td>\n",
              "      <td>41</td>\n",
              "      <td>16.514731</td>\n",
              "      <td>Hypertension Stage 1</td>\n",
              "    </tr>\n",
              "  </tbody>\n",
              "</table>\n",
              "</div>\n",
              "    <div class=\"colab-df-buttons\">\n",
              "\n",
              "  <div class=\"colab-df-container\">\n",
              "    <button class=\"colab-df-convert\" onclick=\"convertToInteractive('df-f37c4bfa-13b4-4b35-88f8-6932af253459')\"\n",
              "            title=\"Convert this dataframe to an interactive table.\"\n",
              "            style=\"display:none;\">\n",
              "\n",
              "  <svg xmlns=\"http://www.w3.org/2000/svg\" height=\"24px\" viewBox=\"0 -960 960 960\">\n",
              "    <path d=\"M120-120v-720h720v720H120Zm60-500h600v-160H180v160Zm220 220h160v-160H400v160Zm0 220h160v-160H400v160ZM180-400h160v-160H180v160Zm440 0h160v-160H620v160ZM180-180h160v-160H180v160Zm440 0h160v-160H620v160Z\"/>\n",
              "  </svg>\n",
              "    </button>\n",
              "\n",
              "  <style>\n",
              "    .colab-df-container {\n",
              "      display:flex;\n",
              "      gap: 12px;\n",
              "    }\n",
              "\n",
              "    .colab-df-convert {\n",
              "      background-color: #E8F0FE;\n",
              "      border: none;\n",
              "      border-radius: 50%;\n",
              "      cursor: pointer;\n",
              "      display: none;\n",
              "      fill: #1967D2;\n",
              "      height: 32px;\n",
              "      padding: 0 0 0 0;\n",
              "      width: 32px;\n",
              "    }\n",
              "\n",
              "    .colab-df-convert:hover {\n",
              "      background-color: #E2EBFA;\n",
              "      box-shadow: 0px 1px 2px rgba(60, 64, 67, 0.3), 0px 1px 3px 1px rgba(60, 64, 67, 0.15);\n",
              "      fill: #174EA6;\n",
              "    }\n",
              "\n",
              "    .colab-df-buttons div {\n",
              "      margin-bottom: 4px;\n",
              "    }\n",
              "\n",
              "    [theme=dark] .colab-df-convert {\n",
              "      background-color: #3B4455;\n",
              "      fill: #D2E3FC;\n",
              "    }\n",
              "\n",
              "    [theme=dark] .colab-df-convert:hover {\n",
              "      background-color: #434B5C;\n",
              "      box-shadow: 0px 1px 3px 1px rgba(0, 0, 0, 0.15);\n",
              "      filter: drop-shadow(0px 1px 2px rgba(0, 0, 0, 0.3));\n",
              "      fill: #FFFFFF;\n",
              "    }\n",
              "  </style>\n",
              "\n",
              "    <script>\n",
              "      const buttonEl =\n",
              "        document.querySelector('#df-f37c4bfa-13b4-4b35-88f8-6932af253459 button.colab-df-convert');\n",
              "      buttonEl.style.display =\n",
              "        google.colab.kernel.accessAllowed ? 'block' : 'none';\n",
              "\n",
              "      async function convertToInteractive(key) {\n",
              "        const element = document.querySelector('#df-f37c4bfa-13b4-4b35-88f8-6932af253459');\n",
              "        const dataTable =\n",
              "          await google.colab.kernel.invokeFunction('convertToInteractive',\n",
              "                                                    [key], {});\n",
              "        if (!dataTable) return;\n",
              "\n",
              "        const docLinkHtml = 'Like what you see? Visit the ' +\n",
              "          '<a target=\"_blank\" href=https://colab.research.google.com/notebooks/data_table.ipynb>data table notebook</a>'\n",
              "          + ' to learn more about interactive tables.';\n",
              "        element.innerHTML = '';\n",
              "        dataTable['output_type'] = 'display_data';\n",
              "        await google.colab.output.renderOutput(dataTable, element);\n",
              "        const docLink = document.createElement('div');\n",
              "        docLink.innerHTML = docLinkHtml;\n",
              "        element.appendChild(docLink);\n",
              "      }\n",
              "    </script>\n",
              "  </div>\n",
              "\n",
              "    </div>\n",
              "  </div>\n"
            ]
          },
          "metadata": {},
          "execution_count": 12
        }
      ]
    },
    {
      "cell_type": "code",
      "source": [
        "samples['weight'].plot.density()"
      ],
      "metadata": {
        "colab": {
          "base_uri": "https://localhost:8080/",
          "height": 448
        },
        "id": "NszAzupdre_O",
        "outputId": "2ef4da44-d6f1-400b-a7aa-a472f8b89573"
      },
      "execution_count": 13,
      "outputs": [
        {
          "output_type": "execute_result",
          "data": {
            "text/plain": [
              "<Axes: ylabel='Density'>"
            ]
          },
          "metadata": {},
          "execution_count": 13
        },
        {
          "output_type": "display_data",
          "data": {
            "text/plain": [
              "<Figure size 640x480 with 1 Axes>"
            ],
            "image/png": "[encoded data removed]"
          },
          "metadata": {}
        }
      ]
    },
    {
      "cell_type": "code",
      "source": [
        "samples['weight'].hist()"
      ],
      "metadata": {
        "id": "2Uj1AOP2Thfn",
        "outputId": "36fda95a-bcb1-4e94-d79d-1bf9d380bf4a",
        "colab": {
          "base_uri": "https://localhost:8080/",
          "height": 450
        }
      },
      "execution_count": 14,
      "outputs": [
        {
          "output_type": "execute_result",
          "data": {
            "text/plain": [
              "<Axes: >"
            ]
          },
          "metadata": {},
          "execution_count": 14
        },
        {
          "output_type": "display_data",
          "data": {
            "text/plain": [
              "<Figure size 640x480 with 1 Axes>"
            ],
            "image/png": "[encoded data removed]"
          },
          "metadata": {}
        }
      ]
    },
    {
      "cell_type": "code",
      "source": [
        "# Grid code was provided by Chat GPT version 3 using the prompt - [how to print one column data contaning 20 items from a dataframe into a 4 by 5 grid]\n",
        "# Reshape the 1D array into a 2D array with a shape of (4, 5)\n",
        "grid_data = np.reshape(samples['weight'].to_numpy(), (10, 10))\n",
        "\n",
        "# Loop through rows and print the data\n",
        "for row in grid_data:\n",
        "    print(','.join(map(str, row)))"
      ],
      "metadata": {
        "colab": {
          "base_uri": "https://localhost:8080/"
        },
        "id": "J3r_5aEa0kfm",
        "outputId": "d58ea7bc-fa0b-406e-cf31-f08a9868eb80"
      },
      "execution_count": 15,
      "outputs": [
        {
          "output_type": "stream",
          "name": "stdout",
          "text": [
            "65.0,78.0,75.0,72.0,85.0,70.0,100.0,70.0,98.0,86.0\n",
            "97.0,129.0,108.0,79.0,63.0,80.0,75.0,63.0,75.0,52.0\n",
            "63.0,70.0,87.0,87.0,88.0,59.0,80.0,89.0,72.0,65.0\n",
            "83.0,80.0,62.0,80.0,64.0,62.0,80.0,75.0,84.0,68.0\n",
            "78.0,66.0,71.0,91.0,59.0,80.0,50.0,53.0,76.0,68.0\n",
            "73.0,58.0,86.0,100.0,87.0,71.0,80.0,66.0,68.0,62.0\n",
            "69.0,80.0,69.0,65.0,65.0,67.0,62.0,76.0,88.0,92.0\n",
            "86.0,82.0,97.0,102.0,89.0,65.0,71.0,76.0,69.0,58.0\n",
            "65.0,70.0,113.0,69.0,73.0,78.0,72.0,95.0,85.0,104.0\n",
            "82.0,65.0,87.0,70.0,84.0,80.0,74.0,74.0,79.0,71.0\n"
          ]
        }
      ]
    },
    {
      "cell_type": "code",
      "source": [
        "samples.describe()"
      ],
      "metadata": {
        "colab": {
          "base_uri": "https://localhost:8080/",
          "height": 300
        },
        "id": "yvQmqLDF99Dh",
        "outputId": "db571aae-1b89-4a1a-d37b-e5f43e332c7e"
      },
      "execution_count": 16,
      "outputs": [
        {
          "output_type": "execute_result",
          "data": {
            "text/plain": [
              "           height     weight       ap_hi       ap_lo   age_years         bmi\n",
              "count  100.000000  100.00000  100.000000  100.000000  100.000000  100.000000\n",
              "mean   163.890000   76.79000  130.100000   84.870000   53.520000   28.611298\n",
              "std      8.247307   13.58497   14.615959    7.950167    6.802376    4.642349\n",
              "min    148.000000   50.00000  100.000000   70.000000   39.000000   16.514731\n",
              "25%    158.000000   67.75000  120.000000   80.000000   49.000000   25.154073\n",
              "50%    164.000000   75.00000  125.000000   80.000000   55.000000   28.037327\n",
              "75%    168.000000   85.00000  140.000000   90.000000   59.000000   32.013299\n",
              "max    189.000000  129.00000  180.000000  120.000000   64.000000   41.007403"
            ],
            "text/html": [
              "\n",
              "  <div id=\"df-3fb6f990-fb89-48e8-80e0-66d2e36b0bf6\" class=\"colab-df-container\">\n",
              "    <div>\n",
              "<style scoped>\n",
              "    .dataframe tbody tr th:only-of-type {\n",
              "        vertical-align: middle;\n",
              "    }\n",
              "\n",
              "    .dataframe tbody tr th {\n",
              "        vertical-align: top;\n",
              "    }\n",
              "\n",
              "    .dataframe thead th {\n",
              "        text-align: right;\n",
              "    }\n",
              "</style>\n",
              "<table border=\"1\" class=\"dataframe\">\n",
              "  <thead>\n",
              "    <tr style=\"text-align: right;\">\n",
              "      <th></th>\n",
              "      <th>height</th>\n",
              "      <th>weight</th>\n",
              "      <th>ap_hi</th>\n",
              "      <th>ap_lo</th>\n",
              "      <th>age_years</th>\n",
              "      <th>bmi</th>\n",
              "    </tr>\n",
              "  </thead>\n",
              "  <tbody>\n",
              "    <tr>\n",
              "      <th>count</th>\n",
              "      <td>100.000000</td>\n",
              "      <td>100.00000</td>\n",
              "      <td>100.000000</td>\n",
              "      <td>100.000000</td>\n",
              "      <td>100.000000</td>\n",
              "      <td>100.000000</td>\n",
              "    </tr>\n",
              "    <tr>\n",
              "      <th>mean</th>\n",
              "      <td>163.890000</td>\n",
              "      <td>76.79000</td>\n",
              "      <td>130.100000</td>\n",
              "      <td>84.870000</td>\n",
              "      <td>53.520000</td>\n",
              "      <td>28.611298</td>\n",
              "    </tr>\n",
              "    <tr>\n",
              "      <th>std</th>\n",
              "      <td>8.247307</td>\n",
              "      <td>13.58497</td>\n",
              "      <td>14.615959</td>\n",
              "      <td>7.950167</td>\n",
              "      <td>6.802376</td>\n",
              "      <td>4.642349</td>\n",
              "    </tr>\n",
              "    <tr>\n",
              "      <th>min</th>\n",
              "      <td>148.000000</td>\n",
              "      <td>50.00000</td>\n",
              "      <td>100.000000</td>\n",
              "      <td>70.000000</td>\n",
              "      <td>39.000000</td>\n",
              "      <td>16.514731</td>\n",
              "    </tr>\n",
              "    <tr>\n",
              "      <th>25%</th>\n",
              "      <td>158.000000</td>\n",
              "      <td>67.75000</td>\n",
              "      <td>120.000000</td>\n",
              "      <td>80.000000</td>\n",
              "      <td>49.000000</td>\n",
              "      <td>25.154073</td>\n",
              "    </tr>\n",
              "    <tr>\n",
              "      <th>50%</th>\n",
              "      <td>164.000000</td>\n",
              "      <td>75.00000</td>\n",
              "      <td>125.000000</td>\n",
              "      <td>80.000000</td>\n",
              "      <td>55.000000</td>\n",
              "      <td>28.037327</td>\n",
              "    </tr>\n",
              "    <tr>\n",
              "      <th>75%</th>\n",
              "      <td>168.000000</td>\n",
              "      <td>85.00000</td>\n",
              "      <td>140.000000</td>\n",
              "      <td>90.000000</td>\n",
              "      <td>59.000000</td>\n",
              "      <td>32.013299</td>\n",
              "    </tr>\n",
              "    <tr>\n",
              "      <th>max</th>\n",
              "      <td>189.000000</td>\n",
              "      <td>129.00000</td>\n",
              "      <td>180.000000</td>\n",
              "      <td>120.000000</td>\n",
              "      <td>64.000000</td>\n",
              "      <td>41.007403</td>\n",
              "    </tr>\n",
              "  </tbody>\n",
              "</table>\n",
              "</div>\n",
              "    <div class=\"colab-df-buttons\">\n",
              "\n",
              "  <div class=\"colab-df-container\">\n",
              "    <button class=\"colab-df-convert\" onclick=\"convertToInteractive('df-3fb6f990-fb89-48e8-80e0-66d2e36b0bf6')\"\n",
              "            title=\"Convert this dataframe to an interactive table.\"\n",
              "            style=\"display:none;\">\n",
              "\n",
              "  <svg xmlns=\"http://www.w3.org/2000/svg\" height=\"24px\" viewBox=\"0 -960 960 960\">\n",
              "    <path d=\"M120-120v-720h720v720H120Zm60-500h600v-160H180v160Zm220 220h160v-160H400v160Zm0 220h160v-160H400v160ZM180-400h160v-160H180v160Zm440 0h160v-160H620v160ZM180-180h160v-160H180v160Zm440 0h160v-160H620v160Z\"/>\n",
              "  </svg>\n",
              "    </button>\n",
              "\n",
              "  <style>\n",
              "    .colab-df-container {\n",
              "      display:flex;\n",
              "      gap: 12px;\n",
              "    }\n",
              "\n",
              "    .colab-df-convert {\n",
              "      background-color: #E8F0FE;\n",
              "      border: none;\n",
              "      border-radius: 50%;\n",
              "      cursor: pointer;\n",
              "      display: none;\n",
              "      fill: #1967D2;\n",
              "      height: 32px;\n",
              "      padding: 0 0 0 0;\n",
              "      width: 32px;\n",
              "    }\n",
              "\n",
              "    .colab-df-convert:hover {\n",
              "      background-color: #E2EBFA;\n",
              "      box-shadow: 0px 1px 2px rgba(60, 64, 67, 0.3), 0px 1px 3px 1px rgba(60, 64, 67, 0.15);\n",
              "      fill: #174EA6;\n",
              "    }\n",
              "\n",
              "    .colab-df-buttons div {\n",
              "      margin-bottom: 4px;\n",
              "    }\n",
              "\n",
              "    [theme=dark] .colab-df-convert {\n",
              "      background-color: #3B4455;\n",
              "      fill: #D2E3FC;\n",
              "    }\n",
              "\n",
              "    [theme=dark] .colab-df-convert:hover {\n",
              "      background-color: #434B5C;\n",
              "      box-shadow: 0px 1px 3px 1px rgba(0, 0, 0, 0.15);\n",
              "      filter: drop-shadow(0px 1px 2px rgba(0, 0, 0, 0.3));\n",
              "      fill: #FFFFFF;\n",
              "    }\n",
              "  </style>\n",
              "\n",
              "    <script>\n",
              "      const buttonEl =\n",
              "        document.querySelector('#df-3fb6f990-fb89-48e8-80e0-66d2e36b0bf6 button.colab-df-convert');\n",
              "      buttonEl.style.display =\n",
              "        google.colab.kernel.accessAllowed ? 'block' : 'none';\n",
              "\n",
              "      async function convertToInteractive(key) {\n",
              "        const element = document.querySelector('#df-3fb6f990-fb89-48e8-80e0-66d2e36b0bf6');\n",
              "        const dataTable =\n",
              "          await google.colab.kernel.invokeFunction('convertToInteractive',\n",
              "                                                    [key], {});\n",
              "        if (!dataTable) return;\n",
              "\n",
              "        const docLinkHtml = 'Like what you see? Visit the ' +\n",
              "          '<a target=\"_blank\" href=https://colab.research.google.com/notebooks/data_table.ipynb>data table notebook</a>'\n",
              "          + ' to learn more about interactive tables.';\n",
              "        element.innerHTML = '';\n",
              "        dataTable['output_type'] = 'display_data';\n",
              "        await google.colab.output.renderOutput(dataTable, element);\n",
              "        const docLink = document.createElement('div');\n",
              "        docLink.innerHTML = docLinkHtml;\n",
              "        element.appendChild(docLink);\n",
              "      }\n",
              "    </script>\n",
              "  </div>\n",
              "\n",
              "\n",
              "<div id=\"df-89e4e846-618f-4a74-8260-20e5bccbbbf6\">\n",
              "  <button class=\"colab-df-quickchart\" onclick=\"quickchart('df-89e4e846-618f-4a74-8260-20e5bccbbbf6')\"\n",
              "            title=\"Suggest charts\"\n",
              "            style=\"display:none;\">\n",
              "\n",
              "<svg xmlns=\"http://www.w3.org/2000/svg\" height=\"24px\"viewBox=\"0 0 24 24\"\n",
              "     width=\"24px\">\n",
              "    <g>\n",
              "        <path d=\"M19 3H5c-1.1 0-2 .9-2 2v14c0 1.1.9 2 2 2h14c1.1 0 2-.9 2-2V5c0-1.1-.9-2-2-2zM9 17H7v-7h2v7zm4 0h-2V7h2v10zm4 0h-2v-4h2v4z\"/>\n",
              "    </g>\n",
              "</svg>\n",
              "  </button>\n",
              "\n",
              "<style>\n",
              "  .colab-df-quickchart {\n",
              "      --bg-color: #E8F0FE;\n",
              "      --fill-color: #1967D2;\n",
              "      --hover-bg-color: #E2EBFA;\n",
              "      --hover-fill-color: #174EA6;\n",
              "      --disabled-fill-color: #AAA;\n",
              "      --disabled-bg-color: #DDD;\n",
              "  }\n",
              "\n",
              "  [theme=dark] .colab-df-quickchart {\n",
              "      --bg-color: #3B4455;\n",
              "      --fill-color: #D2E3FC;\n",
              "      --hover-bg-color: #434B5C;\n",
              "      --hover-fill-color: #FFFFFF;\n",
              "      --disabled-bg-color: #3B4455;\n",
              "      --disabled-fill-color: #666;\n",
              "  }\n",
              "\n",
              "  .colab-df-quickchart {\n",
              "    background-color: var(--bg-color);\n",
              "    border: none;\n",
              "    border-radius: 50%;\n",
              "    cursor: pointer;\n",
              "    display: none;\n",
              "    fill: var(--fill-color);\n",
              "    height: 32px;\n",
              "    padding: 0;\n",
              "    width: 32px;\n",
              "  }\n",
              "\n",
              "  .colab-df-quickchart:hover {\n",
              "    background-color: var(--hover-bg-color);\n",
              "    box-shadow: 0 1px 2px rgba(60, 64, 67, 0.3), 0 1px 3px 1px rgba(60, 64, 67, 0.15);\n",
              "    fill: var(--button-hover-fill-color);\n",
              "  }\n",
              "\n",
              "  .colab-df-quickchart-complete:disabled,\n",
              "  .colab-df-quickchart-complete:disabled:hover {\n",
              "    background-color: var(--disabled-bg-color);\n",
              "    fill: var(--disabled-fill-color);\n",
              "    box-shadow: none;\n",
              "  }\n",
              "\n",
              "  .colab-df-spinner {\n",
              "    border: 2px solid var(--fill-color);\n",
              "    border-color: transparent;\n",
              "    border-bottom-color: var(--fill-color);\n",
              "    animation:\n",
              "      spin 1s steps(1) infinite;\n",
              "  }\n",
              "\n",
              "  @keyframes spin {\n",
              "    0% {\n",
              "      border-color: transparent;\n",
              "      border-bottom-color: var(--fill-color);\n",
              "      border-left-color: var(--fill-color);\n",
              "    }\n",
              "    20% {\n",
              "      border-color: transparent;\n",
              "      border-left-color: var(--fill-color);\n",
              "      border-top-color: var(--fill-color);\n",
              "    }\n",
              "    30% {\n",
              "      border-color: transparent;\n",
              "      border-left-color: var(--fill-color);\n",
              "      border-top-color: var(--fill-color);\n",
              "      border-right-color: var(--fill-color);\n",
              "    }\n",
              "    40% {\n",
              "      border-color: transparent;\n",
              "      border-right-color: var(--fill-color);\n",
              "      border-top-color: var(--fill-color);\n",
              "    }\n",
              "    60% {\n",
              "      border-color: transparent;\n",
              "      border-right-color: var(--fill-color);\n",
              "    }\n",
              "    80% {\n",
              "      border-color: transparent;\n",
              "      border-right-color: var(--fill-color);\n",
              "      border-bottom-color: var(--fill-color);\n",
              "    }\n",
              "    90% {\n",
              "      border-color: transparent;\n",
              "      border-bottom-color: var(--fill-color);\n",
              "    }\n",
              "  }\n",
              "</style>\n",
              "\n",
              "  <script>\n",
              "    async function quickchart(key) {\n",
              "      const quickchartButtonEl =\n",
              "        document.querySelector('#' + key + ' button');\n",
              "      quickchartButtonEl.disabled = true;  // To prevent multiple clicks.\n",
              "      quickchartButtonEl.classList.add('colab-df-spinner');\n",
              "      try {\n",
              "        const charts = await google.colab.kernel.invokeFunction(\n",
              "            'suggestCharts', [key], {});\n",
              "      } catch (error) {\n",
              "        console.error('Error during call to suggestCharts:', error);\n",
              "      }\n",
              "      quickchartButtonEl.classList.remove('colab-df-spinner');\n",
              "      quickchartButtonEl.classList.add('colab-df-quickchart-complete');\n",
              "    }\n",
              "    (() => {\n",
              "      let quickchartButtonEl =\n",
              "        document.querySelector('#df-89e4e846-618f-4a74-8260-20e5bccbbbf6 button');\n",
              "      quickchartButtonEl.style.display =\n",
              "        google.colab.kernel.accessAllowed ? 'block' : 'none';\n",
              "    })();\n",
              "  </script>\n",
              "</div>\n",
              "    </div>\n",
              "  </div>\n"
            ]
          },
          "metadata": {},
          "execution_count": 16
        }
      ]
    },
    {
      "cell_type": "code",
      "source": [
        "samples.mean()"
      ],
      "metadata": {
        "colab": {
          "base_uri": "https://localhost:8080/"
        },
        "id": "1cx9u883eEbo",
        "outputId": "7c2efbcf-baf2-40b7-c403-6d2a4d222bf5"
      },
      "execution_count": 17,
      "outputs": [
        {
          "output_type": "stream",
          "name": "stderr",
          "text": [
            "<ipython-input-17-8111d020ec13>:1: FutureWarning: The default value of numeric_only in DataFrame.mean is deprecated. In a future version, it will default to False. In addition, specifying 'numeric_only=None' is deprecated. Select only valid columns or specify the value of numeric_only to silence this warning.\n",
            "  samples.mean()\n"
          ]
        },
        {
          "output_type": "execute_result",
          "data": {
            "text/plain": [
              "height       163.890000\n",
              "weight        76.790000\n",
              "ap_hi        130.100000\n",
              "ap_lo         84.870000\n",
              "age_years     53.520000\n",
              "bmi           28.611298\n",
              "dtype: float64"
            ]
          },
          "metadata": {},
          "execution_count": 17
        }
      ]
    },
    {
      "cell_type": "code",
      "source": [
        "samples.std()"
      ],
      "metadata": {
        "colab": {
          "base_uri": "https://localhost:8080/"
        },
        "id": "x0giul5PfPeV",
        "outputId": "1d861344-0557-4d41-f5b6-eafafe760dab"
      },
      "execution_count": 18,
      "outputs": [
        {
          "output_type": "stream",
          "name": "stderr",
          "text": [
            "<ipython-input-18-70cfbb258cf1>:1: FutureWarning: The default value of numeric_only in DataFrame.std is deprecated. In a future version, it will default to False. In addition, specifying 'numeric_only=None' is deprecated. Select only valid columns or specify the value of numeric_only to silence this warning.\n",
            "  samples.std()\n"
          ]
        },
        {
          "output_type": "execute_result",
          "data": {
            "text/plain": [
              "height        8.247307\n",
              "weight       13.584970\n",
              "ap_hi        14.615959\n",
              "ap_lo         7.950167\n",
              "age_years     6.802376\n",
              "bmi           4.642349\n",
              "dtype: float64"
            ]
          },
          "metadata": {},
          "execution_count": 18
        }
      ]
    },
    {
      "cell_type": "code",
      "source": [
        "len(samples[samples['weight'] > 70])"
      ],
      "metadata": {
        "colab": {
          "base_uri": "https://localhost:8080/"
        },
        "id": "PfWq3evYkGLp",
        "outputId": "d7574841-8dd8-43ea-9c45-bde4eb8f9547"
      },
      "execution_count": 19,
      "outputs": [
        {
          "output_type": "execute_result",
          "data": {
            "text/plain": [
              "63"
            ]
          },
          "metadata": {},
          "execution_count": 19
        }
      ]
    },
    {
      "cell_type": "code",
      "source": [
        "from scipy.stats.mstats import ttest_1samp\n",
        "#https://docs.scipy.org/doc/scipy/reference/generated/scipy.stats.ttest_ind.html\n",
        "from statsmodels.stats.weightstats import ttest_ind\n",
        "\n",
        "test_statistic = ttest_1samp(samples['weight'], popmean= 60, alternative='greater')\n",
        "\n",
        "print(test_statistic)"
      ],
      "metadata": {
        "colab": {
          "base_uri": "https://localhost:8080/"
        },
        "id": "FQQy_F2MGxx5",
        "outputId": "4f7349cf-00ad-4e55-eb69-acdab06ada5c"
      },
      "execution_count": 20,
      "outputs": [
        {
          "output_type": "stream",
          "name": "stdout",
          "text": [
            "Ttest_1sampResult(statistic=12.359246878796654, pvalue=4.401633132970351e-22)\n"
          ]
        }
      ]
    },
    {
      "cell_type": "code",
      "source": [
        "from statsmodels.stats.proportion import proportions_ztest\n",
        "\n",
        "zstat, pval = proportions_ztest(63, 100, value=0.5, prop_var=False, alternative='larger')\n",
        "\n",
        "print('zstat: ',zstat)\n",
        "print('pval: ',pval)"
      ],
      "metadata": {
        "colab": {
          "base_uri": "https://localhost:8080/"
        },
        "id": "YVE73FgAxIZ7",
        "outputId": "8e009a9d-d992-4147-cb96-a87b7abfb2b3"
      },
      "execution_count": 21,
      "outputs": [
        {
          "output_type": "stream",
          "name": "stdout",
          "text": [
            "zstat:  2.6926023193385333\n",
            "pval:  0.003544838884025079\n"
          ]
        }
      ]
    },
    {
      "cell_type": "code",
      "source": [
        "from statsmodels.stats.proportion import proportion_confint\n",
        "\n",
        "result = proportion_confint(63, 100, alpha=0.05, method='beta')\n",
        "print(result)"
      ],
      "metadata": {
        "colab": {
          "base_uri": "https://localhost:8080/"
        },
        "id": "Oab-tWP03IwL",
        "outputId": "45b022fb-e32b-42ed-ee5c-938fecedc83e"
      },
      "execution_count": 22,
      "outputs": [
        {
          "output_type": "stream",
          "name": "stdout",
          "text": [
            "(0.527648359448317, 0.7244334203854486)\n"
          ]
        }
      ]
    },
    {
      "cell_type": "code",
      "source": [
        "# ap_hi_lo_samples = cardioVascular_dataset_filtered.sample(100, random_state=1199)\n",
        "# # Check for null values https://stackoverflow.com/a/69622929/3148856\n",
        "# ap_hi_lo_samples.isna().sum().sum()"
      ],
      "metadata": {
        "id": "98wkuOpZ8w6t"
      },
      "execution_count": 23,
      "outputs": []
    },
    {
      "cell_type": "code",
      "source": [
        "ap_hi_grid_data = np.reshape(samples['ap_hi'].to_numpy(), (10, 10))\n",
        "\n",
        "# Loop through rows and print the data\n",
        "for row in ap_hi_grid_data:\n",
        "    print(','.join(map(str, row)))"
      ],
      "metadata": {
        "colab": {
          "base_uri": "https://localhost:8080/"
        },
        "id": "5QQR9kyTbW4q",
        "outputId": "2b8c656e-1d8e-4c40-aaea-52d4216c42c8"
      },
      "execution_count": 24,
      "outputs": [
        {
          "output_type": "stream",
          "name": "stdout",
          "text": [
            "150,140,120,120,130,130,140,120,120,130\n",
            "120,140,140,120,120,130,130,130,130,140\n",
            "120,120,140,120,145,130,120,130,120,120\n",
            "130,140,140,170,120,140,130,130,160,140\n",
            "110,120,120,150,120,140,120,120,110,140\n",
            "160,110,140,140,120,130,120,120,100,140\n",
            "120,120,170,120,140,150,140,115,110,140\n",
            "160,120,120,130,120,150,120,120,120,110\n",
            "120,120,120,120,120,140,120,120,140,120\n",
            "120,120,120,130,140,180,120,150,160,140\n"
          ]
        }
      ]
    },
    {
      "cell_type": "code",
      "source": [
        "ap_hi_grid_data = np.reshape(samples['ap_lo'].to_numpy(), (10, 10))\n",
        "\n",
        "# Loop through rows and print the data\n",
        "for row in ap_hi_grid_data:\n",
        "    print(','.join(map(str, row)))"
      ],
      "metadata": {
        "colab": {
          "base_uri": "https://localhost:8080/"
        },
        "id": "111KJq-Qr53q",
        "outputId": "998bf685-2a83-4633-cfa9-8f9a41030e37"
      },
      "execution_count": 25,
      "outputs": [
        {
          "output_type": "stream",
          "name": "stdout",
          "text": [
            "100,90,80,80,90,80,80,80,80,70\n",
            "80,90,90,80,80,80,90,82,90,80\n",
            "80,80,120,80,90,80,80,90,80,80\n",
            "90,90,90,110,80,80,90,90,100,90\n",
            "80,80,80,80,80,90,80,80,80,90\n",
            "90,90,90,100,80,80,80,80,80,80\n",
            "80,80,100,80,90,100,90,80,80,80\n",
            "90,80,80,90,80,90,80,80,80,80\n",
            "80,80,100,80,90,80,85,80,100,80\n",
            "80,80,80,70,80,90,80,90,100,80\n"
          ]
        }
      ]
    },
    {
      "cell_type": "code",
      "source": [
        "#ap_lo_samples = cardioVascular_dataset_filtered['ap_lo'].sample(100, random_state=1199)\n",
        "# Check for null values https://stackoverflow.com/a/69622929/3148856\n",
        "#ap_lo_samples.isna().sum().sum()"
      ],
      "metadata": {
        "id": "f9rCJOdHaq16"
      },
      "execution_count": 26,
      "outputs": []
    },
    {
      "cell_type": "code",
      "source": [
        "samples['ap_hi'].describe()"
      ],
      "metadata": {
        "colab": {
          "base_uri": "https://localhost:8080/"
        },
        "id": "XHXbUtlGwSiN",
        "outputId": "cf2e29a3-c08f-4951-82a6-a41503a41435"
      },
      "execution_count": 27,
      "outputs": [
        {
          "output_type": "execute_result",
          "data": {
            "text/plain": [
              "count    100.000000\n",
              "mean     130.100000\n",
              "std       14.615959\n",
              "min      100.000000\n",
              "25%      120.000000\n",
              "50%      125.000000\n",
              "75%      140.000000\n",
              "max      180.000000\n",
              "Name: ap_hi, dtype: float64"
            ]
          },
          "metadata": {},
          "execution_count": 27
        }
      ]
    },
    {
      "cell_type": "code",
      "source": [
        "samples['ap_lo'].describe()"
      ],
      "metadata": {
        "colab": {
          "base_uri": "https://localhost:8080/"
        },
        "id": "_AUx62MhwVTq",
        "outputId": "a41d1b0b-0a73-40ca-ad69-104dafe006fe"
      },
      "execution_count": 28,
      "outputs": [
        {
          "output_type": "execute_result",
          "data": {
            "text/plain": [
              "count    100.000000\n",
              "mean      84.870000\n",
              "std        7.950167\n",
              "min       70.000000\n",
              "25%       80.000000\n",
              "50%       80.000000\n",
              "75%       90.000000\n",
              "max      120.000000\n",
              "Name: ap_lo, dtype: float64"
            ]
          },
          "metadata": {},
          "execution_count": 28
        }
      ]
    },
    {
      "cell_type": "code",
      "source": [
        "samples['weight'].describe()"
      ],
      "metadata": {
        "colab": {
          "base_uri": "https://localhost:8080/"
        },
        "id": "Kiltw2lWQteO",
        "outputId": "8165120a-d83c-476c-e062-61d81baa5135"
      },
      "execution_count": 29,
      "outputs": [
        {
          "output_type": "execute_result",
          "data": {
            "text/plain": [
              "count    100.00000\n",
              "mean      76.79000\n",
              "std       13.58497\n",
              "min       50.00000\n",
              "25%       67.75000\n",
              "50%       75.00000\n",
              "75%       85.00000\n",
              "max      129.00000\n",
              "Name: weight, dtype: float64"
            ]
          },
          "metadata": {},
          "execution_count": 29
        }
      ]
    },
    {
      "cell_type": "code",
      "source": [
        "samples['ap_hi'].describe()"
      ],
      "metadata": {
        "colab": {
          "base_uri": "https://localhost:8080/"
        },
        "id": "bq8tfXMGQ3rg",
        "outputId": "fb2fe0ea-a728-4be1-ccb8-d8671bc88b15"
      },
      "execution_count": 30,
      "outputs": [
        {
          "output_type": "execute_result",
          "data": {
            "text/plain": [
              "count    100.000000\n",
              "mean     130.100000\n",
              "std       14.615959\n",
              "min      100.000000\n",
              "25%      120.000000\n",
              "50%      125.000000\n",
              "75%      140.000000\n",
              "max      180.000000\n",
              "Name: ap_hi, dtype: float64"
            ]
          },
          "metadata": {},
          "execution_count": 30
        }
      ]
    },
    {
      "cell_type": "code",
      "source": [
        "weight_ap_hi_difference = samples['weight'] - samples['ap_hi']\n",
        "\n",
        "\n",
        "\n",
        "weight_ap_hi_difference_grid_data = np.reshape(weight_ap_hi_difference.to_numpy(), (10, 10))\n",
        "\n",
        "# Loop through rows and print the data\n",
        "for row in weight_ap_hi_difference_grid_data:\n",
        "    print(','.join(map(str, row)))"
      ],
      "metadata": {
        "colab": {
          "base_uri": "https://localhost:8080/"
        },
        "id": "iuBkiaxme9Lw",
        "outputId": "09dabcf8-c744-4cec-fa75-f243d104706a"
      },
      "execution_count": 31,
      "outputs": [
        {
          "output_type": "stream",
          "name": "stdout",
          "text": [
            "-85.0,-62.0,-45.0,-48.0,-45.0,-60.0,-40.0,-50.0,-22.0,-44.0\n",
            "-23.0,-11.0,-32.0,-41.0,-57.0,-50.0,-55.0,-67.0,-55.0,-88.0\n",
            "-57.0,-50.0,-53.0,-33.0,-57.0,-71.0,-40.0,-41.0,-48.0,-55.0\n",
            "-47.0,-60.0,-78.0,-90.0,-56.0,-78.0,-50.0,-55.0,-76.0,-72.0\n",
            "-32.0,-54.0,-49.0,-59.0,-61.0,-60.0,-70.0,-67.0,-34.0,-72.0\n",
            "-87.0,-52.0,-54.0,-40.0,-33.0,-59.0,-40.0,-54.0,-32.0,-78.0\n",
            "-51.0,-40.0,-101.0,-55.0,-75.0,-83.0,-78.0,-39.0,-22.0,-48.0\n",
            "-74.0,-38.0,-23.0,-28.0,-31.0,-85.0,-49.0,-44.0,-51.0,-52.0\n",
            "-55.0,-50.0,-7.0,-51.0,-47.0,-62.0,-48.0,-25.0,-55.0,-16.0\n",
            "-38.0,-55.0,-33.0,-60.0,-56.0,-100.0,-46.0,-76.0,-81.0,-69.0\n"
          ]
        }
      ]
    },
    {
      "cell_type": "code",
      "source": [
        "weight_ap_lo_difference = samples['weight'] - samples['ap_lo']\n",
        "\n",
        "weight_ap_lo_difference_grid_data = np.reshape(weight_ap_lo_difference.to_numpy(), (10, 10))\n",
        "\n",
        "# Loop through rows and print the data\n",
        "for row in weight_ap_lo_difference_grid_data:\n",
        "    print(','.join(map(str, row)))"
      ],
      "metadata": {
        "colab": {
          "base_uri": "https://localhost:8080/"
        },
        "id": "kfs1XOQcMxtm",
        "outputId": "1c7cf0fb-337f-4e29-c0bb-376effc1d738"
      },
      "execution_count": 32,
      "outputs": [
        {
          "output_type": "stream",
          "name": "stdout",
          "text": [
            "-35.0,-12.0,-5.0,-8.0,-5.0,-10.0,20.0,-10.0,18.0,16.0\n",
            "17.0,39.0,18.0,-1.0,-17.0,0.0,-15.0,-19.0,-15.0,-28.0\n",
            "-17.0,-10.0,-33.0,7.0,-2.0,-21.0,0.0,-1.0,-8.0,-15.0\n",
            "-7.0,-10.0,-28.0,-30.0,-16.0,-18.0,-10.0,-15.0,-16.0,-22.0\n",
            "-2.0,-14.0,-9.0,11.0,-21.0,-10.0,-30.0,-27.0,-4.0,-22.0\n",
            "-17.0,-32.0,-4.0,0.0,7.0,-9.0,0.0,-14.0,-12.0,-18.0\n",
            "-11.0,0.0,-31.0,-15.0,-25.0,-33.0,-28.0,-4.0,8.0,12.0\n",
            "-4.0,2.0,17.0,12.0,9.0,-25.0,-9.0,-4.0,-11.0,-22.0\n",
            "-15.0,-10.0,13.0,-11.0,-17.0,-2.0,-13.0,15.0,-15.0,24.0\n",
            "2.0,-15.0,7.0,0.0,4.0,-10.0,-6.0,-16.0,-21.0,-9.0\n"
          ]
        }
      ]
    },
    {
      "cell_type": "code",
      "source": [
        "weight_ap_hi_difference.describe()"
      ],
      "metadata": {
        "colab": {
          "base_uri": "https://localhost:8080/"
        },
        "id": "jm3KqOl-fSL9",
        "outputId": "c3b13622-90ff-41ee-b04a-67c52f9bf6d1"
      },
      "execution_count": 33,
      "outputs": [
        {
          "output_type": "execute_result",
          "data": {
            "text/plain": [
              "count    100.000000\n",
              "mean     -53.310000\n",
              "std       18.849588\n",
              "min     -101.000000\n",
              "25%      -62.000000\n",
              "50%      -52.500000\n",
              "75%      -40.750000\n",
              "max       -7.000000\n",
              "dtype: float64"
            ]
          },
          "metadata": {},
          "execution_count": 33
        }
      ]
    },
    {
      "cell_type": "code",
      "source": [
        "weight_ap_lo_difference.describe()"
      ],
      "metadata": {
        "colab": {
          "base_uri": "https://localhost:8080/"
        },
        "id": "-EssIkllN_fl",
        "outputId": "64550fdf-ff24-48ef-f4f3-a3ea57ddcc86"
      },
      "execution_count": 34,
      "outputs": [
        {
          "output_type": "execute_result",
          "data": {
            "text/plain": [
              "count    100.000000\n",
              "mean      -8.080000\n",
              "std       14.315831\n",
              "min      -35.000000\n",
              "25%      -17.000000\n",
              "50%      -10.000000\n",
              "75%        0.000000\n",
              "max       39.000000\n",
              "dtype: float64"
            ]
          },
          "metadata": {},
          "execution_count": 34
        }
      ]
    },
    {
      "cell_type": "code",
      "source": [
        "weight_ap_hi_difference.hist()\n"
      ],
      "metadata": {
        "colab": {
          "base_uri": "https://localhost:8080/",
          "height": 448
        },
        "id": "wJxVCygu8zce",
        "outputId": "c0922f1d-9448-4e4c-8806-303195721de8"
      },
      "execution_count": 35,
      "outputs": [
        {
          "output_type": "execute_result",
          "data": {
            "text/plain": [
              "<Axes: >"
            ]
          },
          "metadata": {},
          "execution_count": 35
        },
        {
          "output_type": "display_data",
          "data": {
            "text/plain": [
              "<Figure size 640x480 with 1 Axes>"
            ],
            "image/png": "[encoded data removed]"
          },
          "metadata": {}
        }
      ]
    },
    {
      "cell_type": "code",
      "source": [
        "weight_ap_lo_difference.hist()"
      ],
      "metadata": {
        "colab": {
          "base_uri": "https://localhost:8080/",
          "height": 448
        },
        "id": "kQ6S0E2jazEE",
        "outputId": "86a39690-b181-4c72-f854-081bd5aa4af2"
      },
      "execution_count": 36,
      "outputs": [
        {
          "output_type": "execute_result",
          "data": {
            "text/plain": [
              "<Axes: >"
            ]
          },
          "metadata": {},
          "execution_count": 36
        },
        {
          "output_type": "display_data",
          "data": {
            "text/plain": [
              "<Figure size 640x480 with 1 Axes>"
            ],
            "image/png": "[encoded data removed]"
          },
          "metadata": {}
        }
      ]
    },
    {
      "cell_type": "code",
      "source": [
        "import matplotlib.pyplot as plt\n",
        "\n",
        "x = samples['weight']\n",
        "y = samples['ap_hi']\n",
        "\n",
        "plt.scatter(x, y , color='green', alpha=0.5)\n",
        "plt.show()"
      ],
      "metadata": {
        "colab": {
          "base_uri": "https://localhost:8080/",
          "height": 430
        },
        "id": "nMQ3zoBqbVpS",
        "outputId": "1078debf-1457-4127-97d7-d653ac1c8f27"
      },
      "execution_count": 37,
      "outputs": [
        {
          "output_type": "display_data",
          "data": {
            "text/plain": [
              "<Figure size 640x480 with 1 Axes>"
            ],
            "image/png": "[encoded data removed]"
          },
          "metadata": {}
        }
      ]
    },
    {
      "cell_type": "code",
      "source": [
        "x = samples['weight']\n",
        "y = samples['ap_lo']\n",
        "\n",
        "plt.scatter(x, y , color='orange', alpha=0.5)\n",
        "plt.show()"
      ],
      "metadata": {
        "colab": {
          "base_uri": "https://localhost:8080/",
          "height": 430
        },
        "id": "AOsi5tjmYR1W",
        "outputId": "d1db6364-ab30-4169-c101-fbd1ec58cd1b"
      },
      "execution_count": 38,
      "outputs": [
        {
          "output_type": "display_data",
          "data": {
            "text/plain": [
              "<Figure size 640x480 with 1 Axes>"
            ],
            "image/png": "[encoded data removed]"
          },
          "metadata": {}
        }
      ]
    },
    {
      "cell_type": "code",
      "source": [
        "x = samples['weight']\n",
        "y = samples['ap_hi']\n",
        "\n",
        "Zx = (x - x.mean()) / x.std()\n",
        "Zy = (y - y.mean()) / y.std()\n",
        "correlationR = np.multiply(Zx,Zy).sum() / (len(x)- 1)\n",
        "print('weight and Systolic Blood Pressure correlation: ',correlationR)"
      ],
      "metadata": {
        "colab": {
          "base_uri": "https://localhost:8080/"
        },
        "id": "O7IK7RkH4o3k",
        "outputId": "311fd4fc-ed61-4dfd-fa7a-f116bfea116b"
      },
      "execution_count": 39,
      "outputs": [
        {
          "output_type": "stream",
          "name": "stdout",
          "text": [
            "weight and Systolic Blood Pressure correlation:  0.10795546708354092\n"
          ]
        }
      ]
    },
    {
      "cell_type": "code",
      "source": [
        "x = samples['weight']\n",
        "y = samples['ap_lo']\n",
        "\n",
        "Zx = (x - x.mean()) / x.std()\n",
        "Zy = (y - y.mean()) / y.std()\n",
        "correlationR = np.multiply(Zx,Zy).sum() / (len(x)- 1)\n",
        "print('weight and Diastolic Blood Pressure correlation: ',correlationR)"
      ],
      "metadata": {
        "colab": {
          "base_uri": "https://localhost:8080/"
        },
        "id": "Y8AiXBFAsrEI",
        "outputId": "ff62dc09-288e-433e-fe95-c76d17360c0e"
      },
      "execution_count": 40,
      "outputs": [
        {
          "output_type": "stream",
          "name": "stdout",
          "text": [
            "weight and Diastolic Blood Pressure correlation:  0.19820571321253885\n"
          ]
        }
      ]
    },
    {
      "cell_type": "markdown",
      "source": [
        "Correlation confidence: https://zhiyzuo.github.io/Pearson-Correlation-CI-in-Python/"
      ],
      "metadata": {
        "id": "xwCqA0qUVcmy"
      }
    },
    {
      "cell_type": "code",
      "source": [
        "from scipy import stats\n",
        "\n",
        "x = samples['weight']\n",
        "y1 = samples['ap_hi']\n",
        "y2 = samples['ap_lo']\n",
        "\n",
        "pearsonR1 = stats.pearsonr(x,y1)\n",
        "pearsonR2 = stats.pearsonr(x,y2)\n",
        "print('weight and ap_hi correlation: ', pearsonR1.correlation)\n",
        "print('weight and ap_lo correlation: ', pearsonR2.correlation)"
      ],
      "metadata": {
        "colab": {
          "base_uri": "https://localhost:8080/"
        },
        "id": "iNrDI6IlSX49",
        "outputId": "6242eb0c-1c18-4950-bfb0-cc7864c39316"
      },
      "execution_count": 41,
      "outputs": [
        {
          "output_type": "stream",
          "name": "stdout",
          "text": [
            "weight and ap_hi correlation:  0.10795546708354091\n",
            "weight and ap_lo correlation:  0.1982057132125388\n"
          ]
        }
      ]
    },
    {
      "cell_type": "code",
      "source": [
        "pearsonR1_CI = pearsonR1.confidence_interval(confidence_level=0.95)\n",
        "pearsonR2_CI = pearsonR2.confidence_interval(confidence_level=0.95)\n",
        "\n",
        "print('weight and ap_hi correlation CI: ', pearsonR1_CI)\n",
        "print('weight and ap_lo correlation CI: ', pearsonR2_CI)"
      ],
      "metadata": {
        "colab": {
          "base_uri": "https://localhost:8080/"
        },
        "id": "7AxgUJp1WqiV",
        "outputId": "83bb9247-6bb3-4818-c1b2-5d1dd85d3cac"
      },
      "execution_count": 42,
      "outputs": [
        {
          "output_type": "stream",
          "name": "stdout",
          "text": [
            "weight and ap_hi correlation CI:  ConfidenceInterval(low=-0.09037908575559124, high=0.29805353550469366)\n",
            "weight and ap_lo correlation CI:  ConfidenceInterval(low=0.001860007855474083, high=0.379836348657462)\n"
          ]
        }
      ]
    },
    {
      "cell_type": "markdown",
      "source": [
        "## Dummies https://stackoverflow.com/a/53756024/3148856"
      ],
      "metadata": {
        "id": "RKAl4pIn8wLT"
      }
    },
    {
      "cell_type": "code",
      "source": [
        "from scipy import stats\n",
        "\n",
        "#bp_category_types = list(set(samples['bp_category']))\n",
        "\n",
        "Y = pd.get_dummies(data = samples['bp_category'], drop_first=True)\n",
        "#print(Y)\n",
        "\n",
        "X = samples['weight']\n",
        "\n",
        "samples.groupby(\"bp_category\")[\"weight\"].mean()\n",
        "\n",
        "#res = stats.linregress(X, Y)\n"
      ],
      "metadata": {
        "colab": {
          "base_uri": "https://localhost:8080/"
        },
        "id": "hpOHWC598ve_",
        "outputId": "17aacfe2-b99a-4c88-86f2-14cd1cba288d"
      },
      "execution_count": 43,
      "outputs": [
        {
          "output_type": "execute_result",
          "data": {
            "text/plain": [
              "bp_category\n",
              "Hypertension Stage 1    75.591549\n",
              "Hypertension Stage 2    79.724138\n",
              "Name: weight, dtype: float64"
            ]
          },
          "metadata": {},
          "execution_count": 43
        }
      ]
    },
    {
      "cell_type": "code",
      "source": [
        "X = X.to_frame()"
      ],
      "metadata": {
        "id": "dVRalHqbjB_S"
      },
      "execution_count": 44,
      "outputs": []
    },
    {
      "cell_type": "markdown",
      "source": [
        "# Model Building and Testing"
      ],
      "metadata": {
        "id": "iURgU-uLc-LK"
      }
    },
    {
      "cell_type": "markdown",
      "source": [
        "## Creating X_test and Y_test"
      ],
      "metadata": {
        "id": "3CkDev5NdAya"
      }
    },
    {
      "cell_type": "code",
      "source": [
        "test_samples = cardioVascular_dataset_filtered.sample(100, random_state=19)\n",
        "# Check for null values https://stackoverflow.com/a/69622929/3148856\n",
        "X_test = test_samples['weight'].to_frame()\n",
        "Y_test = pd.get_dummies(data = test_samples['bp_category'], drop_first=True)"
      ],
      "metadata": {
        "id": "-IrxsSZosrE9"
      },
      "execution_count": 45,
      "outputs": []
    },
    {
      "cell_type": "markdown",
      "source": [
        "## Regression"
      ],
      "metadata": {
        "id": "l0LHCUYebAb2"
      }
    },
    {
      "cell_type": "code",
      "source": [
        "from sklearn.linear_model import LinearRegression\n",
        "\n",
        "\n",
        "reg = LinearRegression().fit(X, Y)\n",
        "\n",
        "Y_predictions = reg.predict(X_test)"
      ],
      "metadata": {
        "id": "EUdRvURQiqVV"
      },
      "execution_count": 46,
      "outputs": []
    },
    {
      "cell_type": "code",
      "source": [
        "reg.score(X,Y)"
      ],
      "metadata": {
        "colab": {
          "base_uri": "https://localhost:8080/"
        },
        "id": "heLB9w6gpilb",
        "outputId": "b10c39ca-6232-4a09-c33b-0fc0fb909742"
      },
      "execution_count": 47,
      "outputs": [
        {
          "output_type": "execute_result",
          "data": {
            "text/plain": [
              "0.019246338896240167"
            ]
          },
          "metadata": {},
          "execution_count": 47
        }
      ]
    },
    {
      "cell_type": "code",
      "source": [
        "# slope\n",
        "reg.coef_"
      ],
      "metadata": {
        "colab": {
          "base_uri": "https://localhost:8080/"
        },
        "id": "B4GxLckKp1NZ",
        "outputId": "1e866ce1-4c12-42c7-9c94-3a4f867993bb"
      },
      "execution_count": 48,
      "outputs": [
        {
          "output_type": "execute_result",
          "data": {
            "text/plain": [
              "array([[0.00465721]])"
            ]
          },
          "metadata": {},
          "execution_count": 48
        }
      ]
    },
    {
      "cell_type": "code",
      "source": [
        "# intercept\n",
        "reg.intercept_"
      ],
      "metadata": {
        "colab": {
          "base_uri": "https://localhost:8080/"
        },
        "id": "t4tb146lpVd8",
        "outputId": "998ee1c7-eafa-4172-f819-9295087c976b"
      },
      "execution_count": 49,
      "outputs": [
        {
          "output_type": "execute_result",
          "data": {
            "text/plain": [
              "array([-0.06762726])"
            ]
          },
          "metadata": {},
          "execution_count": 49
        }
      ]
    },
    {
      "cell_type": "code",
      "source": [
        "X_test['weight'].max()"
      ],
      "metadata": {
        "colab": {
          "base_uri": "https://localhost:8080/"
        },
        "id": "II60787MwrOv",
        "outputId": "9798d5b1-3d66-46eb-aabc-a762412f9b3b"
      },
      "execution_count": 50,
      "outputs": [
        {
          "output_type": "execute_result",
          "data": {
            "text/plain": [
              "130.0"
            ]
          },
          "metadata": {},
          "execution_count": 50
        }
      ]
    },
    {
      "cell_type": "code",
      "source": [
        "#Y_test = -0.06762726 + 0.00465721 * X_test['weight']"
      ],
      "metadata": {
        "id": "YDu9YG8ezhiz"
      },
      "execution_count": 51,
      "outputs": []
    },
    {
      "cell_type": "code",
      "source": [
        "\n",
        "#plt.scatter(X_test, Y_test, color=\"black\")\n",
        "plt.title('Regression Line')\n",
        "plt.xlabel('Weight in Kilograms')\n",
        "plt.ylabel('Hypertension category 0 -> Cat 1, 1 -> Cat 2')\n",
        "plt.xlim([X_test['weight'].min(), X_test['weight'].max()])\n",
        "plt.ylim([0, 1])\n",
        "#plt.scatter(X_test, Y_test, color=\"black\")\n",
        "plt.plot(X_test, Y_predictions, color=\"#F28500\", alpha=0.5, linewidth=2)"
      ],
      "metadata": {
        "colab": {
          "base_uri": "https://localhost:8080/",
          "height": 490
        },
        "id": "vxzXSTSMryZe",
        "outputId": "97b2a5a8-53f2-4209-a5db-5bc88293b5e6"
      },
      "execution_count": 52,
      "outputs": [
        {
          "output_type": "execute_result",
          "data": {
            "text/plain": [
              "[<matplotlib.lines.Line2D at 0x7874ec597610>]"
            ]
          },
          "metadata": {},
          "execution_count": 52
        },
        {
          "output_type": "display_data",
          "data": {
            "text/plain": [
              "<Figure size 640x480 with 1 Axes>"
            ],
            "image/png": "[encoded data removed]"
          },
          "metadata": {}
        }
      ]
    },
    {
      "cell_type": "code",
      "source": [
        "# residual = observed y - predicted y\n",
        "residual = Y_test - Y_predictions"
      ],
      "metadata": {
        "id": "rF8yh4x40HKB"
      },
      "execution_count": 53,
      "outputs": []
    },
    {
      "cell_type": "code",
      "source": [
        "plt.title('Residual Plot')\n",
        "plt.xlabel('Weight in Kilograms')\n",
        "plt.ylabel('Hypertension category 0 -> Cat 1, 1 -> Cat 2')\n",
        "plt.xlim([X_test['weight'].min(), X_test['weight'].max()])\n",
        "plt.ylim([-1, 1])\n",
        "plt.scatter(X_test, residual, color=\"orange\", alpha=0.6)\n",
        "#plt.plot(X_test, Y_predictions, color=\"blue\", linewidth=3)"
      ],
      "metadata": {
        "colab": {
          "base_uri": "https://localhost:8080/",
          "height": 490
        },
        "id": "Rqe2xK3v0cim",
        "outputId": "dad7b9d4-1cca-4d1d-ffb2-aa61f9e46f4f"
      },
      "execution_count": 54,
      "outputs": [
        {
          "output_type": "execute_result",
          "data": {
            "text/plain": [
              "<matplotlib.collections.PathCollection at 0x7874ec60f430>"
            ]
          },
          "metadata": {},
          "execution_count": 54
        },
        {
          "output_type": "display_data",
          "data": {
            "text/plain": [
              "<Figure size 640x480 with 1 Axes>"
            ],
            "image/png": "[encoded data removed]"
          },
          "metadata": {}
        }
      ]
    },
    {
      "cell_type": "markdown",
      "source": [
        "## Multi Regression"
      ],
      "metadata": {
        "id": "Prpl_S4r-Zu5"
      }
    },
    {
      "cell_type": "code",
      "source": [
        "samples.head()"
      ],
      "metadata": {
        "colab": {
          "base_uri": "https://localhost:8080/",
          "height": 238
        },
        "id": "e59Opb1H-9EO",
        "outputId": "7cbc2778-088f-4afd-c048-0f8191f7c00f"
      },
      "execution_count": 55,
      "outputs": [
        {
          "output_type": "execute_result",
          "data": {
            "text/plain": [
              "       height  weight  ap_hi  ap_lo  age_years        bmi  \\\n",
              "id                                                          \n",
              "48366     150    65.0    150    100         59  28.888889   \n",
              "40774     153    78.0    140     90         49  33.320518   \n",
              "41092     159    75.0    120     80         62  29.666548   \n",
              "7611      164    72.0    120     80         52  26.769780   \n",
              "47616     158    85.0    130     90         52  34.049031   \n",
              "\n",
              "                bp_category  \n",
              "id                           \n",
              "48366  Hypertension Stage 2  \n",
              "40774  Hypertension Stage 2  \n",
              "41092  Hypertension Stage 1  \n",
              "7611   Hypertension Stage 1  \n",
              "47616  Hypertension Stage 1  "
            ],
            "text/html": [
              "\n",
              "  <div id=\"df-0f09bc29-f97f-42e5-a192-8345a654584f\" class=\"colab-df-container\">\n",
              "    <div>\n",
              "<style scoped>\n",
              "    .dataframe tbody tr th:only-of-type {\n",
              "        vertical-align: middle;\n",
              "    }\n",
              "\n",
              "    .dataframe tbody tr th {\n",
              "        vertical-align: top;\n",
              "    }\n",
              "\n",
              "    .dataframe thead th {\n",
              "        text-align: right;\n",
              "    }\n",
              "</style>\n",
              "<table border=\"1\" class=\"dataframe\">\n",
              "  <thead>\n",
              "    <tr style=\"text-align: right;\">\n",
              "      <th></th>\n",
              "      <th>height</th>\n",
              "      <th>weight</th>\n",
              "      <th>ap_hi</th>\n",
              "      <th>ap_lo</th>\n",
              "      <th>age_years</th>\n",
              "      <th>bmi</th>\n",
              "      <th>bp_category</th>\n",
              "    </tr>\n",
              "    <tr>\n",
              "      <th>id</th>\n",
              "      <th></th>\n",
              "      <th></th>\n",
              "      <th></th>\n",
              "      <th></th>\n",
              "      <th></th>\n",
              "      <th></th>\n",
              "      <th></th>\n",
              "    </tr>\n",
              "  </thead>\n",
              "  <tbody>\n",
              "    <tr>\n",
              "      <th>48366</th>\n",
              "      <td>150</td>\n",
              "      <td>65.0</td>\n",
              "      <td>150</td>\n",
              "      <td>100</td>\n",
              "      <td>59</td>\n",
              "      <td>28.888889</td>\n",
              "      <td>Hypertension Stage 2</td>\n",
              "    </tr>\n",
              "    <tr>\n",
              "      <th>40774</th>\n",
              "      <td>153</td>\n",
              "      <td>78.0</td>\n",
              "      <td>140</td>\n",
              "      <td>90</td>\n",
              "      <td>49</td>\n",
              "      <td>33.320518</td>\n",
              "      <td>Hypertension Stage 2</td>\n",
              "    </tr>\n",
              "    <tr>\n",
              "      <th>41092</th>\n",
              "      <td>159</td>\n",
              "      <td>75.0</td>\n",
              "      <td>120</td>\n",
              "      <td>80</td>\n",
              "      <td>62</td>\n",
              "      <td>29.666548</td>\n",
              "      <td>Hypertension Stage 1</td>\n",
              "    </tr>\n",
              "    <tr>\n",
              "      <th>7611</th>\n",
              "      <td>164</td>\n",
              "      <td>72.0</td>\n",
              "      <td>120</td>\n",
              "      <td>80</td>\n",
              "      <td>52</td>\n",
              "      <td>26.769780</td>\n",
              "      <td>Hypertension Stage 1</td>\n",
              "    </tr>\n",
              "    <tr>\n",
              "      <th>47616</th>\n",
              "      <td>158</td>\n",
              "      <td>85.0</td>\n",
              "      <td>130</td>\n",
              "      <td>90</td>\n",
              "      <td>52</td>\n",
              "      <td>34.049031</td>\n",
              "      <td>Hypertension Stage 1</td>\n",
              "    </tr>\n",
              "  </tbody>\n",
              "</table>\n",
              "</div>\n",
              "    <div class=\"colab-df-buttons\">\n",
              "\n",
              "  <div class=\"colab-df-container\">\n",
              "    <button class=\"colab-df-convert\" onclick=\"convertToInteractive('df-0f09bc29-f97f-42e5-a192-8345a654584f')\"\n",
              "            title=\"Convert this dataframe to an interactive table.\"\n",
              "            style=\"display:none;\">\n",
              "\n",
              "  <svg xmlns=\"http://www.w3.org/2000/svg\" height=\"24px\" viewBox=\"0 -960 960 960\">\n",
              "    <path d=\"M120-120v-720h720v720H120Zm60-500h600v-160H180v160Zm220 220h160v-160H400v160Zm0 220h160v-160H400v160ZM180-400h160v-160H180v160Zm440 0h160v-160H620v160ZM180-180h160v-160H180v160Zm440 0h160v-160H620v160Z\"/>\n",
              "  </svg>\n",
              "    </button>\n",
              "\n",
              "  <style>\n",
              "    .colab-df-container {\n",
              "      display:flex;\n",
              "      gap: 12px;\n",
              "    }\n",
              "\n",
              "    .colab-df-convert {\n",
              "      background-color: #E8F0FE;\n",
              "      border: none;\n",
              "      border-radius: 50%;\n",
              "      cursor: pointer;\n",
              "      display: none;\n",
              "      fill: #1967D2;\n",
              "      height: 32px;\n",
              "      padding: 0 0 0 0;\n",
              "      width: 32px;\n",
              "    }\n",
              "\n",
              "    .colab-df-convert:hover {\n",
              "      background-color: #E2EBFA;\n",
              "      box-shadow: 0px 1px 2px rgba(60, 64, 67, 0.3), 0px 1px 3px 1px rgba(60, 64, 67, 0.15);\n",
              "      fill: #174EA6;\n",
              "    }\n",
              "\n",
              "    .colab-df-buttons div {\n",
              "      margin-bottom: 4px;\n",
              "    }\n",
              "\n",
              "    [theme=dark] .colab-df-convert {\n",
              "      background-color: #3B4455;\n",
              "      fill: #D2E3FC;\n",
              "    }\n",
              "\n",
              "    [theme=dark] .colab-df-convert:hover {\n",
              "      background-color: #434B5C;\n",
              "      box-shadow: 0px 1px 3px 1px rgba(0, 0, 0, 0.15);\n",
              "      filter: drop-shadow(0px 1px 2px rgba(0, 0, 0, 0.3));\n",
              "      fill: #FFFFFF;\n",
              "    }\n",
              "  </style>\n",
              "\n",
              "    <script>\n",
              "      const buttonEl =\n",
              "        document.querySelector('#df-0f09bc29-f97f-42e5-a192-8345a654584f button.colab-df-convert');\n",
              "      buttonEl.style.display =\n",
              "        google.colab.kernel.accessAllowed ? 'block' : 'none';\n",
              "\n",
              "      async function convertToInteractive(key) {\n",
              "        const element = document.querySelector('#df-0f09bc29-f97f-42e5-a192-8345a654584f');\n",
              "        const dataTable =\n",
              "          await google.colab.kernel.invokeFunction('convertToInteractive',\n",
              "                                                    [key], {});\n",
              "        if (!dataTable) return;\n",
              "\n",
              "        const docLinkHtml = 'Like what you see? Visit the ' +\n",
              "          '<a target=\"_blank\" href=https://colab.research.google.com/notebooks/data_table.ipynb>data table notebook</a>'\n",
              "          + ' to learn more about interactive tables.';\n",
              "        element.innerHTML = '';\n",
              "        dataTable['output_type'] = 'display_data';\n",
              "        await google.colab.output.renderOutput(dataTable, element);\n",
              "        const docLink = document.createElement('div');\n",
              "        docLink.innerHTML = docLinkHtml;\n",
              "        element.appendChild(docLink);\n",
              "      }\n",
              "    </script>\n",
              "  </div>\n",
              "\n",
              "\n",
              "<div id=\"df-4a21ea7e-0ea5-440c-8f56-90fe16b50920\">\n",
              "  <button class=\"colab-df-quickchart\" onclick=\"quickchart('df-4a21ea7e-0ea5-440c-8f56-90fe16b50920')\"\n",
              "            title=\"Suggest charts\"\n",
              "            style=\"display:none;\">\n",
              "\n",
              "<svg xmlns=\"http://www.w3.org/2000/svg\" height=\"24px\"viewBox=\"0 0 24 24\"\n",
              "     width=\"24px\">\n",
              "    <g>\n",
              "        <path d=\"M19 3H5c-1.1 0-2 .9-2 2v14c0 1.1.9 2 2 2h14c1.1 0 2-.9 2-2V5c0-1.1-.9-2-2-2zM9 17H7v-7h2v7zm4 0h-2V7h2v10zm4 0h-2v-4h2v4z\"/>\n",
              "    </g>\n",
              "</svg>\n",
              "  </button>\n",
              "\n",
              "<style>\n",
              "  .colab-df-quickchart {\n",
              "      --bg-color: #E8F0FE;\n",
              "      --fill-color: #1967D2;\n",
              "      --hover-bg-color: #E2EBFA;\n",
              "      --hover-fill-color: #174EA6;\n",
              "      --disabled-fill-color: #AAA;\n",
              "      --disabled-bg-color: #DDD;\n",
              "  }\n",
              "\n",
              "  [theme=dark] .colab-df-quickchart {\n",
              "      --bg-color: #3B4455;\n",
              "      --fill-color: #D2E3FC;\n",
              "      --hover-bg-color: #434B5C;\n",
              "      --hover-fill-color: #FFFFFF;\n",
              "      --disabled-bg-color: #3B4455;\n",
              "      --disabled-fill-color: #666;\n",
              "  }\n",
              "\n",
              "  .colab-df-quickchart {\n",
              "    background-color: var(--bg-color);\n",
              "    border: none;\n",
              "    border-radius: 50%;\n",
              "    cursor: pointer;\n",
              "    display: none;\n",
              "    fill: var(--fill-color);\n",
              "    height: 32px;\n",
              "    padding: 0;\n",
              "    width: 32px;\n",
              "  }\n",
              "\n",
              "  .colab-df-quickchart:hover {\n",
              "    background-color: var(--hover-bg-color);\n",
              "    box-shadow: 0 1px 2px rgba(60, 64, 67, 0.3), 0 1px 3px 1px rgba(60, 64, 67, 0.15);\n",
              "    fill: var(--button-hover-fill-color);\n",
              "  }\n",
              "\n",
              "  .colab-df-quickchart-complete:disabled,\n",
              "  .colab-df-quickchart-complete:disabled:hover {\n",
              "    background-color: var(--disabled-bg-color);\n",
              "    fill: var(--disabled-fill-color);\n",
              "    box-shadow: none;\n",
              "  }\n",
              "\n",
              "  .colab-df-spinner {\n",
              "    border: 2px solid var(--fill-color);\n",
              "    border-color: transparent;\n",
              "    border-bottom-color: var(--fill-color);\n",
              "    animation:\n",
              "      spin 1s steps(1) infinite;\n",
              "  }\n",
              "\n",
              "  @keyframes spin {\n",
              "    0% {\n",
              "      border-color: transparent;\n",
              "      border-bottom-color: var(--fill-color);\n",
              "      border-left-color: var(--fill-color);\n",
              "    }\n",
              "    20% {\n",
              "      border-color: transparent;\n",
              "      border-left-color: var(--fill-color);\n",
              "      border-top-color: var(--fill-color);\n",
              "    }\n",
              "    30% {\n",
              "      border-color: transparent;\n",
              "      border-left-color: var(--fill-color);\n",
              "      border-top-color: var(--fill-color);\n",
              "      border-right-color: var(--fill-color);\n",
              "    }\n",
              "    40% {\n",
              "      border-color: transparent;\n",
              "      border-right-color: var(--fill-color);\n",
              "      border-top-color: var(--fill-color);\n",
              "    }\n",
              "    60% {\n",
              "      border-color: transparent;\n",
              "      border-right-color: var(--fill-color);\n",
              "    }\n",
              "    80% {\n",
              "      border-color: transparent;\n",
              "      border-right-color: var(--fill-color);\n",
              "      border-bottom-color: var(--fill-color);\n",
              "    }\n",
              "    90% {\n",
              "      border-color: transparent;\n",
              "      border-bottom-color: var(--fill-color);\n",
              "    }\n",
              "  }\n",
              "</style>\n",
              "\n",
              "  <script>\n",
              "    async function quickchart(key) {\n",
              "      const quickchartButtonEl =\n",
              "        document.querySelector('#' + key + ' button');\n",
              "      quickchartButtonEl.disabled = true;  // To prevent multiple clicks.\n",
              "      quickchartButtonEl.classList.add('colab-df-spinner');\n",
              "      try {\n",
              "        const charts = await google.colab.kernel.invokeFunction(\n",
              "            'suggestCharts', [key], {});\n",
              "      } catch (error) {\n",
              "        console.error('Error during call to suggestCharts:', error);\n",
              "      }\n",
              "      quickchartButtonEl.classList.remove('colab-df-spinner');\n",
              "      quickchartButtonEl.classList.add('colab-df-quickchart-complete');\n",
              "    }\n",
              "    (() => {\n",
              "      let quickchartButtonEl =\n",
              "        document.querySelector('#df-4a21ea7e-0ea5-440c-8f56-90fe16b50920 button');\n",
              "      quickchartButtonEl.style.display =\n",
              "        google.colab.kernel.accessAllowed ? 'block' : 'none';\n",
              "    })();\n",
              "  </script>\n",
              "</div>\n",
              "    </div>\n",
              "  </div>\n"
            ]
          },
          "metadata": {},
          "execution_count": 55
        }
      ]
    },
    {
      "cell_type": "code",
      "source": [
        "from sklearn.linear_model import LinearRegression\n",
        "\n",
        "Y_multi = pd.get_dummies(data = samples['bp_category'], drop_first=True)\n",
        "#print(Y)\n",
        "\n",
        "X_multi = samples.drop(axis='columns', columns=['height', 'age_years', 'bmi', 'bp_category'], index=None)\n",
        "\n",
        "X_multi.head()"
      ],
      "metadata": {
        "colab": {
          "base_uri": "https://localhost:8080/",
          "height": 238
        },
        "id": "QC_sK9dy-btD",
        "outputId": "cf9a5854-9b8e-4b19-e76f-b131d309d2c5"
      },
      "execution_count": 56,
      "outputs": [
        {
          "output_type": "execute_result",
          "data": {
            "text/plain": [
              "       weight  ap_hi  ap_lo\n",
              "id                         \n",
              "48366    65.0    150    100\n",
              "40774    78.0    140     90\n",
              "41092    75.0    120     80\n",
              "7611     72.0    120     80\n",
              "47616    85.0    130     90"
            ],
            "text/html": [
              "\n",
              "  <div id=\"df-fa2beedd-b4bc-4700-9cb8-345aecad35cb\" class=\"colab-df-container\">\n",
              "    <div>\n",
              "<style scoped>\n",
              "    .dataframe tbody tr th:only-of-type {\n",
              "        vertical-align: middle;\n",
              "    }\n",
              "\n",
              "    .dataframe tbody tr th {\n",
              "        vertical-align: top;\n",
              "    }\n",
              "\n",
              "    .dataframe thead th {\n",
              "        text-align: right;\n",
              "    }\n",
              "</style>\n",
              "<table border=\"1\" class=\"dataframe\">\n",
              "  <thead>\n",
              "    <tr style=\"text-align: right;\">\n",
              "      <th></th>\n",
              "      <th>weight</th>\n",
              "      <th>ap_hi</th>\n",
              "      <th>ap_lo</th>\n",
              "    </tr>\n",
              "    <tr>\n",
              "      <th>id</th>\n",
              "      <th></th>\n",
              "      <th></th>\n",
              "      <th></th>\n",
              "    </tr>\n",
              "  </thead>\n",
              "  <tbody>\n",
              "    <tr>\n",
              "      <th>48366</th>\n",
              "      <td>65.0</td>\n",
              "      <td>150</td>\n",
              "      <td>100</td>\n",
              "    </tr>\n",
              "    <tr>\n",
              "      <th>40774</th>\n",
              "      <td>78.0</td>\n",
              "      <td>140</td>\n",
              "      <td>90</td>\n",
              "    </tr>\n",
              "    <tr>\n",
              "      <th>41092</th>\n",
              "      <td>75.0</td>\n",
              "      <td>120</td>\n",
              "      <td>80</td>\n",
              "    </tr>\n",
              "    <tr>\n",
              "      <th>7611</th>\n",
              "      <td>72.0</td>\n",
              "      <td>120</td>\n",
              "      <td>80</td>\n",
              "    </tr>\n",
              "    <tr>\n",
              "      <th>47616</th>\n",
              "      <td>85.0</td>\n",
              "      <td>130</td>\n",
              "      <td>90</td>\n",
              "    </tr>\n",
              "  </tbody>\n",
              "</table>\n",
              "</div>\n",
              "    <div class=\"colab-df-buttons\">\n",
              "\n",
              "  <div class=\"colab-df-container\">\n",
              "    <button class=\"colab-df-convert\" onclick=\"convertToInteractive('df-fa2beedd-b4bc-4700-9cb8-345aecad35cb')\"\n",
              "            title=\"Convert this dataframe to an interactive table.\"\n",
              "            style=\"display:none;\">\n",
              "\n",
              "  <svg xmlns=\"http://www.w3.org/2000/svg\" height=\"24px\" viewBox=\"0 -960 960 960\">\n",
              "    <path d=\"M120-120v-720h720v720H120Zm60-500h600v-160H180v160Zm220 220h160v-160H400v160Zm0 220h160v-160H400v160ZM180-400h160v-160H180v160Zm440 0h160v-160H620v160ZM180-180h160v-160H180v160Zm440 0h160v-160H620v160Z\"/>\n",
              "  </svg>\n",
              "    </button>\n",
              "\n",
              "  <style>\n",
              "    .colab-df-container {\n",
              "      display:flex;\n",
              "      gap: 12px;\n",
              "    }\n",
              "\n",
              "    .colab-df-convert {\n",
              "      background-color: #E8F0FE;\n",
              "      border: none;\n",
              "      border-radius: 50%;\n",
              "      cursor: pointer;\n",
              "      display: none;\n",
              "      fill: #1967D2;\n",
              "      height: 32px;\n",
              "      padding: 0 0 0 0;\n",
              "      width: 32px;\n",
              "    }\n",
              "\n",
              "    .colab-df-convert:hover {\n",
              "      background-color: #E2EBFA;\n",
              "      box-shadow: 0px 1px 2px rgba(60, 64, 67, 0.3), 0px 1px 3px 1px rgba(60, 64, 67, 0.15);\n",
              "      fill: #174EA6;\n",
              "    }\n",
              "\n",
              "    .colab-df-buttons div {\n",
              "      margin-bottom: 4px;\n",
              "    }\n",
              "\n",
              "    [theme=dark] .colab-df-convert {\n",
              "      background-color: #3B4455;\n",
              "      fill: #D2E3FC;\n",
              "    }\n",
              "\n",
              "    [theme=dark] .colab-df-convert:hover {\n",
              "      background-color: #434B5C;\n",
              "      box-shadow: 0px 1px 3px 1px rgba(0, 0, 0, 0.15);\n",
              "      filter: drop-shadow(0px 1px 2px rgba(0, 0, 0, 0.3));\n",
              "      fill: #FFFFFF;\n",
              "    }\n",
              "  </style>\n",
              "\n",
              "    <script>\n",
              "      const buttonEl =\n",
              "        document.querySelector('#df-fa2beedd-b4bc-4700-9cb8-345aecad35cb button.colab-df-convert');\n",
              "      buttonEl.style.display =\n",
              "        google.colab.kernel.accessAllowed ? 'block' : 'none';\n",
              "\n",
              "      async function convertToInteractive(key) {\n",
              "        const element = document.querySelector('#df-fa2beedd-b4bc-4700-9cb8-345aecad35cb');\n",
              "        const dataTable =\n",
              "          await google.colab.kernel.invokeFunction('convertToInteractive',\n",
              "                                                    [key], {});\n",
              "        if (!dataTable) return;\n",
              "\n",
              "        const docLinkHtml = 'Like what you see? Visit the ' +\n",
              "          '<a target=\"_blank\" href=https://colab.research.google.com/notebooks/data_table.ipynb>data table notebook</a>'\n",
              "          + ' to learn more about interactive tables.';\n",
              "        element.innerHTML = '';\n",
              "        dataTable['output_type'] = 'display_data';\n",
              "        await google.colab.output.renderOutput(dataTable, element);\n",
              "        const docLink = document.createElement('div');\n",
              "        docLink.innerHTML = docLinkHtml;\n",
              "        element.appendChild(docLink);\n",
              "      }\n",
              "    </script>\n",
              "  </div>\n",
              "\n",
              "\n",
              "<div id=\"df-4ddbcd97-d81c-4754-ad2b-76b62afe975b\">\n",
              "  <button class=\"colab-df-quickchart\" onclick=\"quickchart('df-4ddbcd97-d81c-4754-ad2b-76b62afe975b')\"\n",
              "            title=\"Suggest charts\"\n",
              "            style=\"display:none;\">\n",
              "\n",
              "<svg xmlns=\"http://www.w3.org/2000/svg\" height=\"24px\"viewBox=\"0 0 24 24\"\n",
              "     width=\"24px\">\n",
              "    <g>\n",
              "        <path d=\"M19 3H5c-1.1 0-2 .9-2 2v14c0 1.1.9 2 2 2h14c1.1 0 2-.9 2-2V5c0-1.1-.9-2-2-2zM9 17H7v-7h2v7zm4 0h-2V7h2v10zm4 0h-2v-4h2v4z\"/>\n",
              "    </g>\n",
              "</svg>\n",
              "  </button>\n",
              "\n",
              "<style>\n",
              "  .colab-df-quickchart {\n",
              "      --bg-color: #E8F0FE;\n",
              "      --fill-color: #1967D2;\n",
              "      --hover-bg-color: #E2EBFA;\n",
              "      --hover-fill-color: #174EA6;\n",
              "      --disabled-fill-color: #AAA;\n",
              "      --disabled-bg-color: #DDD;\n",
              "  }\n",
              "\n",
              "  [theme=dark] .colab-df-quickchart {\n",
              "      --bg-color: #3B4455;\n",
              "      --fill-color: #D2E3FC;\n",
              "      --hover-bg-color: #434B5C;\n",
              "      --hover-fill-color: #FFFFFF;\n",
              "      --disabled-bg-color: #3B4455;\n",
              "      --disabled-fill-color: #666;\n",
              "  }\n",
              "\n",
              "  .colab-df-quickchart {\n",
              "    background-color: var(--bg-color);\n",
              "    border: none;\n",
              "    border-radius: 50%;\n",
              "    cursor: pointer;\n",
              "    display: none;\n",
              "    fill: var(--fill-color);\n",
              "    height: 32px;\n",
              "    padding: 0;\n",
              "    width: 32px;\n",
              "  }\n",
              "\n",
              "  .colab-df-quickchart:hover {\n",
              "    background-color: var(--hover-bg-color);\n",
              "    box-shadow: 0 1px 2px rgba(60, 64, 67, 0.3), 0 1px 3px 1px rgba(60, 64, 67, 0.15);\n",
              "    fill: var(--button-hover-fill-color);\n",
              "  }\n",
              "\n",
              "  .colab-df-quickchart-complete:disabled,\n",
              "  .colab-df-quickchart-complete:disabled:hover {\n",
              "    background-color: var(--disabled-bg-color);\n",
              "    fill: var(--disabled-fill-color);\n",
              "    box-shadow: none;\n",
              "  }\n",
              "\n",
              "  .colab-df-spinner {\n",
              "    border: 2px solid var(--fill-color);\n",
              "    border-color: transparent;\n",
              "    border-bottom-color: var(--fill-color);\n",
              "    animation:\n",
              "      spin 1s steps(1) infinite;\n",
              "  }\n",
              "\n",
              "  @keyframes spin {\n",
              "    0% {\n",
              "      border-color: transparent;\n",
              "      border-bottom-color: var(--fill-color);\n",
              "      border-left-color: var(--fill-color);\n",
              "    }\n",
              "    20% {\n",
              "      border-color: transparent;\n",
              "      border-left-color: var(--fill-color);\n",
              "      border-top-color: var(--fill-color);\n",
              "    }\n",
              "    30% {\n",
              "      border-color: transparent;\n",
              "      border-left-color: var(--fill-color);\n",
              "      border-top-color: var(--fill-color);\n",
              "      border-right-color: var(--fill-color);\n",
              "    }\n",
              "    40% {\n",
              "      border-color: transparent;\n",
              "      border-right-color: var(--fill-color);\n",
              "      border-top-color: var(--fill-color);\n",
              "    }\n",
              "    60% {\n",
              "      border-color: transparent;\n",
              "      border-right-color: var(--fill-color);\n",
              "    }\n",
              "    80% {\n",
              "      border-color: transparent;\n",
              "      border-right-color: var(--fill-color);\n",
              "      border-bottom-color: var(--fill-color);\n",
              "    }\n",
              "    90% {\n",
              "      border-color: transparent;\n",
              "      border-bottom-color: var(--fill-color);\n",
              "    }\n",
              "  }\n",
              "</style>\n",
              "\n",
              "  <script>\n",
              "    async function quickchart(key) {\n",
              "      const quickchartButtonEl =\n",
              "        document.querySelector('#' + key + ' button');\n",
              "      quickchartButtonEl.disabled = true;  // To prevent multiple clicks.\n",
              "      quickchartButtonEl.classList.add('colab-df-spinner');\n",
              "      try {\n",
              "        const charts = await google.colab.kernel.invokeFunction(\n",
              "            'suggestCharts', [key], {});\n",
              "      } catch (error) {\n",
              "        console.error('Error during call to suggestCharts:', error);\n",
              "      }\n",
              "      quickchartButtonEl.classList.remove('colab-df-spinner');\n",
              "      quickchartButtonEl.classList.add('colab-df-quickchart-complete');\n",
              "    }\n",
              "    (() => {\n",
              "      let quickchartButtonEl =\n",
              "        document.querySelector('#df-4ddbcd97-d81c-4754-ad2b-76b62afe975b button');\n",
              "      quickchartButtonEl.style.display =\n",
              "        google.colab.kernel.accessAllowed ? 'block' : 'none';\n",
              "    })();\n",
              "  </script>\n",
              "</div>\n",
              "    </div>\n",
              "  </div>\n"
            ]
          },
          "metadata": {},
          "execution_count": 56
        }
      ]
    },
    {
      "cell_type": "code",
      "source": [
        "X_test_multi = test_samples.drop(axis='columns', columns=['height', 'age_years', 'bmi', 'bp_category'], index=None)"
      ],
      "metadata": {
        "id": "I0E6htaI_kMZ"
      },
      "execution_count": 57,
      "outputs": []
    },
    {
      "cell_type": "code",
      "source": [
        "X_test_multi.head()"
      ],
      "metadata": {
        "colab": {
          "base_uri": "https://localhost:8080/",
          "height": 238
        },
        "id": "CyysaMYKaLgo",
        "outputId": "129ce427-696d-4b6d-c386-5b4dadbd4da1"
      },
      "execution_count": 58,
      "outputs": [
        {
          "output_type": "execute_result",
          "data": {
            "text/plain": [
              "       weight  ap_hi  ap_lo\n",
              "id                         \n",
              "97739    93.0    130     80\n",
              "41567    65.0    120     80\n",
              "70826    72.0    120     80\n",
              "7693     76.0    170     90\n",
              "13593    96.0    120     80"
            ],
            "text/html": [
              "\n",
              "  <div id=\"df-9b97a154-f3d2-4445-84c4-27c686d2dba6\" class=\"colab-df-container\">\n",
              "    <div>\n",
              "<style scoped>\n",
              "    .dataframe tbody tr th:only-of-type {\n",
              "        vertical-align: middle;\n",
              "    }\n",
              "\n",
              "    .dataframe tbody tr th {\n",
              "        vertical-align: top;\n",
              "    }\n",
              "\n",
              "    .dataframe thead th {\n",
              "        text-align: right;\n",
              "    }\n",
              "</style>\n",
              "<table border=\"1\" class=\"dataframe\">\n",
              "  <thead>\n",
              "    <tr style=\"text-align: right;\">\n",
              "      <th></th>\n",
              "      <th>weight</th>\n",
              "      <th>ap_hi</th>\n",
              "      <th>ap_lo</th>\n",
              "    </tr>\n",
              "    <tr>\n",
              "      <th>id</th>\n",
              "      <th></th>\n",
              "      <th></th>\n",
              "      <th></th>\n",
              "    </tr>\n",
              "  </thead>\n",
              "  <tbody>\n",
              "    <tr>\n",
              "      <th>97739</th>\n",
              "      <td>93.0</td>\n",
              "      <td>130</td>\n",
              "      <td>80</td>\n",
              "    </tr>\n",
              "    <tr>\n",
              "      <th>41567</th>\n",
              "      <td>65.0</td>\n",
              "      <td>120</td>\n",
              "      <td>80</td>\n",
              "    </tr>\n",
              "    <tr>\n",
              "      <th>70826</th>\n",
              "      <td>72.0</td>\n",
              "      <td>120</td>\n",
              "      <td>80</td>\n",
              "    </tr>\n",
              "    <tr>\n",
              "      <th>7693</th>\n",
              "      <td>76.0</td>\n",
              "      <td>170</td>\n",
              "      <td>90</td>\n",
              "    </tr>\n",
              "    <tr>\n",
              "      <th>13593</th>\n",
              "      <td>96.0</td>\n",
              "      <td>120</td>\n",
              "      <td>80</td>\n",
              "    </tr>\n",
              "  </tbody>\n",
              "</table>\n",
              "</div>\n",
              "    <div class=\"colab-df-buttons\">\n",
              "\n",
              "  <div class=\"colab-df-container\">\n",
              "    <button class=\"colab-df-convert\" onclick=\"convertToInteractive('df-9b97a154-f3d2-4445-84c4-27c686d2dba6')\"\n",
              "            title=\"Convert this dataframe to an interactive table.\"\n",
              "            style=\"display:none;\">\n",
              "\n",
              "  <svg xmlns=\"http://www.w3.org/2000/svg\" height=\"24px\" viewBox=\"0 -960 960 960\">\n",
              "    <path d=\"M120-120v-720h720v720H120Zm60-500h600v-160H180v160Zm220 220h160v-160H400v160Zm0 220h160v-160H400v160ZM180-400h160v-160H180v160Zm440 0h160v-160H620v160ZM180-180h160v-160H180v160Zm440 0h160v-160H620v160Z\"/>\n",
              "  </svg>\n",
              "    </button>\n",
              "\n",
              "  <style>\n",
              "    .colab-df-container {\n",
              "      display:flex;\n",
              "      gap: 12px;\n",
              "    }\n",
              "\n",
              "    .colab-df-convert {\n",
              "      background-color: #E8F0FE;\n",
              "      border: none;\n",
              "      border-radius: 50%;\n",
              "      cursor: pointer;\n",
              "      display: none;\n",
              "      fill: #1967D2;\n",
              "      height: 32px;\n",
              "      padding: 0 0 0 0;\n",
              "      width: 32px;\n",
              "    }\n",
              "\n",
              "    .colab-df-convert:hover {\n",
              "      background-color: #E2EBFA;\n",
              "      box-shadow: 0px 1px 2px rgba(60, 64, 67, 0.3), 0px 1px 3px 1px rgba(60, 64, 67, 0.15);\n",
              "      fill: #174EA6;\n",
              "    }\n",
              "\n",
              "    .colab-df-buttons div {\n",
              "      margin-bottom: 4px;\n",
              "    }\n",
              "\n",
              "    [theme=dark] .colab-df-convert {\n",
              "      background-color: #3B4455;\n",
              "      fill: #D2E3FC;\n",
              "    }\n",
              "\n",
              "    [theme=dark] .colab-df-convert:hover {\n",
              "      background-color: #434B5C;\n",
              "      box-shadow: 0px 1px 3px 1px rgba(0, 0, 0, 0.15);\n",
              "      filter: drop-shadow(0px 1px 2px rgba(0, 0, 0, 0.3));\n",
              "      fill: #FFFFFF;\n",
              "    }\n",
              "  </style>\n",
              "\n",
              "    <script>\n",
              "      const buttonEl =\n",
              "        document.querySelector('#df-9b97a154-f3d2-4445-84c4-27c686d2dba6 button.colab-df-convert');\n",
              "      buttonEl.style.display =\n",
              "        google.colab.kernel.accessAllowed ? 'block' : 'none';\n",
              "\n",
              "      async function convertToInteractive(key) {\n",
              "        const element = document.querySelector('#df-9b97a154-f3d2-4445-84c4-27c686d2dba6');\n",
              "        const dataTable =\n",
              "          await google.colab.kernel.invokeFunction('convertToInteractive',\n",
              "                                                    [key], {});\n",
              "        if (!dataTable) return;\n",
              "\n",
              "        const docLinkHtml = 'Like what you see? Visit the ' +\n",
              "          '<a target=\"_blank\" href=https://colab.research.google.com/notebooks/data_table.ipynb>data table notebook</a>'\n",
              "          + ' to learn more about interactive tables.';\n",
              "        element.innerHTML = '';\n",
              "        dataTable['output_type'] = 'display_data';\n",
              "        await google.colab.output.renderOutput(dataTable, element);\n",
              "        const docLink = document.createElement('div');\n",
              "        docLink.innerHTML = docLinkHtml;\n",
              "        element.appendChild(docLink);\n",
              "      }\n",
              "    </script>\n",
              "  </div>\n",
              "\n",
              "\n",
              "<div id=\"df-3a2e2bc0-7b0c-4e1a-b5b7-0a67e4bd8dff\">\n",
              "  <button class=\"colab-df-quickchart\" onclick=\"quickchart('df-3a2e2bc0-7b0c-4e1a-b5b7-0a67e4bd8dff')\"\n",
              "            title=\"Suggest charts\"\n",
              "            style=\"display:none;\">\n",
              "\n",
              "<svg xmlns=\"http://www.w3.org/2000/svg\" height=\"24px\"viewBox=\"0 0 24 24\"\n",
              "     width=\"24px\">\n",
              "    <g>\n",
              "        <path d=\"M19 3H5c-1.1 0-2 .9-2 2v14c0 1.1.9 2 2 2h14c1.1 0 2-.9 2-2V5c0-1.1-.9-2-2-2zM9 17H7v-7h2v7zm4 0h-2V7h2v10zm4 0h-2v-4h2v4z\"/>\n",
              "    </g>\n",
              "</svg>\n",
              "  </button>\n",
              "\n",
              "<style>\n",
              "  .colab-df-quickchart {\n",
              "      --bg-color: #E8F0FE;\n",
              "      --fill-color: #1967D2;\n",
              "      --hover-bg-color: #E2EBFA;\n",
              "      --hover-fill-color: #174EA6;\n",
              "      --disabled-fill-color: #AAA;\n",
              "      --disabled-bg-color: #DDD;\n",
              "  }\n",
              "\n",
              "  [theme=dark] .colab-df-quickchart {\n",
              "      --bg-color: #3B4455;\n",
              "      --fill-color: #D2E3FC;\n",
              "      --hover-bg-color: #434B5C;\n",
              "      --hover-fill-color: #FFFFFF;\n",
              "      --disabled-bg-color: #3B4455;\n",
              "      --disabled-fill-color: #666;\n",
              "  }\n",
              "\n",
              "  .colab-df-quickchart {\n",
              "    background-color: var(--bg-color);\n",
              "    border: none;\n",
              "    border-radius: 50%;\n",
              "    cursor: pointer;\n",
              "    display: none;\n",
              "    fill: var(--fill-color);\n",
              "    height: 32px;\n",
              "    padding: 0;\n",
              "    width: 32px;\n",
              "  }\n",
              "\n",
              "  .colab-df-quickchart:hover {\n",
              "    background-color: var(--hover-bg-color);\n",
              "    box-shadow: 0 1px 2px rgba(60, 64, 67, 0.3), 0 1px 3px 1px rgba(60, 64, 67, 0.15);\n",
              "    fill: var(--button-hover-fill-color);\n",
              "  }\n",
              "\n",
              "  .colab-df-quickchart-complete:disabled,\n",
              "  .colab-df-quickchart-complete:disabled:hover {\n",
              "    background-color: var(--disabled-bg-color);\n",
              "    fill: var(--disabled-fill-color);\n",
              "    box-shadow: none;\n",
              "  }\n",
              "\n",
              "  .colab-df-spinner {\n",
              "    border: 2px solid var(--fill-color);\n",
              "    border-color: transparent;\n",
              "    border-bottom-color: var(--fill-color);\n",
              "    animation:\n",
              "      spin 1s steps(1) infinite;\n",
              "  }\n",
              "\n",
              "  @keyframes spin {\n",
              "    0% {\n",
              "      border-color: transparent;\n",
              "      border-bottom-color: var(--fill-color);\n",
              "      border-left-color: var(--fill-color);\n",
              "    }\n",
              "    20% {\n",
              "      border-color: transparent;\n",
              "      border-left-color: var(--fill-color);\n",
              "      border-top-color: var(--fill-color);\n",
              "    }\n",
              "    30% {\n",
              "      border-color: transparent;\n",
              "      border-left-color: var(--fill-color);\n",
              "      border-top-color: var(--fill-color);\n",
              "      border-right-color: var(--fill-color);\n",
              "    }\n",
              "    40% {\n",
              "      border-color: transparent;\n",
              "      border-right-color: var(--fill-color);\n",
              "      border-top-color: var(--fill-color);\n",
              "    }\n",
              "    60% {\n",
              "      border-color: transparent;\n",
              "      border-right-color: var(--fill-color);\n",
              "    }\n",
              "    80% {\n",
              "      border-color: transparent;\n",
              "      border-right-color: var(--fill-color);\n",
              "      border-bottom-color: var(--fill-color);\n",
              "    }\n",
              "    90% {\n",
              "      border-color: transparent;\n",
              "      border-bottom-color: var(--fill-color);\n",
              "    }\n",
              "  }\n",
              "</style>\n",
              "\n",
              "  <script>\n",
              "    async function quickchart(key) {\n",
              "      const quickchartButtonEl =\n",
              "        document.querySelector('#' + key + ' button');\n",
              "      quickchartButtonEl.disabled = true;  // To prevent multiple clicks.\n",
              "      quickchartButtonEl.classList.add('colab-df-spinner');\n",
              "      try {\n",
              "        const charts = await google.colab.kernel.invokeFunction(\n",
              "            'suggestCharts', [key], {});\n",
              "      } catch (error) {\n",
              "        console.error('Error during call to suggestCharts:', error);\n",
              "      }\n",
              "      quickchartButtonEl.classList.remove('colab-df-spinner');\n",
              "      quickchartButtonEl.classList.add('colab-df-quickchart-complete');\n",
              "    }\n",
              "    (() => {\n",
              "      let quickchartButtonEl =\n",
              "        document.querySelector('#df-3a2e2bc0-7b0c-4e1a-b5b7-0a67e4bd8dff button');\n",
              "      quickchartButtonEl.style.display =\n",
              "        google.colab.kernel.accessAllowed ? 'block' : 'none';\n",
              "    })();\n",
              "  </script>\n",
              "</div>\n",
              "    </div>\n",
              "  </div>\n"
            ]
          },
          "metadata": {},
          "execution_count": 58
        }
      ]
    },
    {
      "cell_type": "code",
      "source": [
        "multiReg = LinearRegression().fit(X_multi, Y_multi)\n",
        "\n",
        "Y_predictions_multi_reg = multiReg.predict(X_test_multi)"
      ],
      "metadata": {
        "id": "rPUVSdVH_M6j"
      },
      "execution_count": 59,
      "outputs": []
    },
    {
      "cell_type": "code",
      "source": [
        "X_test_multi.max().max()"
      ],
      "metadata": {
        "colab": {
          "base_uri": "https://localhost:8080/"
        },
        "id": "Ys92HsOpAxaC",
        "outputId": "ca53f05f-f0db-4bd4-b5b5-f92b117893be"
      },
      "execution_count": 60,
      "outputs": [
        {
          "output_type": "execute_result",
          "data": {
            "text/plain": [
              "170.0"
            ]
          },
          "metadata": {},
          "execution_count": 60
        }
      ]
    },
    {
      "cell_type": "code",
      "source": [
        "\n",
        "plt.title('Multiple Regression Line')\n",
        "plt.ylabel('Hypertension | 0 -> Cat 1, 1 -> Cat 2')\n",
        "plt.xlim([X_test_multi.min().min(), X_test_multi.max().max()])\n",
        "plt.ylim([0, 1])\n",
        "#plt.scatter(X_test, Y_test, color=\"black\")\n",
        "plt.scatter(X_test_multi['weight'], Y_predictions_multi_reg, label='wght', color=\"green\", alpha=0.2, linewidth=1)\n",
        "plt.scatter(X_test_multi['ap_hi'], Y_predictions_multi_reg, label='syst', color=\"red\", alpha=0.2, linewidth=1)\n",
        "plt.scatter(X_test_multi['ap_lo'], Y_predictions_multi_reg, label='dias', color=\"blue\", alpha=0.2, linewidth=1)\n",
        "plt.legend()\n",
        "plt.show()"
      ],
      "metadata": {
        "colab": {
          "base_uri": "https://localhost:8080/",
          "height": 452
        },
        "id": "7iCbrLiyAYO1",
        "outputId": "f6f45134-205b-4f0b-9a8f-a5a99c49bc84"
      },
      "execution_count": 61,
      "outputs": [
        {
          "output_type": "display_data",
          "data": {
            "text/plain": [
              "<Figure size 640x480 with 1 Axes>"
            ],
            "image/png": "[encoded data removed]"
          },
          "metadata": {}
        }
      ]
    },
    {
      "cell_type": "code",
      "source": [
        "# slope\n",
        "multiReg.coef_"
      ],
      "metadata": {
        "colab": {
          "base_uri": "https://localhost:8080/"
        },
        "id": "wuGsVvqJ_4z8",
        "outputId": "26c04154-a036-4db8-80b7-aeed05fcf2f9"
      },
      "execution_count": 62,
      "outputs": [
        {
          "output_type": "execute_result",
          "data": {
            "text/plain": [
              "array([[-0.00040092,  0.00985488,  0.03373901]])"
            ]
          },
          "metadata": {},
          "execution_count": 62
        }
      ]
    },
    {
      "cell_type": "code",
      "source": [
        "# intercept\n",
        "multiReg.intercept_"
      ],
      "metadata": {
        "colab": {
          "base_uri": "https://localhost:8080/"
        },
        "id": "I9mFiQydAP76",
        "outputId": "375509a3-9e7d-4367-ccf2-32d9ecd1038a"
      },
      "execution_count": 63,
      "outputs": [
        {
          "output_type": "execute_result",
          "data": {
            "text/plain": [
              "array([-3.82476257])"
            ]
          },
          "metadata": {},
          "execution_count": 63
        }
      ]
    },
    {
      "cell_type": "markdown",
      "source": [
        "# adjusted R2 (https://stackoverflow.com/a/73012709/3148856)"
      ],
      "metadata": {
        "id": "Ln5weyFJMC0W"
      }
    },
    {
      "cell_type": "code",
      "source": [
        "from sklearn.metrics import r2_score\n",
        "\n",
        "def r2(y_test: np.ndarray, y_predicted: np.ndarray):\n",
        "    \"\"\" R2 Score \"\"\"\n",
        "    return r2_score(y_test, y_predicted)\n",
        "\n",
        "def adjr2(y_test: np.ndarray, y_predicted: np.ndarray, no_of_sample: np.int, no_of_variable: np.int):\n",
        "    \"\"\" R2 Score \"\"\"\n",
        "    return 1-(1-r2(y_test,y_predicted))*(no_of_sample-1)/(no_of_sample-no_of_variable)\n",
        "\n",
        "print(r2(Y_test, Y_predictions))\n",
        "\n",
        "print(adjr2(Y_test, Y_predictions, len(samples), 1))\n",
        "\n",
        "print(r2(Y_test, Y_predictions_multi_reg))\n",
        "\n",
        "print(adjr2(Y_test, Y_predictions_multi_reg, len(samples), 3))\n"
      ],
      "metadata": {
        "colab": {
          "base_uri": "https://localhost:8080/"
        },
        "id": "Le3jnMQMD5fP",
        "outputId": "cc9f8141-6ea4-4b95-ae67-cbee52ef1d04"
      },
      "execution_count": 64,
      "outputs": [
        {
          "output_type": "stream",
          "name": "stdout",
          "text": [
            "-0.0212550496016517\n",
            "-0.0212550496016517\n",
            "0.47015134027537364\n",
            "0.4592266256418762\n"
          ]
        },
        {
          "output_type": "stream",
          "name": "stderr",
          "text": [
            "<ipython-input-64-5a3c2adcb2d3>:7: DeprecationWarning: `np.int` is a deprecated alias for the builtin `int`. To silence this warning, use `int` by itself. Doing this will not modify any behavior and is safe. When replacing `np.int`, you may wish to use e.g. `np.int64` or `np.int32` to specify the precision. If you wish to review your current use, check the release note link for additional information.\n",
            "Deprecated in NumPy 1.20; for more details and guidance: https://numpy.org/devdocs/release/1.20.0-notes.html#deprecations\n",
            "  def adjr2(y_test: np.ndarray, y_predicted: np.ndarray, no_of_sample: np.int, no_of_variable: np.int):\n"
          ]
        }
      ]
    },
    {
      "cell_type": "markdown",
      "source": [
        "# References\n",
        "\n",
        "\n",
        "1.   https://stackoverflow.com/a/57401752\n",
        "\n"
      ],
      "metadata": {
        "id": "bQhy2aQf_BaO"
      }
    }
  ]
}